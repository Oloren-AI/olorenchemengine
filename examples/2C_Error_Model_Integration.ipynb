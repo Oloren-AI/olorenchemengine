{
    "cells": [
        {
            "cell_type": "markdown",
            "id": "ea8838fc-c1d5-4459-be76-7bbe45ae8bd7",
            "metadata": {},
            "source": [
                "# Integrated Error Models"
            ]
        },
        {
            "cell_type": "markdown",
            "id": "8136dd92-297f-4ce6-81c7-3cd04ad574ad",
            "metadata": {},
            "source": [
                "In addition to creating your own error models to evaluate pre-trained models, error models can also be built alongside a model."
            ]
        },
        {
            "cell_type": "code",
            "execution_count": null,
            "id": "76687bba-8e3b-4f3d-a918-c4db743862e8",
            "metadata": {},
            "outputs": [
                {
                    "ename": "",
                    "evalue": "",
                    "output_type": "error",
                    "traceback": [
                        "\u001b[1;31mRunning cells with 'Python 3.9.5 64-bit' requires ipykernel package.\n",
                        "\u001b[1;31mRun the following command to install 'ipykernel' into the Python environment. \n",
                        "\u001b[1;31mCommand: '/bin/python3.9 -m pip install ipykernel -U --user --force-reinstall'"
                    ]
                }
            ],
            "source": [
                "import olorenchemengine as oce\n",
                "import pandas as pd\n",
                "import numpy as np\n",
                "import json\n",
                "import tqdm\n",
                "\n",
                "import matplotlib.pyplot as plt\n",
                "from scipy.stats import linregress\n",
                "\n",
                "dataset = oce.load('lipophilicity_dataset.oce')\n",
                "model = oce.RandomForestModel(oce.OlorenCheckpoint(\"default\"), n_estimators=1000)"
            ]
        },
        {
            "cell_type": "markdown",
            "id": "f2a96360-390f-4ef0-9434-025db4ee40a2",
            "metadata": {},
            "source": [
                "To build an error model during model training, simply input the error model you wish to use. Here, we will use the ```oce.SDC``` error model."
            ]
        },
        {
            "cell_type": "code",
            "execution_count": null,
            "id": "c4133a57-dae6-4807-99f1-762e2ad44a1b",
            "metadata": {},
            "outputs": [],
            "source": [
                "error_model = oce.SDC()\n",
                "model.fit(dataset.train_dataset[0], dataset.train_dataset[1], error_model=error_model)"
            ]
        },
        {
            "cell_type": "markdown",
            "id": "21243c18-30c9-4d30-a4b3-62a05bb5b2c3",
            "metadata": {},
            "source": [
                "The error model is now built and stored in ```model.error_model```. From here, any error model methods, such as ```.train()``` and ```.train_cv()``` for aggregate error models, or ```.fit()``` and ```.fit_cv()``` for all error models, can be run. Note that by default, ```.train``` is not run for aggregate error models, and must be run individually before model fitting.\n",
                "\n",
                "Fitting can also be done when running ```model.test()``` by setting ```fit_error_model=True```."
            ]
        },
        {
            "cell_type": "code",
            "execution_count": null,
            "id": "bc8508a2-3617-4eee-9c15-07428f451c6a",
            "metadata": {},
            "outputs": [],
            "source": [
                "model.test(dataset.valid_dataset[0], dataset.valid_dataset[1], fit_error_model=True)"
            ]
        },
        {
            "cell_type": "markdown",
            "id": "e851c0f4-b506-44ea-acf9-9dba5d4561d9",
            "metadata": {},
            "source": [
                "Finally, if a model contains a fitted error model, setting ```return_ci=True``` when running ```model.predict()``` will return the confidence intervals. Setting ```return_vis=True``` will in turn return ```VisualizeError``` objects."
            ]
        },
        {
            "cell_type": "code",
            "execution_count": null,
            "id": "10cbd2d0-06e9-4259-8adf-b5c0961d345c",
            "metadata": {},
            "outputs": [],
            "source": [
                "df = model.predict(dataset.test_dataset[0], return_ci=True, return_vis=True)"
            ]
        },
        {
            "cell_type": "code",
            "execution_count": null,
            "id": "59034192-0be7-4b15-ab0f-7118bd4223d5",
            "metadata": {},
            "outputs": [],
            "source": [
                "df.head()"
            ]
        },
        {
            "cell_type": "code",
            "execution_count": null,
            "id": "0c94b6be-60dc-43a1-bc16-aeee95644851",
            "metadata": {},
            "outputs": [],
            "source": [
                "df.vis[0].render_ipynb()"
            ]
        },
        {
            "cell_type": "markdown",
            "id": "b986ac2a-325a-40d0-a399-78e50a6983d5",
            "metadata": {},
            "source": [
                "# Production Level Models"
            ]
        },
        {
            "cell_type": "markdown",
            "id": "93a12312-b089-4db7-a7ae-055ff436ba92",
            "metadata": {},
            "source": [
                "Production level models use the entire dataset to train the model. As such, metrics and error model training and fitting are done via cross validation. The entire process can be done by calling the ```.fit_cv()``` function."
            ]
        },
        {
            "cell_type": "code",
            "execution_count": null,
            "id": "7b6ddce0-9b8a-43ef-b853-b77e9b3653a1",
            "metadata": {},
            "outputs": [],
            "source": [
                "model = oce.RandomForestModel(oce.OlorenCheckpoint(\"default\"), n_estimators=1000)\n",
                "error_model = oce.SDC()\n",
                "\n",
                "model.fit_cv(dataset.entire_dataset[0], dataset.entire_dataset[1], error_model=error_model, ci = 0.8, scoring = \"r2\")"
            ]
        },
        {
            "cell_type": "markdown",
            "id": "388196ad-5d47-4e06-8b0b-7ffe3cc02ece",
            "metadata": {},
            "source": [
                "The trained error model will be stored in ```model.error_model```"
            ]
        }
    ],
    "metadata": {
        "kernelspec": {
            "display_name": "Python 3.8.13 ('base')",
            "language": "python",
            "name": "python3"
        },
        "language_info": {
            "codemirror_mode": {
                "name": "ipython",
                "version": 3
            },
            "file_extension": ".py",
            "mimetype": "text/x-python",
            "name": "python",
            "nbconvert_exporter": "python",
            "pygments_lexer": "ipython3",
            "version": "3.8.13"
        },
        "vscode": {
            "interpreter": {
                "hash": "02e06ce31cd46c0c1b3d62172fa2abcc25c3f3cab9f1cb7937a5a96ff227b8ea"
            }
        }
    },
    "nbformat": 4,
    "nbformat_minor": 5
}
