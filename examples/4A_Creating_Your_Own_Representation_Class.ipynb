{
    "cells": [
        {
            "cell_type": "markdown",
            "metadata": {},
            "source": [
                "# Building your own molecular representation class\n",
                "\n",
                "This notebook walks through the creation of a custom molecular representation (`BaseCompoundVecRepresentation`) that can be used with model training and predictions in OCE."
            ]
        },
        {
            "cell_type": "markdown",
            "metadata": {},
            "source": [
                "### Parent Class Specs\n",
                "\n",
                "The custom representation class inherits from BaseCompoundVecRepresentation. All representations have two parameters defined from the parent class:<br/>\n",
                "&nbsp;&nbsp;&nbsp;&nbsp;&nbsp;&nbsp;\"scale\": sklearn scaler (or None) which is used to scale the output representation data. Defaults to StandardScaler.<br/>\n",
                "&nbsp;&nbsp;&nbsp;&nbsp;&nbsp;&nbsp;\"collinear_thresh\": Threshold for linear collinearity. Representation features with correlation coefficient above threshold with any other feature is removed."
            ]
        },
        {
            "cell_type": "markdown",
            "metadata": {},
            "source": [
                "### Initialization\n",
                "\n",
                "You may define any custom parameters necessary for representation calculation in the init function of your class. Ensure that initialization allows for keyword arguments which will be passed to the parent class (e.g. scale, collinear_thresh)"
            ]
        },
        {
            "cell_type": "code",
            "execution_count": 1,
            "metadata": {},
            "outputs": [],
            "source": [
                "from olorenchemengine import BaseCompoundVecRepresentation\n",
                "from olorenchemengine import log_arguments\n",
                "\n",
                "class CustomRepresentation(BaseCompoundVecRepresentation):\n",
                "    @log_arguments\n",
                "    def __init__(self, param1, log=True, **kwargs):\n",
                "        self.param1 = param1\n",
                "        super().__init__(log=False, **kwargs)"
            ]
        },
        {
            "cell_type": "markdown",
            "metadata": {},
            "source": [
                "### _convert function\n",
                "\n",
                "The only function needed in your custom representation class is the _convert helper function, which takes as a parameter the SMILES string representation of a single molecule and outputs a numpy array of its representation vector. The numpy array should be of shape (n,), where n is the number of bits/features for one molecule's representation."
            ]
        },
        {
            "cell_type": "code",
            "execution_count": null,
            "metadata": {},
            "outputs": [],
            "source": [
                "class CustomRepresentation(BaseCompoundVecRepresentation):\n",
                "    @log_arguments\n",
                "    def __init__(self, radius = 2, nbits = 1024, log=True, **kwargs):\n",
                "        self.radius = 2\n",
                "        self.nbits = 1024\n",
                "        super().__init__(log=False, **kwargs)\n",
                "    \n",
                "    def _convert(self, smiles, **kwargs):\n",
                "        '''Run calculations on molecule SMILES string.\n",
                "        Example calculation using Morgan Fingerprint from RDKit.\n",
                "        '''\n",
                "        from rdkit import Chem\n",
                "        from rdkit.Chem import AllChem\n",
                "        import numpy as np\n",
                "\n",
                "        m = Chem.MolFromSmiles(smiles)\n",
                "        fp = AllChem.GetMorganFingerprintAsBitVect(m, radius=self.radius, nBits=self.nbits)\n",
                "\n",
                "        return np.array(fp)"
            ]
        },
        {
            "cell_type": "markdown",
            "metadata": {},
            "source": [
                "### Convert!\n",
                "The parent class's convert function automatically calls the child's _convert function to convert lists and single molecule strings."
            ]
        },
        {
            "cell_type": "code",
            "execution_count": null,
            "metadata": {},
            "outputs": [],
            "source": [
                "representation = CustomRepresentation(radius = 2, nbits = 1024)"
            ]
        },
        {
            "cell_type": "code",
            "execution_count": null,
            "metadata": {},
            "outputs": [],
            "source": [
                "single_rep = representation.convert('CN=C=O')"
            ]
        },
        {
            "cell_type": "code",
            "execution_count": null,
            "metadata": {},
            "outputs": [],
            "source": [
                "print(single_rep)\n",
                "print(single_rep.shape)"
            ]
        },
        {
            "cell_type": "code",
            "execution_count": null,
            "metadata": {},
            "outputs": [],
            "source": [
                "list_rep = representation.convert(['CN=C=O', '[Cu+2].[O-]S(=O)(=O)[O-]', 'O=Cc1ccc(O)c(OC)c1 COc1cc(C=O)ccc1O'])"
            ]
        },
        {
            "cell_type": "code",
            "execution_count": null,
            "metadata": {},
            "outputs": [],
            "source": [
                "print(list_rep)\n",
                "print(list_rep.shape)"
            ]
        },
        {
            "cell_type": "markdown",
            "metadata": {},
            "source": [
                "### Using the representation in a model\n",
                "You may now use your newly created representation class in any OCE model"
            ]
        },
        {
            "cell_type": "code",
            "execution_count": null,
            "metadata": {},
            "outputs": [],
            "source": [
                "import olorenchemengine as oce\n",
                "import pandas as pd\n",
                "\n",
                "#load dataset\n",
                "df = pd.read_csv(\"https://storage.googleapis.com/oloren-public-data/CHEMBL%20Datasets/997_2298%20-%20VEGFR1%20(CHEMBL1868).csv\")\n",
                "dataset = (oce.BaseDataset(data = df.to_csv(),\n",
                "    structure_col = \"Smiles\", property_col = \"pChEMBL Value\") +\n",
                "           oce.CleanStructures() + \n",
                "           oce.RandomSplit()\n",
                ")"
            ]
        },
        {
            "cell_type": "code",
            "execution_count": null,
            "metadata": {},
            "outputs": [],
            "source": [
                "model = oce.BaseBoosting([\n",
                "    oce.RandomForestModel(representation = representation, n_estimators=1000),\n",
                "    oce.RandomForestModel(oce.OlorenCheckpoint(\"default\"), n_estimators=1000),\n",
                "    oce.ChemPropModel(epochs=20, batch_size=64)\n",
                "])"
            ]
        },
        {
            "cell_type": "code",
            "execution_count": null,
            "metadata": {},
            "outputs": [],
            "source": [
                "model.fit(*dataset.train_dataset)\n",
                "model.test(*dataset.test_dataset)"
            ]
        }
    ],
    "metadata": {
        "kernelspec": {
            "display_name": "Python 3.9.5 64-bit",
            "language": "python",
            "name": "python3"
        },
        "language_info": {
            "codemirror_mode": {
                "name": "ipython",
                "version": 3
            },
            "file_extension": ".py",
            "mimetype": "text/x-python",
            "name": "python",
            "nbconvert_exporter": "python",
            "pygments_lexer": "ipython3",
            "version": "3.9.5"
        },
        "orig_nbformat": 4,
        "vscode": {
            "interpreter": {
                "hash": "f9f85f796d01129d0dd105a088854619f454435301f6ffec2fea96ecbd9be4ac"
            }
        }
    },
    "nbformat": 4,
    "nbformat_minor": 2
}
