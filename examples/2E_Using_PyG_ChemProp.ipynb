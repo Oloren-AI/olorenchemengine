{
    "cells": [
        {
            "cell_type": "markdown",
            "id": "fc06f259-af25-4b04-91a0-158655eb5883",
            "metadata": {},
            "source": [
                "# PyG ChemProp Implementation"
            ]
        },
        {
            "cell_type": "markdown",
            "id": "6a0b960a-11f1-48a4-a880-52fd3e13868a",
            "metadata": {},
            "source": [
                "## Background\n",
                "\\\"ChemProp\\\" is a simple but effective Graph Neural Network (GNN) for Molecular Property Prediction, first used successfully in anti-biotic discovery in 2019 by [Yang et al.](https://doi.org/10.1021/acs.jcim.9b00237) Like SPGNNs, it provides an alternative way to represent molecules as 3D graphs with nodes (atoms) and edges (bonds) instead of a 1D string representation (\\\"SMILES\\\"), which can provide added functionality.\n",
                "\n",
                "Here, we will briefly overview the implementation of the original ChemProp model oce uses which is adapted from Takigawa's [Github repository](https://github.com/itakigawa/pyg_chemprop). We will discuss its functionality with oce's BaseModel structure and compare our results to the original ChemProp's results."
            ]
        },
        {
            "cell_type": "markdown",
            "id": "5c2ac316-afa5-4275-b3bd-6c601c622123",
            "metadata": {},
            "source": [
                "## ChemProp Model Training\n",
                "In this example, we will train a ChemProp model on the HIV dataset from [Stanford OGB](https://ogb.stanford.edu/docs/graphprop/)."
            ]
        },
        {
            "cell_type": "code",
            "execution_count": null,
            "id": "ad5c652b-4ede-43cb-a05f-0d252b3054f3",
            "metadata": {},
            "outputs": [],
            "source": [
                "import io\n",
                "import sys\n",
                "import zipfile\n",
                "\n",
                "import pandas as pd\n",
                "import requests\n",
                "from sklearn.metrics import accuracy_score, roc_auc_score\n",
                "from sklearn.model_selection import train_test_split\n",
                "\n",
                "import olorenchemengine as oce"
            ]
        },
        {
            "cell_type": "markdown",
            "id": "cb7995fb-8506-47d7-ae9e-6cb76ce1200f",
            "metadata": {},
            "source": [
                "Next, we create the dataset, check our model's definition, and fit it to training data. oce's backend takes care of all of this in just a few lines of code, from train-test splits to preprocessing to SMILES-to-graph conversions."
            ]
        },
        {
            "cell_type": "code",
            "execution_count": null,
            "id": "6b5d96d2-e5a3-4131-a23e-f22ef055e758",
            "metadata": {},
            "outputs": [],
            "source": [
                "data_dir = \"./data\"\n",
                "data_url = \"http://snap.stanford.edu/ogb/data/graphproppred/csv_mol_download/hiv.zip\"\n",
                "r = requests.get(data_url)\n",
                "z = zipfile.ZipFile(io.BytesIO(r.content))\n",
                "z.extractall(data_dir)\n",
                "df = pd.read_csv(f\"{data_dir}/hiv/mapping/mol.csv.gz\")\n",
                "\n",
                "X_train, X_test, y_train, y_test = train_test_split(df[\"smiles\"], df[\"HIV_active\"], test_size=0.2, random_state=42)\n",
                "\n",
                "model = oce.ChemPropModel()\n",
                "model.fit(X_train, y_train)"
            ]
        },
        {
            "cell_type": "markdown",
            "id": "2f532834-92bb-4493-9622-e0689cdf0df8",
            "metadata": {},
            "source": [
                "Now, we'll evaluate the results of our training/fitting on the test set, and see if we can achieve a better accuracy than the original example dataset, which has an ROC_AUC score (auc) of 0.679 and an Accuracy score (acc) of 0.968."
            ]
        },
        {
            "cell_type": "code",
            "execution_count": 3,
            "id": "304ee905-63ae-4a37-ad4d-f3e4923a091c",
            "metadata": {},
            "outputs": [
                {
                    "name": "stderr",
                    "output_type": "stream",
                    "text": [
                        "8226it [00:22, 364.44it/s]\n",
                        "100%|██████████| 165/165 [00:10<00:00, 16.49it/s]\n",
                        "test auc=0.704605 acc=0.963895\n"
                    ]
                }
            ],
            "source": [
                "y_pred = model.predict(X_test)\n",
                "\n",
                "auc = roc_auc_score(y_test, y_pred)\n",
                "acc = accuracy_score(y_test, (y_pred > 0.5).astype(int))\n",
                "print(f\"test auc={auc:.6} acc={acc:.6}\", file=sys.stderr)"
            ]
        }
    ],
    "metadata": {
        "kernelspec": {
            "display_name": "Python 3.9.7",
            "language": "python",
            "name": "python3"
        },
        "language_info": {
            "codemirror_mode": {
                "name": "ipython",
                "version": 3
            },
            "file_extension": ".py",
            "mimetype": "text/x-python",
            "name": "python",
            "nbconvert_exporter": "python",
            "pygments_lexer": "ipython3",
            "version": "3.9.7"
        },
        "vscode": {
            "interpreter": {
                "hash": "5837f1dbcd4049a1712b9ca54d5679f9c62dbf8da74560e1982300671abe64ef"
            }
        }
    },
    "nbformat": 4,
    "nbformat_minor": 5
}