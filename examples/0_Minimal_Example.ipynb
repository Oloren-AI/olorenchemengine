{
    "cells": [
        {
            "cell_type": "markdown",
            "metadata": {},
            "source": [
                "# 0 - Minimal Example\n",
                "\n",
                "This example is to illustrate core functionality of Oloren Chem Engine. In depth\n",
                "tutorials of these features and core classes are provided in the notebooks prefixed\n",
                "by '1'. Advanced usage is provided in the notebooks prefixed by '2'. Custom\n",
                "implementation of functionality is provided in the notebooks prefixed by '3'."
            ]
        },
        {
            "cell_type": "code",
            "execution_count": 1,
            "metadata": {},
            "outputs": [
                {
                    "name": "stderr",
                    "output_type": "stream",
                    "text": [
                        "2022-12-29 03:58:25.997255: I tensorflow/core/platform/cpu_feature_guard.cc:193] This TensorFlow binary is optimized with oneAPI Deep Neural Network Library (oneDNN) to use the following CPU instructions in performance-critical operations:  AVX2 FMA\n",
                        "To enable them in other operations, rebuild TensorFlow with the appropriate compiler flags.\n",
                        "2022-12-29 03:58:26.767565: W tensorflow/compiler/xla/stream_executor/platform/default/dso_loader.cc:64] Could not load dynamic library 'libnvinfer.so.7'; dlerror: libnvinfer.so.7: cannot open shared object file: No such file or directory\n",
                        "2022-12-29 03:58:26.767653: W tensorflow/compiler/xla/stream_executor/platform/default/dso_loader.cc:64] Could not load dynamic library 'libnvinfer_plugin.so.7'; dlerror: libnvinfer_plugin.so.7: cannot open shared object file: No such file or directory\n",
                        "2022-12-29 03:58:26.767660: W tensorflow/compiler/tf2tensorrt/utils/py_utils.cc:38] TF-TRT Warning: Cannot dlopen some TensorRT libraries. If you would like to use Nvidia GPU with TensorRT, please make sure the missing libraries mentioned above are installed properly.\n"
                    ]
                },
                {
                    "name": "stdout",
                    "output_type": "stream",
                    "text": [
                        "0 structure(s) were removed.\n"
                    ]
                }
            ],
            "source": [
                "import olorenchemengine as oce\n",
                "import pandas as pd\n",
                "\n",
                "df = pd.read_csv(\"https://storage.googleapis.com/oloren-public-data/CHEMBL%20Datasets/997_2298%20-%20VEGFR1%20(CHEMBL1868).csv\")\n",
                "dataset = (oce.BaseDataset(data = df.to_csv(),\n",
                "    structure_col = \"Smiles\", property_col = \"pChEMBL Value\") +\n",
                "           oce.CleanStructures() + \n",
                "           oce.ScaffoldSplit()\n",
                ")"
            ]
        },
        {
            "cell_type": "code",
            "execution_count": 2,
            "metadata": {},
            "outputs": [
                {
                    "name": "stderr",
                    "output_type": "stream",
                    "text": [
                        "790it [00:02, 289.55it/s]\n",
                        "790it [00:02, 272.57it/s]\n",
                        "100%|██████████| 13/13 [00:00<00:00, 238.13it/s]\n"
                    ]
                }
            ],
            "source": [
                "model = oce.BaseBoosting([\n",
                "    oce.RandomForestModel(oce.DescriptastorusDescriptor(\"morgan3counts\"), n_estimators=1000),\n",
                "    oce.RandomForestModel(oce.OlorenCheckpoint(\"default\"), n_estimators=1000),\n",
                "    oce.ChemPropModel(epochs=20, batch_size=64)\n",
                "])\n",
                "\n",
                "model.fit(*dataset.train_dataset)"
            ]
        },
        {
            "cell_type": "code",
            "execution_count": 3,
            "metadata": {},
            "outputs": [
                {
                    "name": "stderr",
                    "output_type": "stream",
                    "text": [
                        "100it [00:00, 301.36it/s]\n",
                        "100%|██████████| 2/2 [00:00<00:00, 238.63it/s]\n"
                    ]
                },
                {
                    "data": {
                        "text/plain": [
                            "{'r2': 0.5452633756506161,\n",
                            " 'Spearman': 0.7784959345185842,\n",
                            " 'Explained Variance': 0.5949236200632468,\n",
                            " 'Max Error': 2.5975678196477157,\n",
                            " 'Mean Absolute Error': 0.5007694841205477,\n",
                            " 'Mean Squared Error': 0.5537952864718954,\n",
                            " 'Root Mean Squared Error': 0.7441742312603248}"
                        ]
                    },
                    "execution_count": 3,
                    "metadata": {},
                    "output_type": "execute_result"
                }
            ],
            "source": [
                "model.test(*dataset.test_dataset)"
            ]
        },
        {
            "cell_type": "code",
            "execution_count": 4,
            "metadata": {},
            "outputs": [
                {
                    "name": "stderr",
                    "output_type": "stream",
                    "text": [
                        "790it [00:02, 291.79it/s]\n",
                        "790it [00:02, 296.16it/s]\n",
                        "100%|██████████| 13/13 [00:00<00:00, 244.67it/s]\n",
                        "790it [00:02, 293.12it/s]\n",
                        "100%|██████████| 13/13 [00:00<00:00, 240.45it/s]\n",
                        "159it [00:00, 286.77it/s]\n",
                        "159it [00:00, 293.94it/s]\n",
                        "100%|██████████| 3/3 [00:00<00:00, 245.58it/s]\n",
                        "631it [00:02, 296.19it/s]\n",
                        "100%|██████████| 10/10 [00:00<00:00, 234.71it/s]\n",
                        "159it [00:00, 286.95it/s]\n",
                        "100%|██████████| 3/3 [00:00<00:00, 237.70it/s]\n",
                        "631it [00:00, 1572.79it/s]\n",
                        "159it [00:00, 287.26it/s]\n",
                        "159it [00:00, 299.01it/s]\n",
                        "100%|██████████| 3/3 [00:00<00:00, 249.55it/s]\n",
                        "631it [00:02, 294.94it/s]\n",
                        "100%|██████████| 10/10 [00:00<00:00, 228.73it/s]\n",
                        "159it [00:00, 295.53it/s]\n",
                        "100%|██████████| 3/3 [00:00<00:00, 244.52it/s]\n",
                        "631it [00:00, 1586.26it/s]\n",
                        "159it [00:00, 301.55it/s]\n",
                        "159it [00:00, 307.25it/s]\n",
                        "100%|██████████| 3/3 [00:00<00:00, 249.41it/s]\n",
                        "631it [00:02, 293.37it/s]\n",
                        "100%|██████████| 10/10 [00:00<00:00, 233.27it/s]\n",
                        "159it [00:00, 300.40it/s]\n",
                        "100%|██████████| 3/3 [00:00<00:00, 228.17it/s]\n",
                        "631it [00:00, 1590.54it/s]\n",
                        "159it [00:00, 204.14it/s]\n",
                        "159it [00:00, 287.72it/s]\n",
                        "100%|██████████| 3/3 [00:00<00:00, 241.69it/s]\n",
                        "631it [00:02, 297.39it/s]\n",
                        "100%|██████████| 10/10 [00:00<00:00, 233.06it/s]\n",
                        "159it [00:00, 288.45it/s]\n",
                        "100%|██████████| 3/3 [00:00<00:00, 232.62it/s]\n",
                        "631it [00:00, 1563.40it/s]\n",
                        "154it [00:00, 288.88it/s]\n",
                        "154it [00:00, 291.94it/s]\n",
                        "100%|██████████| 3/3 [00:00<00:00, 225.10it/s]\n",
                        "636it [00:02, 299.81it/s]\n",
                        "100%|██████████| 10/10 [00:00<00:00, 207.90it/s]\n",
                        "154it [00:00, 295.42it/s]\n",
                        "100%|██████████| 3/3 [00:00<00:00, 240.17it/s]\n",
                        "636it [00:00, 1567.33it/s]\n",
                        "790it [00:03, 259.29it/s]\n",
                        "100%|██████████| 13/13 [00:00<00:00, 188.02it/s]\n"
                    ]
                },
                {
                    "data": {
                        "text/plain": [
                            "[0.46459183983941876,\n",
                            " 0.4263721628711872,\n",
                            " 0.40946986973384736,\n",
                            " 0.4449925997238581,\n",
                            " 0.4749022516025433]"
                        ]
                    },
                    "execution_count": 4,
                    "metadata": {},
                    "output_type": "execute_result"
                }
            ],
            "source": [
                "model.fit_cv(*dataset.train_dataset, error_model = oce.KernelRegressionError(kernel = \"sdc\", ci=0.8))"
            ]
        },
        {
            "cell_type": "code",
            "execution_count": 9,
            "metadata": {},
            "outputs": [],
            "source": [
                "oce.save(model, \"tmp.oce\")"
            ]
        },
        {
            "cell_type": "code",
            "execution_count": 10,
            "metadata": {},
            "outputs": [
                {
                    "name": "stderr",
                    "output_type": "stream",
                    "text": [
                        "100it [00:00, 292.72it/s]\n",
                        "100%|██████████| 2/2 [00:00<00:00, 221.04it/s]\n",
                        "100it [00:00, 296.97it/s]\n",
                        "100%|██████████| 2/2 [00:00<00:00, 240.62it/s]\n",
                        "100it [00:00, 611.24it/s]\n"
                    ]
                }
            ],
            "source": [
                "results = model.predict(dataset.test_dataset[0], return_ci = True, return_vis = True)"
            ]
        },
        {
            "cell_type": "code",
            "execution_count": 11,
            "metadata": {},
            "outputs": [
                {
                    "data": {
                        "text/html": [
                            "\n",
                            "        <iframe\n",
                            "            width=\"800\"\n",
                            "            height=\"600\"\n",
                            "            src=\"data:text/html,%0A%20%20%20%20%20%20%20%20%3C%21DOCTYPE%20html%3E%0A%20%20%20%20%20%20%20%20%3Chead%3E%0A%20%20%20%20%20%20%20%20%3Cmeta%20charset%3D%22utf-8%22%3E%0A%20%20%20%20%20%20%20%20%3Cmeta%20http-equiv%3D%22x-ua-compatible%22%20content%3D%22ie%3Dedge%22%20%2F%3E%0A%20%20%20%20%20%20%20%20%3Cmeta%20name%3D%22viewport%22%20content%3D%22width%3Ddevice-width%2C%20initial-scale%3D1%22%20%2F%3E%0A%20%20%20%20%20%20%20%20%3C%2Fhead%3E%0A%0A%20%20%20%20%20%20%20%20%3Chtml%20style%3D%22height%3A%20100%25%3B%22%3E%0A%0A%20%20%20%20%20%20%20%20%3C%21--%20Load%20packages%20--%3E%0A%20%20%20%20%20%20%20%20%3Cscript%20src%20%3D%20%22https%3A%2F%2Fcdn.plot.ly%2Fplotly-2.14.0.min.js%22%3E%3C%2Fscript%3E%0A%20%20%20%20%20%20%20%20%3Cbody%20style%3D%22background-color%3A%23FFFFFF%3B%20height%3A%20100%25%3B%22%3E%0A%20%20%20%20%20%20%20%20%3C%21--%20Create%20a%20div%20where%20the%20graph%20will%20take%20place%20--%3E%0A%20%20%20%20%20%20%20%20%3Cdiv%20id%3D%22basevis-entry%22%20data-visdata%3D%22%7B%26quot%3Breference%26quot%3B%3A%5B6.21%2C6.38%2C6.22%2C6.82%2C6.46%2C6.85%2C6.96%2C6.85%2C6.96%2C7.1%2C7.11%2C6.22%2C6.85%2C6.85%2C6.96%2C7.16%2C6.42%2C6.62%2C6.85%2C5.64%2C6.96%2C7.22%2C6.19%2C7.11%2C6.58%2C7.4%2C6.48%2C7.27%2C6.85%2C5.52%2C4.66%2C4.75%2C6.7%2C6.4%2C7.52%2C4.85%2C4.96%2C7.52%2C5.82%2C4.85%2C6.1%2C4.85%2C4.58%2C6.52%2C4.75%2C5.7%2C5.7%2C6.7%2C4.75%2C4.85%2C6.4%2C6.05%2C6.48%2C5.69%2C5.95%2C6.46%2C6.68%2C6.14%2C6.55%2C6.08%2C6.6%2C5.34%2C6.12%2C6.54%2C6.18%2C5.95%2C6.89%2C5.69%2C6.89%2C6.6%2C6.07%2C6.89%2C5.95%2C6.29%2C6.19%2C7.14%2C5.95%2C6.18%2C6.28%2C6.96%2C7.18%2C6.89%2C6.75%2C6.21%2C6.58%2C6.14%2C6.3%2C6.57%2C6.11%2C6.92%2C5.97%2C6.25%2C6.5%2C6.66%2C7.7%2C7.8%2C8.0%2C8.3%2C8.7%2C8.4%2C7.89%2C8.3%2C8.4%2C8.52%2C8.52%2C7.3%2C7.3%2C7.3%2C7.3%2C7.3%2C7.3%2C7.3%2C7.3%2C7.3%2C7.3%2C6.85%2C6.31%2C6.21%2C6.24%2C6.11%2C6.58%2C5.94%2C6.36%2C6.16%2C6.02%2C6.47%2C6.66%2C6.13%2C5.9%2C6.27%2C6.12%2C6.39%2C6.66%2C8.1%2C5.52%2C6.94%2C7.37%2C6.69%2C6.44%2C9.0%2C7.37%2C7.55%2C7.3%2C7.3%2C7.3%2C7.3%2C7.3%2C7.3%2C7.3%2C7.3%2C7.3%2C8.4%2C8.4%2C8.22%2C8.4%2C8.3%2C8.52%2C8.3%2C7.62%2C8.4%2C7.85%2C7.85%2C7.7%2C7.08%2C7.44%2C7.42%2C7.19%2C7.6%2C6.0%2C6.0%2C6.0%2C6.0%2C6.0%2C6.0%2C6.0%2C6.0%2C6.06%2C5.78%2C5.33%2C4.6%2C5.64%2C5.54%2C5.38%2C4.94%2C7.52%2C6.54%2C6.35%2C6.54%2C6.43%2C6.57%2C7.1%2C6.62%2C7.02%2C6.95%2C6.74%2C7.18%2C7.21%2C6.79%2C6.79%2C8.3%2C7.96%2C8.05%2C8.22%2C7.85%2C8.05%2C7.89%2C8.84%2C8.68%2C8.69%2C7.5%2C8.37%2C8.72%2C8.9%2C7.72%2C7.46%2C8.27%2C7.8%2C7.83%2C8.2%2C8.09%2C6.57%2C6.15%2C6.12%2C6.08%2C6.66%2C6.03%2C6.09%2C6.98%2C7.63%2C6.56%2C7.47%2C7.89%2C7.47%2C7.64%2C7.55%2C6.76%2C7.21%2C7.09%2C7.46%2C7.16%2C6.49%2C6.13%2C6.28%2C6.17%2C6.32%2C6.33%2C5.91%2C4.18%2C4.52%2C5.28%2C4.02%2C4.0%2C4.11%2C8.15%2C6.48%2C6.73%2C6.86%2C8.07%2C8.11%2C8.15%2C6.78%2C7.96%2C7.6%2C7.7%2C7.54%2C6.0%2C6.0%2C6.0%2C6.0%2C7.3%2C7.3%2C7.51%2C7.75%2C6.78%2C8.82%2C7.89%2C5.41%2C6.1%2C6.03%2C5.37%2C5.34%2C4.21%2C4.44%2C4.04%2C4.37%2C4.21%2C4.46%2C4.64%2C4.5%2C4.6%2C4.4%2C6.1%2C6.52%2C6.16%2C5.09%2C6.16%2C8.1%2C8.52%2C8.1%2C8.0%2C7.8%2C7.82%2C6.8%2C6.8%2C6.8%2C6.8%2C5.27%2C5.19%2C5.52%2C5.27%2C5.34%2C7.36%2C5.69%2C5.42%2C6.21%2C6.23%2C8.0%2C7.82%2C7.75%2C7.8%2C8.1%2C7.4%2C6.24%2C6.85%2C6.38%2C6.68%2C8.05%2C7.96%2C7.89%2C8.15%2C8.52%2C4.35%2C4.49%2C4.35%2C4.5%2C6.65%2C6.69%2C7.13%2C7.23%2C6.82%2C7.26%2C7.16%2C7.14%2C8.0%2C7.41%2C7.12%2C7.1%2C4.72%2C4.72%2C4.8%2C4.51%2C7.3%2C7.3%2C7.3%2C7.3%2C7.7%2C6.87%2C6.82%2C6.15%2C8.07%2C9.1%2C8.17%2C8.17%2C3.99%2C3.8%2C4.0%2C4.12%2C8.0%2C8.05%2C8.15%2C7.82%2C7.43%2C7.16%2C8.52%2C8.52%2C7.01%2C7.46%2C8.0%2C8.0%2C8.7%2C7.55%2C6.82%2C8.0%2C8.13%2C8.49%2C8.49%2C6.0%2C6.0%2C6.0%2C7.42%2C7.62%2C7.8%2C9.68%2C7.95%2C8.2%2C6.3%2C6.82%2C6.7%2C6.66%2C5.7%2C5.85%2C6.16%2C6.3%2C6.3%2C6.77%2C8.7%2C8.7%2C9.0%2C7.82%2C8.4%2C4.82%2C4.29%2C7.92%2C6.3%2C6.72%2C6.6%2C8.26%2C8.02%2C8.15%2C8.15%2C8.15%2C8.15%2C8.52%2C6.52%2C5.9%2C6.19%2C5.41%2C6.12%2C6.54%2C6.38%2C7.09%2C6.05%2C5.41%2C5.97%2C6.77%2C6.68%2C8.4%2C8.3%2C8.38%2C8.03%2C8.3%2C8.3%2C8.43%2C7.68%2C7.44%2C8.4%2C4.0%2C4.1%2C6.7%2C6.7%2C7.7%2C7.7%2C7.3%2C4.2%2C10.0%2C10.0%2C6.89%2C7.26%2C7.3%2C7.3%2C6.24%2C6.48%2C7.34%2C6.19%2C8.0%2C7.72%2C5.46%2C5.51%2C4.82%2C4.82%2C8.52%2C8.0%2C5.68%2C5.89%2C5.96%2C5.96%2C5.64%2C5.78%2C7.89%2C8.0%2C7.8%2C7.55%2C8.7%2C8.7%2C4.17%2C4.47%2C7.77%2C6.95%2C7.89%2C7.85%2C5.82%2C4.82%2C9.0%2C6.77%2C4.55%2C4.55%2C6.74%2C8.4%2C7.92%2C7.92%2C7.55%2C6.79%2C7.89%2C7.47%2C8.1%2C7.77%2C8.52%2C8.15%2C5.16%2C5.26%2C4.03%2C4.06%2C7.48%2C8.44%2C5.46%2C8.3%2C8.4%2C7.7%2C4.82%2C4.3%2C6.22%2C6.26%2C7.66%2C7.66%2C7.4%2C6.68%2C7.0%2C7.0%2C8.52%2C5.0%2C5.55%2C8.31%2C7.96%2C6.36%2C4.98%2C7.82%2C6.39%2C6.52%2C6.46%2C6.85%2C8.19%2C4.64%2C5.82%2C7.62%2C5.94%2C6.75%2C5.65%2C7.32%2C6.16%2C7.26%2C7.66%2C6.38%2C5.38%2C4.71%2C7.64%2C6.0%2C5.58%2C6.51%2C6.1%2C6.35%2C7.16%2C6.5%2C4.51%2C7.3%2C5.52%2C6.12%2C6.8%2C7.43%2C8.4%2C7.33%2C4.64%2C7.4%2C6.12%2C5.36%2C7.7%2C6.19%2C6.88%2C5.72%2C6.0%2C6.6%2C7.66%2C8.08%2C5.36%2C6.23%2C8.22%2C7.3%2C8.11%2C4.08%2C5.77%2C6.91%2C8.57%2C5.28%2C7.38%2C6.16%2C6.43%2C7.23%2C5.58%2C7.46%2C5.43%2C8.89%2C8.0%2C6.57%2C7.14%2C7.75%2C5.97%2C6.89%2C6.64%2C4.03%2C7.81%2C6.14%2C5.76%2C4.29%2C6.66%2C5.68%2C8.22%2C7.25%2C5.28%2C7.2%2C4.37%2C6.49%2C6.55%2C5.24%2C6.0%2C6.5%2C7.16%2C5.71%2C8.1%2C6.3%2C4.03%2C6.52%2C7.41%2C4.19%2C7.16%2C4.3%2C8.7%2C4.25%2C7.05%2C7.7%2C5.24%2C6.97%2C8.1%2C7.16%2C4.12%2C7.3%2C5.41%2C7.12%2C7.3%2C8.52%2C6.75%2C6.52%2C7.27%2C5.25%2C6.47%2C8.7%2C7.92%2C5.41%2C8.52%2C6.11%2C5.96%2C5.5%2C7.82%2C6.27%2C8.0%2C5.01%2C4.1%2C6.33%2C6.33%2C5.58%2C6.58%2C6.07%2C5.05%2C5.0%2C6.42%2C8.52%2C6.64%2C6.22%2C4.64%2C6.44%2C7.3%2C6.6%2C6.41%2C7.85%2C6.36%2C7.6%2C7.3%2C8.0%2C8.22%2C6.88%2C6.22%2C7.51%2C7.37%2C6.15%2C5.44%2C5.52%2C7.82%2C4.04%2C7.2%2C7.96%2C5.63%2C8.0%2C8.4%2C5.38%2C6.05%2C7.13%2C6.3%2C5.37%2C5.36%2C7.7%2C6.7%2C6.04%2C5.15%2C7.68%2C6.57%2C5.48%2C4.48%2C9.0%2C6.84%2C7.0%2C4.51%2C5.28%2C6.57%2C6.16%2C5.09%2C7.13%2C5.37%2C6.64%2C7.42%2C6.23%2C6.21%2C6.06%2C7.22%2C6.68%2C5.11%2C6.4%2C7.0%2C5.6%2C5.54%2C6.19%2C5.6%2C7.55%2C10.0%2C7.35%2C5.72%2C7.77%2C8.28%2C6.42%2C6.7%2C6.19%2C4.02%2C7.66%2C6.33%2C8.7%2C5.82%2C8.3%2C5.25%2C4.95%2C7.02%2C5.42%2C5.22%2C4.71%2C6.01%2C4.66%2C8.1%2C6.77%2C5.66%2C9.3%2C5.32%2C8.15%2C6.8%2C5.24%2C6.52%2C6.13%2C6.62%2C6.03%2C5.83%2C7.36%2C5.55%2C7.8%2C6.52%2C6.42%2C4.75%2C5.04%2C5.82%2C8.52%2C6.34%2C5.72%2C5.77%2C5.92%2C4.44%2C6.0%5D%2C%26quot%3Bvalue%26quot%3B%3A5.91130661292535%2C%26quot%3Blower_error%26quot%3B%3A0%2C%26quot%3Bupper_error%26quot%3B%3A0.7463056409095122%2C%26quot%3Btitle%26quot%3B%3A%26quot%3BError%20Plot%26quot%3B%2C%26quot%3Bxaxis_title%26quot%3B%3A%26quot%3BProperty%20Value%26quot%3B%2C%26quot%3Byaxis_title%26quot%3B%3A%26quot%3BDensity%26quot%3B%2C%26quot%3Bwidth%26quot%3B%3A800%2C%26quot%3Bheight%26quot%3B%3A600%2C%26quot%3Bpoints%26quot%3B%3A%26quot%3B%20%26quot%3B%2C%26quot%3Bci%26quot%3B%3A80%7D%22%20style%3D%22width%3A%20100%25%3B%20height%3A%20100%25%3B%20display%3Ainline-block%3B%22%3E%3C%2Fdiv%3E%0A%20%20%20%20%20%20%20%20%3C%2Fbody%3E%0A%20%20%20%20%20%20%20%20%3C%2Fmeta%3E%0A%20%20%20%20%20%20%20%20%3Cscript%3Evar%20plot%20%3D%20document.getElementById%28%22basevis-entry%22%29%3B%0Avar%20data%20%3D%20JSON.parse%28document.getElementById%28%22basevis-entry%22%29.dataset.visdata%29%3B%0A%0Avar%20trace%20%3D%20%7B%0A%20%20%20%20hoverinfo%3A%20%22x%22%2C%0A%20%20%20%20hoveron%3A%20%22points%2Bkde%22%2C%0A%20%20%20%20points%3A%20%22skip%22%2C%0A%20%20%20%20pointpos%3A%20-0.05%2C%0A%20%20%20%20box%3A%20%7B%7D%2C%0A%20%20%20%20jitter%3A%200%2C%0A%20%20%20%20name%3A%20%22Training%20Distribution%22%2C%0A%20%20%20%20showlegend%3A%20true%2C%0A%20%20%20%20marker%3A%20%7B%0A%20%20%20%20%20%20%20%20line%3A%20%7B%0A%20%20%20%20%20%20%20%20%20%20%20%20width%3A%200.1%2C%0A%20%20%20%20%20%20%20%20%20%20%20%20color%3A%20%22%238dd3c7%22%0A%20%20%20%20%20%20%20%20%7D%2C%0A%20%20%20%20%20%20%20%20size%3A%2010%2C%0A%20%20%20%20%20%20%20%20symbol%3A%20%22line-ns%22%0A%20%20%20%20%7D%2C%0A%20%20%20%20side%3A%20%22positive%22%2C%0A%20%20%20%20type%3A%20%22violin%22%2C%0A%20%20%20%20line%3A%20%7B%0A%20%20%20%20%20%20%20%20color%3A%20%22%238dd3c7%22%0A%20%20%20%20%7D%2C%0A%20%20%20%20y0%3A%20%22%20%22%2C%0A%20%20%20%20x%3A%20data.reference%2C%0A%20%20%20%20orientation%3A%20%22h%22%0A%7D%0A%0Avar%20trace2%20%3D%20%7B%0A%20%20%20%20hoverinfo%3A%20%22skip%22%2C%0A%20%20%20%20name%3A%20%22Predicted%20Value%20and%20CI%22%2C%0A%20%20%20%20showlegend%3A%20true%2C%0A%20%20%20%20side%3A%20%22positive%22%2C%0A%20%20%20%20type%3A%20%22violin%22%2C%0A%20%20%20%20visible%3A%20%22legendonly%22%2C%0A%20%20%20%20line%3A%20%7B%0A%20%20%20%20%20%20%20%20color%3A%20%22%23bebada%22%2C%0A%20%20%20%20%7D%2C%0A%20%20%20%20y0%3A%20%22%20%22%2C%0A%20%20%20%20x%3A%20%5Bdata.value%5D%2C%0A%20%20%20%20orientation%3A%20%22h%22%2C%0A%20%20%20%20span%3A%20%5B%0A%20%20%20%20%20%20%20%20data.value%20%2B%20data.lower_error%2C%20data.value%20%2B%20data.upper_error%0A%20%20%20%20%5D%2C%0A%7D%0A%0Aif%20%28%22ci%22%20in%20data%29%20%7B%0A%20%20%20%20trace2.name%20%3D%20%60Predicted%20Value%20and%20%24%7Bdata.ci%7D%25%20CI%60%0A%7D%0A%0Aif%20%28%22box%22%20in%20data%29%20%7B%0A%20%20%20%20trace.box.visible%20%3D%20true%0A%7D%0A%0Aif%20%28%22points%22%20in%20data%29%20%7B%0A%20%20%20%20trace.points%20%3D%20%22all%22%0A%7D%0A%0Avar%20plot_data%20%3D%20%5Btrace%2C%20trace2%5D%0A%0Avar%20my_shapes%20%3D%20%5B%0A%20%20%20%20%7B%0A%20%20%20%20%20%20%20%20type%3A%20%27rect%27%2C%0A%20%20%20%20%20%20%20%20xref%3A%20%27x%27%2C%0A%20%20%20%20%20%20%20%20yref%3A%20%27paper%27%2C%0A%20%20%20%20%20%20%20%20x0%3A%20data.value%20%2B%20data.lower_error%2C%0A%20%20%20%20%20%20%20%20y0%3A%200%2C%0A%20%20%20%20%20%20%20%20x1%3A%20data.value%20%2B%20data.upper_error%2C%0A%20%20%20%20%20%20%20%20y1%3A%201%2C%0A%20%20%20%20%20%20%20%20fillcolor%3A%20%27%23bebada%27%2C%0A%20%20%20%20%20%20%20%20opacity%3A%200.5%2C%0A%20%20%20%20%20%20%20%20line%3A%20%7B%0A%20%20%20%20%20%20%20%20%20%20%20%20width%3A%200%0A%20%20%20%20%20%20%20%20%7D%0A%20%20%20%20%7D%2C%0A%20%20%20%20%7B%0A%20%20%20%20%20%20%20%20type%3A%20%27line%27%2C%0A%20%20%20%20%20%20%20%20xref%3A%20%27x%27%2C%0A%20%20%20%20%20%20%20%20yref%3A%20%27paper%27%2C%0A%20%20%20%20%20%20%20%20x0%3A%20data.value%2C%0A%20%20%20%20%20%20%20%20y0%3A%200%2C%0A%20%20%20%20%20%20%20%20x1%3A%20data.value%2C%0A%20%20%20%20%20%20%20%20y1%3A%201%2C%0A%20%20%20%20%20%20%20%20line%3A%20%7B%0A%20%20%20%20%20%20%20%20%20%20%20%20color%3A%20%27%23bebada%27%2C%0A%20%20%20%20%20%20%20%20%20%20%20%20width%3A%203%0A%20%20%20%20%20%20%20%20%7D%0A%20%20%20%20%7D%2C%0A%5D%0A%0Aif%20%28%22true%22%20in%20data%29%20%7B%0A%20%20%20%20plot_data.push%28%7B%0A%20%20%20%20%20%20%20%20name%3A%20%22True%20Value%22%2C%0A%20%20%20%20%20%20%20%20showlegend%3A%20true%2C%0A%20%20%20%20%20%20%20%20visible%3A%20%22legendonly%22%2C%0A%20%20%20%20%20%20%20%20type%3A%20%27line%27%2C%0A%20%20%20%20%20%20%20%20xref%3A%20%27x%27%2C%0A%20%20%20%20%20%20%20%20yref%3A%20%27paper%27%2C%0A%20%20%20%20%20%20%20%20shape%3A%20%22%22%2C%0A%20%20%20%20%20%20%20%20x%3A%20%5Bdata.true%2Cdata.true%5D%2C%0A%20%20%20%20%20%20%20%20y0%3A%20%22%20%22%2C%0A%20%20%20%20%20%20%20%20line%3A%20%7B%0A%20%20%20%20%20%20%20%20%20%20%20%20color%3A%20%27%23D1AF94%27%2C%0A%20%20%20%20%20%20%20%20%20%20%20%20width%3A%203%2C%0A%20%20%20%20%20%20%20%20%20%20%20%20dash%3A%20%22dash%22%0A%20%20%20%20%20%20%20%20%7D%0A%20%20%20%20%7D%29%0A%0A%20%20%20%20my_shapes.push%28%7B%0A%20%20%20%20%20%20%20%20type%3A%20%27line%27%2C%0A%20%20%20%20%20%20%20%20xref%3A%20%27x%27%2C%0A%20%20%20%20%20%20%20%20yref%3A%20%27paper%27%2C%0A%20%20%20%20%20%20%20%20x0%3A%20data.true%2C%0A%20%20%20%20%20%20%20%20y0%3A%200%2C%0A%20%20%20%20%20%20%20%20x1%3A%20data.true%2C%0A%20%20%20%20%20%20%20%20y1%3A%201%2C%0A%20%20%20%20%20%20%20%20line%3A%20%7B%0A%20%20%20%20%20%20%20%20%20%20%20%20color%3A%20%27%23D1AF94%27%2C%0A%20%20%20%20%20%20%20%20%20%20%20%20width%3A%203%2C%0A%20%20%20%20%20%20%20%20%20%20%20%20dash%3A%20%22dash%22%0A%20%20%20%20%20%20%20%20%7D%0A%20%20%20%20%7D%29%0A%7D%0A%0Avar%20layout%20%3D%20%7B%0A%20%20%20%20shapes%3A%20my_shapes%2C%0A%20%20%20%20title%3A%20data.title%2C%0A%20%20%20%20xaxis%3A%20%7B%0A%20%20%20%20%20%20%20%20title%3A%20data.xaxis_title%2C%0A%20%20%20%20%20%20%20%20zeroline%3A%20false%0A%20%20%20%20%7D%2C%0A%20%20%20%20yaxis%3A%20%7B%0A%20%20%20%20%20%20%20%20title%3A%20data.yaxis_title%2C%0A%20%20%20%20%7D%2C%0A%20%20%20%20autosize%3A%20true%2C%0A%20%20%20%20showlegend%3A%20true%2C%0A%20%20%20%20legend%3A%20%7B%0A%20%20%20%20%20%20%20%20x%3A%200.5%2C%0A%20%20%20%20%20%20%20%20y%3A%200%0A%20%20%20%20%7D%0A%7D%3B%0A%0APlotly.newPlot%28%22basevis-entry%22%2C%20plot_data%2C%20layout%29%0A%3C%2Fscript%3E%3Cscript%3E%20window.addEventListener%28%22resize%22%2C%20function%28%29%7Bif%20%28document.getElementById%28%22basevis-entry%22%29%29%20%7BPlotly.Plots.resize%28document.getElementById%28%22basevis-entry%22%29%29%3B%7D%3B%7D%29%20%3C%2Fscript%3E\"\n",
                            "            frameborder=\"0\"\n",
                            "            allowfullscreen\n",
                            "            \n",
                            "        ></iframe>\n",
                            "        "
                        ],
                        "text/plain": [
                            "<IPython.lib.display.IFrame at 0x7f69383b37f0>"
                        ]
                    },
                    "execution_count": 11,
                    "metadata": {},
                    "output_type": "execute_result"
                }
            ],
            "source": [
                "results[\"vis\"].iloc[32].render_ipynb()"
            ]
        },
        {
            "cell_type": "code",
            "execution_count": 8,
            "metadata": {},
            "outputs": [
                {
                    "name": "stderr",
                    "output_type": "stream",
                    "text": [
                        "100it [00:00, 249.96it/s]\n",
                        "100%|██████████| 2/2 [00:00<00:00, 195.20it/s]\n"
                    ]
                },
                {
                    "data": {
                        "text/html": [
                            "\n",
                            "        <iframe\n",
                            "            width=\"800\"\n",
                            "            height=\"600\"\n",
                            "            src=\"data:text/html,%0A%20%20%20%20%20%20%20%20%3C%21DOCTYPE%20html%3E%0A%20%20%20%20%20%20%20%20%3Chead%3E%0A%20%20%20%20%20%20%20%20%3Cmeta%20charset%3D%22utf-8%22%3E%0A%20%20%20%20%20%20%20%20%3Cmeta%20http-equiv%3D%22x-ua-compatible%22%20content%3D%22ie%3Dedge%22%20%2F%3E%0A%20%20%20%20%20%20%20%20%3Cmeta%20name%3D%22viewport%22%20content%3D%22width%3Ddevice-width%2C%20initial-scale%3D1%22%20%2F%3E%0A%20%20%20%20%20%20%20%20%3C%2Fhead%3E%0A%0A%20%20%20%20%20%20%20%20%3Chtml%20style%3D%22height%3A%20100%25%3B%22%3E%0A%0A%20%20%20%20%20%20%20%20%3C%21--%20Load%20packages%20--%3E%0A%20%20%20%20%20%20%20%20%3Cscript%20src%20%3D%20%22https%3A%2F%2Fcdn.plot.ly%2Fplotly-2.14.0.min.js%22%3E%3C%2Fscript%3E%3Cscript%20src%20%3D%20%22https%3A%2F%2Funpkg.com%2Fsmiles-drawer%401.0.10%2Fdist%2Fsmiles-drawer.min.js%22%3E%3C%2Fscript%3E%0A%20%20%20%20%20%20%20%20%3Cbody%20style%3D%22background-color%3A%23FFFFFF%3B%20height%3A%20100%25%3B%22%3E%0A%20%20%20%20%20%20%20%20%3C%21--%20Create%20a%20div%20where%20the%20graph%20will%20take%20place%20--%3E%0A%20%20%20%20%20%20%20%20%3Cdiv%20id%3D%22basevis-entry%22%20data-visdata%3D%22%7B%26quot%3BSMILES%26quot%3B%3A%5B%26quot%3BCC1%3DCC%3DC%28F%29C%28NC%28%3DO%29NC2%3DCC%3DC%28OC3%3DCC%3DNC4%3DC3SC%28C%28%3DO%29NCCCC%28%3DO%29O%29%3DC4%29C%3DC2F%29%3DC1%26quot%3B%2C%26quot%3BCOC%28%3DO%29CN%28CCCNC%28%3DO%29C1%3DCC2%3DNC%3DCC%28OC3%3DCC%3DC%28NC%28%3DO%29NC4%3DCC%28C%29%3DCC%3DC4F%29C%3DC3%29%3DC2S1%29CC%28%3DO%29OC%26quot%3B%2C%26quot%3BCC1%3DCC%3DC%28F%29C%28NC%28%3DO%29NC2%3DCC%3DC%28OC3%3DCC%3DNC4%3DC3SC%28C%28%3DO%29NCCN%29%3DC4%29C%3DC2F%29%3DC1%26quot%3B%2C%26quot%3BCCN%28CC%29CCCNC%28%3DO%29C1%3DCC2%3DNC%3DCC%28OC3%3DCC%3DC%28NC%28%3DO%29NC4%3DCC%28C%29%3DCC%3DC4F%29C%3DC3%29%3DC2S1%26quot%3B%2C%26quot%3BCC1%3DCC%3DC%28F%29C%28NC%28%3DO%29NC2%3DCC%3DC%28OC3%3DCC%3DNC4%3DC3SC%28C%28%3DO%29NCCCC%28%3DO%29O%29%3DC4%29C%3DC2%29%3DC1%26quot%3B%2C%26quot%3BCCN%28CC%29CCNC%28%3DO%29C1%3DCC2%3DNC%3DCC%28OC3%3DCC%3DC%28NC%28%3DO%29NC4%3DCC%28C%29%3DCC%3DC4F%29C%3DC3%29%3DC2S1%26quot%3B%2C%26quot%3BCC1%3DCC%3DC%28F%29C%28NC%28%3DO%29NC2%3DCC%3DC%28OC3%3DCC%3DNC4%3DC3SC%28C%28%3DO%29O%29%3DC4%29C%3DC2%29%3DC1%26quot%3B%2C%26quot%3BCOC%28%3DO%29CN%28CCCNC%28%3DO%29C1%3DCC2%3DNC%3DCC%28OC3%3DCC%3DC%28NC%28%3DO%29NC4%3DCC%28C%29%3DCC%3DC4F%29C%28F%29%3DC3%29%3DC2S1%29CC%28%3DO%29OC%26quot%3B%2C%26quot%3BCCOC%28%3DO%29CCCNC%28%3DO%29C1%3DCC2%3DNC%3DCC%28OC3%3DCC%3DC%28NC%28%3DO%29NC4%3DCC%28C%29%3DCC%3DC4F%29C%28F%29%3DC3%29%3DC2S1%26quot%3B%2C%26quot%3BCOC%28%3DO%29CNCCNC%28%3DO%29C1%3DCC2%3DNC%3DCC%28OC3%3DCC%3DC%28NC%28%3DO%29NC4%3DCC%28C%29%3DCC%3DC4F%29C%28F%29%3DC3%29%3DC2S1%26quot%3B%2C%26quot%3BCC1%3DCC%3DC%28F%29C%28NC%28%3DO%29NC2%3DCC%3DC%28OC3%3DCC%3DNC4%3DC3SC%28C%28%3DO%29NCCNC%28%3DO%29OC%28C%29%28C%29C%29%3DC4%29C%3DC2F%29%3DC1%26quot%3B%2C%26quot%3BCOC%28%3DO%29CN%28CCCNC%28%3DO%29C1%3DCC2%3DNC%3DCC%28OC3%3DCC%3DC%28NC%28%3DO%29NC4%3DCC%28C%29%3DCC%3DC4F%29C%28F%29%3DC3%29%3DC2S1%29CC%28%3DO%29OC%26quot%3B%2C%26quot%3BCOC%28%3DO%29CN%28CCNC%28%3DO%29C1%3DCC2%3DNC%3DCC%28OC3%3DCC%3DC%28NC%28%3DO%29NC4%3DCC%28C%29%3DCC%3DC4F%29C%28F%29%3DC3%29%3DC2S1%29CC%28%3DO%29OC%26quot%3B%2C%26quot%3BCOC%28%3DO%29CNCCCNC%28%3DO%29C1%3DCC2%3DNC%3DCC%28OC3%3DCC%3DC%28NC%28%3DO%29NC4%3DCC%28C%29%3DCC%3DC4F%29C%28F%29%3DC3%29%3DC2S1%26quot%3B%2C%26quot%3BCOC%28%3DO%29CNCCNC%28%3DO%29C1%3DCC2%3DNC%3DCC%28OC3%3DCC%3DC%28NC%28%3DO%29NC4%3DCC%28C%29%3DCC%3DC4F%29C%28F%29%3DC3%29%3DC2S1%26quot%3B%2C%26quot%3BCOC%28%3DO%29CN%28CCNC%28%3DO%29C1%3DCC2%3DNC%3DCC%28OC3%3DCC%3DC%28NC%28%3DO%29NC4%3DCC%28C%29%3DCC%3DC4F%29C%28F%29%3DC3%29%3DC2S1%29CC%28%3DO%29OC%26quot%3B%2C%26quot%3BCOC%28%3DO%29CN%28CCCNC%28%3DO%29C1%3DCC2%3DNC%3DCC%28OC3%3DCC%3DC%28NC%28%3DO%29NC4%3DCC%28C%29%3DCC%3DC4F%29C%3DC3%29%3DC2S1%29CC%28%3DO%29OC%26quot%3B%2C%26quot%3BCOC%28%3DO%29CNCCCNC%28%3DO%29C1%3DCC2%3DNC%3DCC%28OC3%3DCC%3DC%28NC%28%3DO%29NC4%3DCC%28C%29%3DCC%3DC4F%29C%28F%29%3DC3%29%3DC2S1%26quot%3B%2C%26quot%3BCOC%28%3DO%29CNCCCNC%28%3DO%29C1%3DCC2%3DNC%3DCC%28OC3%3DCC%3DC%28NC%28%3DO%29NC4%3DCC%28C%29%3DCC%3DC4F%29C%3DC3%29%3DC2S1%26quot%3B%2C%26quot%3BCC1%3DCC%3DC%28F%29C%28NC%28%3DO%29NC2%3DCC%3DC%28OC3%3DCC%3DNC4%3DC3SC%28C%28%3DO%29NCCNC%28%3DO%29OC%28C%29%28C%29C%29%3DC4%29C%3DC2F%29%3DC1%26quot%3B%2C%26quot%3BCCN%28CC%29CCCNC%28%3DO%29C1%3DCC2%3DNC%3DCC%28OC3%3DCC%3DC%28NC%28%3DO%29NC4%3DCC%28C%29%3DCC%3DC4F%29C%3DC3%29%3DC2S1%26quot%3B%2C%26quot%3BCC1%3DCC%3DC%28F%29C%28NC%28%3DO%29NC2%3DCC%3DC%28OC3%3DCC%3DNC4%3DC3SC%28C%28%3DO%29NCCN%29%3DC4%29C%3DC2F%29%3DC1%26quot%3B%2C%26quot%3BCCN%28CC%29CCNC%28%3DO%29C1%3DCC2%3DNC%3DCC%28OC3%3DCC%3DC%28NC%28%3DO%29NC4%3DCC%28C%29%3DCC%3DC4F%29C%3DC3%29%3DC2S1%26quot%3B%2C%26quot%3BCOC%28%3DO%29CNCCCNC%28%3DO%29C1%3DCC2%3DNC%3DCC%28OC3%3DCC%3DC%28NC%28%3DO%29NC4%3DCC%28C%29%3DCC%3DC4F%29C%3DC3%29%3DC2S1%26quot%3B%2C%26quot%3BCCOC%28%3DO%29CCCNC%28%3DO%29C1%3DCC2%3DNC%3DCC%28OC3%3DCC%3DC%28NC%28%3DO%29NC4%3DCC%28C%29%3DCC%3DC4F%29C%3DC3%29%3DC2S1%26quot%3B%2C%26quot%3BCN1C%3DNC%28NCC2%3DCC%3DNC%3DC2%29%3DC1C%28%3DO%29NC1%3DCC%3DCC%28OC%28F%29%28F%29F%29%3DC1%26quot%3B%2C%26quot%3BCN1C%3DNC%28NCC2%3DCC%3DNC%3DC2%29%3DC1C%28%3DO%29NC1%3DCC%3DC%28C%28F%29%28F%29F%29C%28C%28F%29%28F%29F%29%3DC1%26quot%3B%2C%26quot%3BCN1C%3DNC%28NCC2%3DCC%3DNC%3DC2%29%3DC1C%28%3DO%29NC1%3DCC%3DC%28C%28F%29%28F%29F%29C%28Cl%29%3DC1%26quot%3B%2C%26quot%3BCN1C%3DNC%28NCC2%3DCC%3DNC%3DC2%29%3DC1C%28%3DO%29NC1%3DCC%3DCC%28Cl%29%3DC1%26quot%3B%2C%26quot%3BCC1%3DCC%28NC%28%3DO%29C2%3DC%28NCC3%3DCC%3DNC%3DC3%29N%3DCN2C%29%3DCC%3DC1C%28F%29%28F%29F%26quot%3B%2C%26quot%3BCOC1%3DCC%3DC%28NC%28%3DO%29C2%3DC%28NCC3%3DCC%3DNC%3DC3%29N%3DCN2C%29C%3DC1OC%26quot%3B%2C%26quot%3BCC%28C%29C1%3DCC%3DC%28NC%28%3DO%29C2%3DC%28NCC3%3DCC%3DNC%3DC3%29N%3DCN2C%29C%3DC1%26quot%3B%2C%26quot%3BCN1C%3DNC%28NCC2%3DCC%3DNC%3DC2%29%3DC1C%28%3DO%29NC1%3DCC%3DCC%28C%28F%29%28F%29F%29%3DC1%26quot%3B%2C%26quot%3BCN1C%3DNC%28NCC2%3DCC%3DNC%3DC2%29%3DC1C%28%3DO%29NC1%3DCC%3DC%28C%28F%29%28F%29F%29C%3DC1%26quot%3B%2C%26quot%3BCC1%3DCC%3DC%28NC%28%3DO%29C2%3DC%28NCC3%3DCC%3DNC%3DC3%29N%3DCN2C%29C%3DC1C%28F%29%28F%29F%26quot%3B%2C%26quot%3BCN1C%3DNC%28NCC2%3DCC%3DNC%3DC2%29%3DC1C%28%3DO%29NC1%3DCC%28C%28F%29%28F%29F%29%3DCC%28C%28F%29%28F%29F%29%3DC1%26quot%3B%2C%26quot%3BCN1C%3DNC%28NCC2%3DCC%3DNC%3DC2%29%3DC1C%28%3DO%29NC1%3DCC%3DC%28Cl%29C%3DC1%26quot%3B%2C%26quot%3BCN1C%3DNC%28NCC2%3DCC%3DNC%3DC2%29%3DC1C%28%3DO%29NC1%3DCC%3DC%28Cl%29C%28Cl%29%3DC1%26quot%3B%2C%26quot%3BCN1C%3DNC%28NCC2%3DCC%3DNC%3DC2%29%3DC1C%28%3DO%29NC1%3DCC%3DC%28OC%28F%29%28F%29F%29C%3DC1%26quot%3B%2C%26quot%3BCC1%3DCC%3DC%28NC%28%3DO%29C2%3DC%28NCC3%3DCC%3DNC%3DC3%29N%3DCN2C%29C%28F%29%3DC1%26quot%3B%2C%26quot%3BCN1C%3DNC%28NCC2%3DCC%3DNC%3DC2%29%3DC1C%28%3DO%29NC1%3DCC%3DC%28C%28C%29%28C%29C%29C%3DC1%26quot%3B%2C%26quot%3BCN1C%3DNC%28NCC2%3DCC%3DNC%3DC2%29%3DC1C%28%3DO%29NC1%3DCC%3DC%28Cl%29C%28C%28F%29%28F%29F%29%3DC1%26quot%3B%2C%26quot%3BCOC1%3DCC%3DCC%28NC2%3DNN%3DC%28C3%3DC%28NCC4%3DCC%3DNC%3DC4%29N%3DCN3C%29O2%29%3DC1%26quot%3B%2C%26quot%3BCN1C%3DNC%28NCC2%3DCC%3DNC%3DC2%29%3DC1C1%3DNN%3DC%28NC2%3DCC%3DC%28C%28C%29%28C%29C%29C%3DC2%29O1%26quot%3B%2C%26quot%3BCN1C%3DNC%28NCC2%3DCC%3DNC%3DC2%29%3DC1C1%3DNN%3DC%28NC2%3DCC%3DC%28Cl%29C%28C%28F%29%28F%29F%29%3DC2%29O1%26quot%3B%2C%26quot%3BCN1C%3DNC%28NCC2%3DCC%3DNC%3DC2%29%3DC1C1%3DNN%3DC%28NC2%3DCC%3DC%28C%28F%29%28F%29F%29C%3DC2%29O1%26quot%3B%2C%26quot%3BCN1C%3DNC%28NCC2%3DCC%3DNC%3DC2%29%3DC1C1%3DNN%3DC%28NC2%3DCC%3DC%28OC%28F%29%28F%29F%29C%3DC2%29O1%26quot%3B%2C%26quot%3BCN1C%3DNC%28NCC2%3DCC%3DNC%3DC2%29%3DC1C1%3DNN%3DC%28NC2%3DCC%3DC%28Cl%29C%3DC2%29O1%26quot%3B%2C%26quot%3BCC1%3DCC%3DCC%28NC2%3DNN%3DC%28C3%3DC%28NCC4%3DCC%3DNC%3DC4%29N%3DCN3C%29O2%29%3DC1%26quot%3B%2C%26quot%3BCOC1%3DCC%3DC%28NC2%3DNN%3DC%28C3%3DC%28NCC4%3DCC%3DNC%3DC4%29N%3DCN3C%29O2%29C%3DC1OC%26quot%3B%2C%26quot%3BCC1%3DCC%3DC%28NC2%3DNN%3DC%28C3%3DC%28NCC4%3DCC%3DNC%3DC4%29N%3DCN3C%29O2%29C%28F%29%3DC1%26quot%3B%2C%26quot%3BCN1C%3DNC%28NCC2%3DCC%3DNC%3DC2%29%3DC1C1%3DNN%3DC%28NC2%3DCC%3DC%28Cl%29C%28Cl%29%3DC2%29O1%26quot%3B%2C%26quot%3BCN1C%3DNC%28NCC2%3DCC%3DNC%3DC2%29%3DC1C1%3DNN%3DC%28NC2%3DCC%3DCC%28OC%28F%29%28F%29F%29%3DC2%29O1%26quot%3B%2C%26quot%3BCC%28C%29C1%3DCC%3DC%28NC2%3DNN%3DC%28C3%3DC%28NCC4%3DCC%3DNC%3DC4%29N%3DCN3C%29O2%29C%3DC1%26quot%3B%2C%26quot%3BCN1C%3DNC%28NCC2%3DCC%3DNC%3DC2%29%3DC1C1%3DNN%3DC%28NC2%3DCC%3DC%28Br%29C%3DC2%29O1%26quot%3B%2C%26quot%3BCN1C%3DNC%28NCC2%3DCC%3DNC%3DC2%29%3DC1C1%3DNN%3DC%28NC2%3DCC%3DC%28OC%28F%29%28F%29Cl%29C%3DC2%29O1%26quot%3B%2C%26quot%3BCOCCN%28CC1%3DCC%3DC%28C2%3DC3CC4%3DCC%28CN5CCN%28C%29CC5%29%3DCC%3DC4C3%3DNN2%29S1%29C%28%3DO%29NC1%3DCC%3DCC%28C%29%3DC1%26quot%3B%2C%26quot%3BCC1%3DCC%3DCC%28N%28C%29C%28%3DO%29N%28C%29CC2%3DCC%3DC%28C3%3DC4CC5%3DCC%28CN6CCN%28C%29CC6%29%3DCC%3DC5C4%3DNN3%29S2%29%3DC1%26quot%3B%2C%26quot%3BCC1%3DCC%3DCC%28N%28C%29C%28%3DO%29NCC2%3DCC%3DC%28C3%3DC4CC5%3DCC%28CN6CCN%28C%29CC6%29%3DCC%3DC5C4%3DNN3%29S2%29%3DC1%26quot%3B%2C%26quot%3BCCCN%28CC1%3DCC%3DC%28C2%3DC3CC4%3DCC%28CN5CCN%28C%29CC5%29%3DCC%3DC4C3%3DNN2%29S1%29C%28%3DO%29NC1%3DCC%3DCC%28C%29%3DC1%26quot%3B%2C%26quot%3BCC1%3DCC%3DCC%28NC%28%3DO%29N%28CC2%3DCC%3DC%28C3%3DC4CC5%3DCC%28CN6CCN%28C%29CC6%29%3DCC%3DC5C4%3DNN3%29S2%29C%28C%29C%29%3DC1%26quot%3B%2C%26quot%3BCN1CCN%28CC2%3DCC%3DC3C%28%3DC2%29CC2%3DC%28C4%3DCC%3DC%28CN%28C%29C%28%3DO%29NC5%3DCC%3DCC%28OC%28F%29%28F%29F%29%3DC5%29S4%29NN%3DC32%29CC1%26quot%3B%2C%26quot%3BCC1%3DCC%3DCC%28NC%28%3DO%29N%28CC2%3DCC%3DC%28C3%3DC4CC5%3DCC%28CN6CCN%28C%29CC6%29%3DCC%3DC5C4%3DNN3%29S2%29CC%28C%29C%29%3DC1%26quot%3B%2C%26quot%3BCCN%28CC1%3DCC%3DC%28C2%3DC3CC4%3DCC%28CN5CCN%28C%29CC5%29%3DCC%3DC4C3%3DNN2%29S1%29C%28%3DO%29NC1%3DCC%3DCC%28C%29%3DC1%26quot%3B%2C%26quot%3BCC1%3DCC%3DCC%3DC1NC%28%3DO%29N%28C%29CC1%3DCC%3DC%28C2%3DC3CC4%3DCC%28CN5CCN%28C%29CC5%29%3DCC%3DC4C3%3DNN2%29S1%26quot%3B%2C%26quot%3BCN1CCN%28CC2%3DCC%3DC3C%28%3DC2%29CC2%3DC%28C4%3DCC%3DC%28CN%28C%29C%28%3DO%29NC5%3DCC%3DCC%3DC5Cl%29S4%29NN%3DC32%29CC1%26quot%3B%2C%26quot%3BCC1%3DCC%3DCC%28NC%28%3DO%29N%28CCC%28C%29C%29CC2%3DCC%3DC%28C3%3DC4CC5%3DCC%28CN6CCN%28C%29CC6%29%3DCC%3DC5C4%3DNN3%29S2%29%3DC1%26quot%3B%2C%26quot%3BCN1CCN%28CC2%3DCC%3DC3C%28%3DC2%29CC2%3DC%28C4%3DCC%3DC%28CN%28C%29C%28%3DO%29NC5%3DCC%28F%29%3DCC%28C%28F%29%28F%29F%29%3DC5%29S4%29NN%3DC32%29CC1%26quot%3B%2C%26quot%3BCON%28CC1%3DCC%3DC%28C2%3DC3CC4%3DCC%28CN5CCN%28C%29CC5%29%3DCC%3DC4C3%3DNN2%29S1%29C%28%3DO%29NC1%3DCC%3DCC%28C%29%3DC1%26quot%3B%2C%26quot%3BO%3DC%28NC1%3DCC%3DCC%28C%28F%29%28F%29F%29%3DC1%29C1%3DCC%3DCC%3DC1NCC1%3DCC%3DNC%3DC1%26quot%3B%2C%26quot%3BO%3DC%28NC1%3DCC%3DCC%28C%28F%29%28F%29F%29%3DC1%29C1%3DCC%3DCC%3DC1NCC1%3DCC%3DNC%3DC1%26quot%3B%2C%26quot%3BO%3DC%28NC1%3DCC%3DCC%28C%28F%29%28F%29F%29%3DC1%29C1%3DCC%3DCC%3DC1NCC1%3DCC%3DNC%3DC1%26quot%3B%2C%26quot%3BO%3DC%28NC1%3DCC%3DCC%28C%28F%29%28F%29F%29%3DC1%29C1%3DCC%3DCC%3DC1NCC1%3DCC%3DNC%3DC1%26quot%3B%2C%26quot%3BO%3DC%28NC1%3DCC%3DCC%28C%28F%29%28F%29F%29%3DC1%29C1%3DCC%3DCC%3DC1NCC1%3DCC%3DNC%3DC1%26quot%3B%2C%26quot%3BO%3DC%28NC1%3DCC%3DCC%28C%28F%29%28F%29F%29%3DC1%29C1%3DCC%3DCC%3DC1NCC1%3DCC%3DNC%3DC1%26quot%3B%2C%26quot%3BO%3DC%28NC1%3DCC%3DCC%28C%28F%29%28F%29F%29%3DC1%29C1%3DCC%3DCC%3DC1NCC1%3DCC%3DNC%3DC1%26quot%3B%2C%26quot%3BO%3DC%28NC1%3DCC%3DCC%28C%28F%29%28F%29F%29%3DC1%29C1%3DCC%3DCC%3DC1NCC1%3DCC%3DNC%3DC1%26quot%3B%2C%26quot%3BO%3DC%28NC1%3DCC%3DC%28Cl%29C%3DC1%29C1%3DCC%3DCC%3DC1NCC1%3DCC%3DNC%3DC1%26quot%3B%2C%26quot%3BO%3DC%28NC1%3DCC%3DCC%28C%28F%29%28F%29F%29%3DC1%29C1%3DCC%3DCC%3DC1NCC1%3DCC%3DNC%3DC1%26quot%3B%2C%26quot%3BO%3DC%28NC1%3DCC%3DCC%28C%28F%29%28F%29F%29%3DC1%29C1%3DCC%3DCC%3DC1NCC1%3DCC%3DNC%3DC1%26quot%3B%2C%26quot%3BO%3DC%28NC1%3DCC%3DCC%28C%28F%29%28F%29F%29%3DC1%29C1%3DCC%3DCC%3DC1NCC1%3DCC%3DNC%3DC1%26quot%3B%2C%26quot%3BCN%28C%29CCC1%3DCC%3DC%28C2%3DCC3%3DNC%3DNC%28NC4%3DCC%3DC5NC%3DCC5%3DC4%29%3DC3S2%29C%3DC1%26quot%3B%2C%26quot%3BCC%28%3DO%29NCCNCC1%3DCC%3DC%28C2%3DCC3%3DNC%3DNC%28NC4%3DCC%3DC5NC%3DCC5%3DC4%29%3DC3S2%29C%3DC1%26quot%3B%2C%26quot%3BOCC1%3DCC%3DC%28C2%3DCC3%3DNC%3DNC%28NC4%3DCC%3DC5NC%3DCC5%3DC4%29%3DC3S2%29C%3DC1%26quot%3B%2C%26quot%3BC1%3DCC%3DC%28C2%3DCC3%3DNC%3DNC%28NC4%3DCC%3DC5NC%3DCC5%3DC4%29%3DC3S2%29C%3DC1%26quot%3B%2C%26quot%3BCC1%3DCC2%3DCC%28NC3%3DNC%3DNC4%3DC3SC%28C3%3DCC%3DCC%3DC3%29%3DC4%29%3DCC%3DC2N1%26quot%3B%2C%26quot%3BC1%3DCC%3DC%28C2%3DCC3%3DNC%3DNC%28NC4%3DCC%3DC5NC%3DCC5%3DC4%29%3DC3S2%29C%3DC1%26quot%3B%2C%26quot%3BCC%28C%29%28CO%29NCC1%3DCC%3DC%28C2%3DCC3%3DNC%3DNC%28NC4%3DCC%3DC5NC%3DCC5%3DC4%29%3DC3S2%29C%3DC1%26quot%3B%2C%26quot%3BCC%28C%29%28CO%29NCC1%3DCC%3DC%28C2%3DCC3%3DNC%3DNC%28NC4%3DCC%3DC5NC%3DCC5%3DC4%29%3DC3S2%29C%3DC1%26quot%3B%2C%26quot%3BCC1%3DCNC2%3DCC%3DC%28NC3%3DNC%3DNC4%3DC3SC%28C3%3DCC%3DCC%3DC3%29%3DC4%29C%3DC12%26quot%3B%2C%26quot%3BNCC1%3DCC%3DC%28C2%3DCC3%3DNC%3DNC%28NC4%3DCC%3DC5NC%3DCC5%3DC4%29%3DC3S2%29C%3DC1%26quot%3B%2C%26quot%3BCOC1%3DCC%3DC%28OC%29C%28CC2%3DCC3%3DC%28NC4%3DCC%3DCC%28Br%29%3DC4%29N%3DC%28N%29N%3DC3N2%29%3DC1%26quot%3B%2C%26quot%3BNC1%3DNC%28NC2%3DCC%3DC%28Cl%29C%3DC2F%29%3DC2C%3DC%28CC3%3DCC%3DC%28Cl%29C%3DC3Cl%29NC2%3DN1%26quot%3B%2C%26quot%3BCOC1%3DCC%3DC%28OC%29C%28CC2%3DCC3%3DC%28NC4%3DCC%3DCC%28Br%29%3DC4%29N%3DC%28N%29N%3DC3N2%29%3DC1%26quot%3B%2C%26quot%3BCOC1%3DCC%3DC%28OC%29C%28CC2%3DCC3%3DC%28NC4%3DCC%3DC%28Cl%29C%3DC4%29N%3DC%28N%29N%3DC3N2%29%3DC1%26quot%3B%2C%26quot%3BNC1%3DNC%28NC2%3DCC%3DCC%28Br%29%3DC2%29%3DC2C%3DC%28CC3%3DCC%3DCC%3DC3Cl%29NC2%3DN1%26quot%3B%2C%26quot%3BCOC1%3DCC%3DC%28OC%29C%28CC2%3DCC3%3DC%28NC4%3DCC%3DCC%28Br%29%3DC4%29N%3DC%28N%29N%3DC3N2%29%3DC1%26quot%3B%2C%26quot%3BCC1%3DCC%3DCC%3DC1CC1%3DCC2%3DC%28NC3%3DCC%3DC%28Cl%29C%3DC3F%29N%3DC%28N%29N%3DC2N1%26quot%3B%2C%26quot%3BNC1%3DNC%28NC2%3DCC%3DCC%28Br%29%3DC2%29%3DC2C%3DC%28CC3%3DCC%3DC%28Cl%29C%3DC3%29NC2%3DN1%26quot%3B%2C%26quot%3BNC1%3DNC%28NC2%3DCC%3DCC%28Br%29%3DC2%29%3DC2C%3DC%28CC3%3DCC%3DCC%3DC3Cl%29NC2%3DN1%26quot%3B%5D%2C%26quot%3BX%26quot%3B%3A%5B8.15%2C7.85%2C7.96%2C7.92%2C8.15%2C8.3%2C7.8%2C8.0%2C7.82%2C8.05%2C7.22%2C7.92%2C7.77%2C7.96%2C7.89%2C7.96%2C8.05%2C8.1%2C7.96%2C7.16%2C8.52%2C7.82%2C7.89%2C8.22%2C7.8%2C6.12%2C6.24%2C6.54%2C5.69%2C6.68%2C6.68%2C6.75%2C6.19%2C5.7%2C6.47%2C6.13%2C6.6%2C6.43%2C5.94%2C6.08%2C7.06%2C6.02%2C6.17%2C6.05%2C6.29%2C6.92%2C6.8%2C6.47%2C5.9%2C6.23%2C6.23%2C6.31%2C6.25%2C6.11%2C5.83%2C6.34%2C5.64%2C4.55%2C4.84%2C7.23%2C5.55%2C7.72%2C5.8%2C6.88%2C5.3%2C5.42%2C5.44%2C7.48%2C5.87%2C6.89%2C6.89%2C6.89%2C6.77%2C6.77%2C6.77%2C6.77%2C7.5%2C6.75%2C6.77%2C6.77%2C6.89%2C7.66%2C8.4%2C7.25%2C7.32%2C6.85%2C7.1%2C8.52%2C7.6%2C6.54%2C7.75%2C4.51%2C4.15%2C4.51%2C4.82%2C4.57%2C4.34%2C4.72%2C4.37%2C4.57%5D%2C%26quot%3BY%26quot%3B%3A%5B7.903923925502601%2C7.924142984434276%2C7.761773561984922%2C7.955988714346406%2C8.086883874601742%2C7.934329392154369%2C7.92684260116412%2C7.858429659663073%2C7.845826252141885%2C7.93892285300455%2C7.77231153483735%2C7.858429659663073%2C7.829642360445452%2C7.949262355371592%2C7.93892285300455%2C7.829642360445452%2C7.924142984434276%2C7.949262355371592%2C7.976182964053244%2C7.77231153483735%2C7.955988714346406%2C7.761772173374563%2C7.934329392154369%2C7.976182964053244%2C8.02662894787533%2C5.823258111097064%2C6.029079380220236%2C5.9985241033016%2C5.814051354138496%2C6.074000874402373%2C5.953896176715218%2C5.804918664635134%2C5.91130661292535%2C5.9850552906566294%2C6.0348695624368744%2C5.972647836833027%2C5.674896438862745%2C6.0415404692805454%2C5.779003708375739%2C5.930640954178039%2C5.984457654923514%2C6.03664716933408%2C6.124444911754772%2C6.2846661131832215%2C6.271775718401853%2C6.201703920529759%2C6.182637852587307%2C6.0452427572200085%2C6.213212306580219%2C6.1447090874204395%2C6.152686946354673%2C6.258903683230142%2C6.151550404090697%2C6.153079203975507%2C6.053264601011974%2C6.159681777747181%2C6.785142836788065%2C6.613725588131295%2C6.4730589879640785%2C6.72620772339322%2C6.695911703387717%2C6.934727533147774%2C6.72568183705649%2C6.6966307340172255%2C6.569719251393148%2C6.6089330476831085%2C6.768901220791596%2C6.884075681011956%2C6.721395241874156%2C6.330733190413728%2C6.330733190413728%2C6.330733190413728%2C6.330733190413728%2C6.330733190413728%2C6.330733190413728%2C6.330733190413728%2C6.330733190413728%2C6.174046040114613%2C6.330733190413728%2C6.330733190413728%2C6.330733190413728%2C7.464529551309597%2C7.489900810084194%2C7.245371020813222%2C6.6718958465159774%2C6.706258356715956%2C6.6718958465159774%2C7.395582017977134%2C7.395582017977134%2C6.428564156960127%2C7.312777141437859%2C5.087857865515139%2C5.34049622188788%2C5.087857865515139%2C5.511083387399456%2C4.744772562527418%2C5.087857865515139%2C5.305977354212472%2C4.802148944567394%2C4.744772562527418%5D%2C%26quot%3Bcolor%26quot%3B%3A%5B0.7671957671957672%2C0.6457399103139013%2C0.7417582417582418%2C0.7210526315789474%2C0.7527472527472527%2C0.7135135135135136%2C0.6589595375722543%2C0.6504424778761062%2C0.7211538461538461%2C0.6842105263157895%2C0.6571428571428571%2C0.6504424778761062%2C0.6355555555555555%2C0.7%2C0.6842105263157895%2C0.6355555555555555%2C0.6457399103139013%2C0.7%2C0.6956521739130435%2C0.6571428571428571%2C0.7210526315789474%2C0.7417582417582418%2C0.7135135135135136%2C0.6956521739130435%2C0.7163461538461539%2C0.6176470588235294%2C0.6338028169014085%2C0.6090225563909775%2C0.6299212598425197%2C0.6090225563909775%2C0.6119402985074627%2C0.625%2C0.6030534351145038%2C0.6159420289855072%2C0.6119402985074627%2C0.6363636363636364%2C0.6538461538461539%2C0.627906976744186%2C0.6408450704225352%2C0.5328467153284672%2C0.6159420289855072%2C0.6119402985074627%2C0.48823529411764705%2C0.5316455696202531%2C0.5%2C0.5512820512820513%2C0.5341614906832298%2C0.6834532374100719%2C0.503030303030303%2C0.4970414201183432%2C0.5029940119760479%2C0.5095541401273885%2C0.5029239766081871%2C0.5384615384615384%2C0.56%2C0.54375%2C0.5357142857142857%2C0.5113122171945701%2C0.5%2C0.547945205479452%2C0.5529953917050692%2C0.6359447004608295%2C0.5429864253393665%2C0.5581395348837209%2C0.5660377358490566%2C0.580952380952381%2C0.5309734513274337%2C0.5972850678733032%2C0.5581395348837209%2C0.5563380281690141%2C0.5563380281690141%2C0.5563380281690141%2C0.5563380281690141%2C0.5563380281690141%2C0.5563380281690141%2C0.5563380281690141%2C0.5563380281690141%2C0.5703703703703704%2C0.5563380281690141%2C0.5563380281690141%2C0.5563380281690141%2C0.6358381502890174%2C0.6590909090909091%2C0.6832298136645962%2C0.6842105263157895%2C0.674074074074074%2C0.6842105263157895%2C0.6111111111111112%2C0.6111111111111112%2C0.6258992805755396%2C0.69375%2C0.5576923076923077%2C0.3941176470588235%2C0.5576923076923077%2C0.5576923076923077%2C0.6976744186046512%2C0.5576923076923077%2C0.4444444444444444%2C0.6338028169014085%2C0.6976744186046512%5D%2C%26quot%3Btitle%26quot%3B%3A%26quot%3BPredicted%20vs%20true%20Plot%3Cbr%3E%3Csub%3EPoints%20colored%20by%20similarity%20to%20train%20set%3C%2Fsub%3E%26quot%3B%2C%26quot%3Bxaxis_title%26quot%3B%3A%26quot%3BExperimental%20value%26quot%3B%2C%26quot%3Byaxis_title%26quot%3B%3A%26quot%3BPredicted%20value%26quot%3B%2C%26quot%3Bhover_size%26quot%3B%3A0.4%2C%26quot%3Bxaxis_type%26quot%3B%3A%26quot%3Blinear%26quot%3B%2C%26quot%3Byaxis_type%26quot%3B%3A%26quot%3Blinear%26quot%3B%2C%26quot%3Bwidth%26quot%3B%3A800%2C%26quot%3Bheight%26quot%3B%3A600%2C%26quot%3Bopacity%26quot%3B%3A1%2C%26quot%3Btrace_update%26quot%3B%3A%7B%26quot%3Bx%26quot%3B%3A%5B3.7350000000000003%2C9.372%5D%2C%26quot%3By%26quot%3B%3A%5B3.7350000000000003%2C9.372%5D%2C%26quot%3Bmode%26quot%3B%3A%26quot%3Bline%26quot%3B%2C%26quot%3Btype%26quot%3B%3A%26quot%3Bscatter%26quot%3B%7D%7D%22%20style%3D%22width%3A%20100%25%3B%20height%3A%20100%25%3B%20display%3Ainline-block%3B%22%3E%3C%2Fdiv%3E%0A%20%20%20%20%20%20%20%20%3C%2Fbody%3E%0A%20%20%20%20%20%20%20%20%3C%2Fmeta%3E%0A%20%20%20%20%20%20%20%20%3Cscript%3Evar%20plot%20%3D%20document.getElementById%28%22basevis-entry%22%29%3B%0Avar%20hoverInfo%20%3D%20document.getElementById%28%22basevis-entry2%22%29%3B%0A%0Avar%20data%20%3D%20JSON.parse%28document.getElementById%28%22basevis-entry%22%29.dataset.visdata%29%3B%0A%0Alet%20options%20%3D%20%7B%7D%3B%0Alet%20smilesDrawer%20%3D%20new%20SmilesDrawer.Drawer%28options%29%3B%0A%0Avar%20trace%20%3D%20%7B%0A%20%20x%3A%20data.X%2C%0A%20%20y%3A%20data.Y%2C%0A%20%20text%3A%20data.SMILES%2C%0A%20%20mode%3A%20%22markers%22%2C%0A%20%20type%3A%20%22scatter%22%2C%0A%20%20hoverinfo%3A%20%22none%22%2C%0A%20%20marker%3A%20%7B%7D%2C%0A%7D%3B%0A%0Aif%20%28%22hovertext%22%20in%20data%29%20%7B%0A%20%20trace.hovertext%20%3D%20data.hovertext%3B%0A%20%20trace.hoverinfo%20%3D%20%22text%22%3B%0A%7D%0A%0Aif%20%28%22group%22%20in%20data%29%20%7B%0A%20%20trace.transforms%20%3D%20%5B%7B%20type%3A%20%22groupby%22%2C%20groups%3A%20data.group%20%7D%5D%3B%0A%7D%0A%0Aif%20%28%22hovertemplate%22%20in%20data%29%20%7B%0A%20%20trace.hovertemplate%20%3D%20data.hovertemplate%3B%0A%7D%0A%0Aif%20%28%22color%22%20in%20data%29%20%7B%0A%20%20trace.marker.color%20%3D%20data.color%3B%0A%7D%0A%0Aif%20%28%22size%22%20in%20data%29%20%7B%0A%20%20trace.marker.size%20%3D%20data.size%3B%0A%7D%20else%20%7B%0A%20%20trace.marker.size%20%3D%2012%3B%0A%7D%0A%0Aif%20%28%22outline%22%20in%20data%29%20%7B%0A%20%20trace.marker.line%20%3D%20%7B%0A%20%20%20%20color%3A%20data.outline%2C%0A%20%20%20%20width%3A%204%2C%0A%20%20%7D%3B%0A%7D%0A%0Aif%20%28%22opacity%22%20in%20data%29%20%7B%0A%20%20trace.marker.opacity%20%3D%20data.opacity%3B%0A%7D%0A%0Avar%20plot_data%20%3D%20%5Btrace%5D%3B%0A%0Avar%20layout%20%3D%20%7B%0A%20%20title%3A%20%22Plot%20Title%22%2C%0A%20%20xaxis%3A%20%7B%0A%20%20%20%20title%3A%20%22x%20Axis%22%2C%0A%20%20%7D%2C%0A%20%20yaxis%3A%20%7B%0A%20%20%20%20title%3A%20%22y%20Axis%22%2C%0A%20%20%7D%2C%0A%20%20autosize%3A%20true%2C%0A%7D%3B%0A%0Aif%20%28%22title%22%20in%20data%29%20%7B%0A%20%20layout.title%20%3D%20data.title%3B%0A%7D%0A%0Aif%20%28%22xaxis_title%22%20in%20data%29%20%7B%0A%20%20layout.xaxis.title%20%3D%20data.xaxis_title%3B%0A%7D%0A%0Aif%20%28%22yaxis_title%22%20in%20data%29%20%7B%0A%20%20layout.yaxis.title%20%3D%20data.yaxis_title%3B%0A%7D%0A%0Alayout.xaxis.type%20%3D%20data%5B%22xaxis_type%22%5D%3B%0Alayout.yaxis.type%20%3D%20data%5B%22yaxis_type%22%5D%3B%0A%0Aif%20%28%22ydomain%22%20in%20data%29%7B%0A%20%20layout.yaxis.domain%20%3D%20data.ydomain%3B%0A%7D%0Aif%20%28%22xdomain%22%20in%20data%29%7B%0A%20%20layout.xaxis.domain%20%3D%20data.xdomain%3B%0A%7D%0A%0Aif%20%28%22yrange%22%20in%20data%29%7B%0A%20%20layout.yaxis.range%20%3D%20data.yrange%3B%0A%7D%0Aif%20%28%22xrange%22%20in%20data%29%7B%0A%20%20layout.xaxis.range%20%3D%20data.xrange%3B%0A%7D%0A%0Aif%20%28%22axesratio%22%20in%20data%29%7B%0A%20%20layout.yaxis.scaleanchor%20%3D%20%22x%22%3B%0A%20%20layout.yaxis.scaleratio%20%3D%20data.axesratio%3B%0A%7D%0A%0Aif%20%28%22xdtick%22%20in%20data%29%7B%0A%20%20layout.xaxis.dtick%20%3D%20data.xdtick%3B%0A%7D%0A%0Aif%20%28%22ydtick%22%20in%20data%29%7B%0A%20%20layout.yaxis.dtick%20%3D%20data.ydtick%3B%0A%7D%0A%0Aif%20%28%22color%22%20in%20data%29%20%7B%0A%20%20if%20%28%22colorscale%22%20in%20data%29%20%7B%0A%20%20%20%20trace.colorscale%20%3D%20data.colorscale%3B%0A%20%20%20%20trace.marker.colorscale%20%3D%20data.colorscale%3B%0A%20%20%20%20trace.marker.colorbar%20%3D%20%7B%0A%20%20%20%20%20%20title%3A%20%22%22%2C%0A%20%20%20%20%20%20titleside%3A%20%22top%22%2C%0A%20%20%20%20%7D%3B%0A%20%20%7D%0A%7D%0A%0APlotly.newPlot%28%0A%20%20%22basevis-entry%22%2C%0A%20%20plot_data%2C%0A%20%20layout%2C%0A%20%20%28config%20%3D%20%7B%0A%20%20%20%20displaylogo%3A%20false%2C%0A%20%20%20%20modeBarButtonsToRemove%3A%20%5B%22zoom2d%22%2C%20%22pan2d%22%2C%20%22select2d%22%2C%20%22lasso2d%22%5D%2C%0A%20%20%7D%29%0A%29%3B%0A%0Aif%20%28%22layout_update%22%20in%20data%29%7B%0A%20%20Plotly.update%28%22basevis-entry%22%2C%20%7B%7D%2C%20data.layout_update%29%3B%0A%7D%0A%0Aif%20%28%22trace_update%22%20in%20data%29%7B%0A%20%20Plotly.addTraces%28%22basevis-entry%22%2C%20data.trace_update%29%3B%0A%7D%0A%0Aconst%20hoverCanvas%20%3D%20document.createElement%28%22canvas%22%29%3B%0AhoverCanvas.id%20%3D%20%22hoverCanvas%22%3B%0A%0Aconst%20hoverBackground%20%3D%20document.createElement%28%22canvas%22%29%3B%0AhoverBackground.id%20%3D%20%22hoverBackground%22%3B%0A%0Avar%20hoverSize%20%3D%20parseFloat%28data.hover_size%29%3B%0A%0Aplot.appendChild%28hoverCanvas%29%3B%0Aplot.appendChild%28hoverBackground%29%3B%0A%0Aplot%0A%20%20.on%28%22plotly_hover%22%2C%20function%20%28data%29%20%7B%0A%20%20%20%20var%20xaxis%20%3D%20data.points%5B0%5D.xaxis%2C%0A%20%20%20%20%20%20yaxis%20%3D%20data.points%5B0%5D.yaxis%3B%0A%0A%20%20%20%20data.points.map%28function%20%28d%29%20%7B%0A%20%20%20%20%20%20hoverCanvas.hidden%20%3D%20false%3B%0A%20%20%20%20%20%20hoverBackground.hidden%20%3D%20false%3B%0A%0A%20%20%20%20%20%20ctx%20%3D%20hoverCanvas.getContext%28%222d%22%29%3B%0A%0A%20%20%20%20%20%20SmilesDrawer.parse%28d.text%2C%20function%20%28smiles%29%20%7B%0A%20%20%20%20%20%20%20%20smilesDrawer.draw%28smiles%2C%20%22hoverCanvas%22%2C%20%22light%22%2C%20false%29%3B%0A%20%20%20%20%20%20%7D%29%3B%0A%0A%20%20%20%20%20%20ctx.fillStyle%20%3D%20%22black%22%3B%0A%20%20%20%20%20%20ctx.shadowColor%20%3D%20%22black%22%3B%0A%20%20%20%20%20%20ctx.shadowBlur%20%3D%2020%3B%0A%20%20%20%20%20%20ctx.lineJoin%20%3D%20%22bevel%22%3B%0A%20%20%20%20%20%20ctx.lineWidth%20%3D%2015%3B%0A%20%20%20%20%20%20ctx.strokeRect%280%2C%200%2C%20hoverCanvas.width%2C%20hoverCanvas.height%2C%20%22light%22%29%3B%0A%0A%20%20%20%20%20%20hoverBackground.width%20%3D%20hoverCanvas.width%3B%0A%20%20%20%20%20%20hoverBackground.height%20%3D%20hoverCanvas.height%3B%0A%20%20%20%20%20%20ctx%20%3D%20hoverBackground.getContext%28%222d%22%29%3B%0A%20%20%20%20%20%20ctx.fillStyle%20%3D%20%22white%22%3B%0A%20%20%20%20%20%20ctx.fillRect%280%2C%200%2C%20hoverBackground.width%2C%20hoverBackground.height%29%3B%0A%0A%20%20%20%20%20%20var%20x%20%3D%20%28d.x%20-%20xaxis.range%5B0%5D%29%20%2F%20%28xaxis.range%5B1%5D%20-%20xaxis.range%5B0%5D%29%3B%0A%20%20%20%20%20%20var%20y%20%3D%20%28d.y%20-%20yaxis.range%5B0%5D%29%20%2F%20%28yaxis.range%5B1%5D%20-%20yaxis.range%5B0%5D%29%3B%0A%20%20%20%20%20%20var%20xdir%20%3D%20%28%28x%20%3E%200.5%29%20%3F%20%27right%27%20%3A%20%27left%27%29%3B%0A%20%20%20%20%20%20var%20ydir%20%3D%20%28%28y%20%3E%200.5%29%20%3F%20%27top%27%20%3A%20%27bottom%27%29%3B%0A%20%20%20%20%20%20Plotly.update%28%0A%20%20%20%20%20%20%20%20%22basevis-entry%22%2C%0A%20%20%20%20%20%20%20%20%7B%7D%2C%0A%20%20%20%20%20%20%20%20%7B%0A%20%20%20%20%20%20%20%20%20%20%2F%2F%20margin%3A%20%7B%20t%3A%20100%2C%20b%3A%20100%2C%20l%3A%2050%2C%20r%3A%2050%20%7D%2C%0A%20%20%20%20%20%20%20%20%20%20annotations%3A%20%5B%0A%20%20%20%20%20%20%20%20%20%20%20%20%7B%0A%20%20%20%20%20%20%20%20%20%20%20%20%20%20x%3A%20d.x%2C%0A%20%20%20%20%20%20%20%20%20%20%20%20%20%20y%3A%20d.y%2C%0A%20%20%20%20%20%20%20%20%20%20%20%20%20%20xref%3A%20%22x%22%2C%0A%20%20%20%20%20%20%20%20%20%20%20%20%20%20yref%3A%20%22y%22%2C%0A%20%20%20%20%20%20%20%20%20%20%20%20%20%20text%3A%20%22%22%2C%0A%20%20%20%20%20%20%20%20%20%20%20%20%20%20showarrow%3A%20true%2C%0A%20%20%20%20%20%20%20%20%20%20%20%20%20%20arrowhead%3A%207%2C%0A%20%20%20%20%20%20%20%20%20%20%20%20%20%20ax%3A%200%2C%0A%20%20%20%20%20%20%20%20%20%20%20%20%20%20ay%3A%200%2C%0A%20%20%20%20%20%20%20%20%20%20%20%20%7D%2C%0A%20%20%20%20%20%20%20%20%20%20%5D%2C%0A%20%20%20%20%20%20%20%20%20%20images%3A%20%5B%0A%20%20%20%20%20%20%20%20%20%20%20%20%7B%0A%20%20%20%20%20%20%20%20%20%20%20%20%20%20x%3A%20x%2C%0A%20%20%20%20%20%20%20%20%20%20%20%20%20%20y%3A%20y%2C%0A%20%20%20%20%20%20%20%20%20%20%20%20%20%20sizex%3A%20hoverSize%2C%0A%20%20%20%20%20%20%20%20%20%20%20%20%20%20sizey%3A%20hoverSize%2C%0A%20%20%20%20%20%20%20%20%20%20%20%20%20%20xref%3A%20%22paper%22%2C%0A%20%20%20%20%20%20%20%20%20%20%20%20%20%20yref%3A%20%22paper%22%2C%0A%20%20%20%20%20%20%20%20%20%20%20%20%20%20source%3A%20document.getElementById%28%22hoverBackground%22%29.toDataURL%28%29%2C%0A%20%20%20%20%20%20%20%20%20%20%20%20%20%20xanchor%3A%20xdir%2C%0A%20%20%20%20%20%20%20%20%20%20%20%20%20%20yanchor%3A%20ydir%2C%0A%20%20%20%20%20%20%20%20%20%20%20%20%20%20layer%3A%20%22above%22%2C%0A%20%20%20%20%20%20%20%20%20%20%20%20%7D%2C%0A%20%20%20%20%20%20%20%20%20%20%20%20%7B%0A%20%20%20%20%20%20%20%20%20%20%20%20%20%20x%3A%20x%2C%0A%20%20%20%20%20%20%20%20%20%20%20%20%20%20y%3A%20y%2C%0A%20%20%20%20%20%20%20%20%20%20%20%20%20%20sizex%3A%20hoverSize%2C%0A%20%20%20%20%20%20%20%20%20%20%20%20%20%20sizey%3A%20hoverSize%2C%0A%20%20%20%20%20%20%20%20%20%20%20%20%20%20xref%3A%20%22paper%22%2C%0A%20%20%20%20%20%20%20%20%20%20%20%20%20%20yref%3A%20%22paper%22%2C%0A%20%20%20%20%20%20%20%20%20%20%20%20%20%20source%3A%20document.getElementById%28%22hoverCanvas%22%29.toDataURL%28%29%2C%0A%20%20%20%20%20%20%20%20%20%20%20%20%20%20xanchor%3A%20xdir%2C%0A%20%20%20%20%20%20%20%20%20%20%20%20%20%20yanchor%3A%20ydir%2C%0A%20%20%20%20%20%20%20%20%20%20%20%20%20%20layer%3A%20%22above%22%2C%0A%20%20%20%20%20%20%20%20%20%20%20%20%7D%2C%0A%20%20%20%20%20%20%20%20%20%20%5D%2C%0A%20%20%20%20%20%20%20%20%7D%0A%20%20%20%20%20%20%29%3B%0A%20%20%20%20%20%20hoverCanvas.hidden%20%3D%20true%3B%0A%20%20%20%20%20%20hoverBackground.hidden%20%3D%20true%3B%0A%20%20%20%20%7D%29%3B%0A%20%20%7D%29%0A%20%20.on%28%22plotly_unhover%22%2C%20function%20%28data%29%20%7B%0A%20%20%20%20Plotly.update%28%22basevis-entry%22%2C%20%7B%7D%2C%20%7B%20annotations%3A%20%5B%5D%2C%20images%3A%20%5B%5D%20%7D%29%3B%0A%20%20%7D%29%3B%0A%3C%2Fscript%3E%3Cscript%3E%20window.addEventListener%28%22resize%22%2C%20function%28%29%7Bif%20%28document.getElementById%28%22basevis-entry%22%29%29%20%7BPlotly.Plots.resize%28document.getElementById%28%22basevis-entry%22%29%29%3B%7D%3B%7D%29%20%3C%2Fscript%3E\"\n",
                            "            frameborder=\"0\"\n",
                            "            allowfullscreen\n",
                            "            \n",
                            "        ></iframe>\n",
                            "        "
                        ],
                        "text/plain": [
                            "<IPython.lib.display.IFrame at 0x7f69380ca5b0>"
                        ]
                    },
                    "execution_count": 8,
                    "metadata": {},
                    "output_type": "execute_result"
                }
            ],
            "source": [
                "vis = oce.VisualizeModelSim(dataset, model, eval_set=\"test\")\n",
                "vis.render_ipynb()"
            ]
        }
    ],
    "metadata": {
        "kernelspec": {
            "display_name": "oce",
            "language": "python",
            "name": "python3"
        },
        "language_info": {
            "codemirror_mode": {
                "name": "ipython",
                "version": 3
            },
            "file_extension": ".py",
            "mimetype": "text/x-python",
            "name": "python",
            "nbconvert_exporter": "python",
            "pygments_lexer": "ipython3",
            "version": "3.9.15"
        },
        "orig_nbformat": 4,
        "vscode": {
            "interpreter": {
                "hash": "106d027d5062398cac873161aed9d16750cafe87a273851ecd62758bbea0eb2e"
            }
        }
    },
    "nbformat": 4,
    "nbformat_minor": 2
}
