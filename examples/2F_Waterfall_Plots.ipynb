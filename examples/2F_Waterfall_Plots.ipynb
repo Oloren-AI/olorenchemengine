{
    "cells": [
        {
            "cell_type": "markdown",
            "metadata": {},
            "source": [
                "# Waterfall Plots\n",
                "\n",
                "## Background \n",
                "Waterfall plots are commonly used to interpret finanicial data to see cash inflows and outflows. However, they're readily adaptable for interpreting base boosting models.\n",
                "\n",
                "In a base boosting framework, each iterative model aims to predict the residual of the previous model. Ideally, as we combine the residuals they get closer and closer to 0, as that means we've accurately predicted the desired value. \n",
                "\n",
                "Thus, by taking the standard deviation of the residuals at reach \"level\" of a base boosting model, the decrease in standard deviation reflects the individual model's contribution. "
            ]
        },
        {
            "cell_type": "markdown",
            "metadata": {},
            "source": [
                "Let's get started with a basic example. This is the same dataset and model as the minimal example. "
            ]
        },
        {
            "cell_type": "code",
            "execution_count": null,
            "metadata": {},
            "outputs": [],
            "source": [
                "import olorenchemengine as oce\n",
                "import pandas as pd\n",
                "\n",
                "df = pd.read_csv(\"https://storage.googleapis.com/oloren-public-data/CHEMBL%20Datasets/997_2298%20-%20VEGFR1%20(CHEMBL1868).csv\")\n",
                "dataset = (oce.BaseDataset(data = df.to_csv(),\n",
                "    structure_col = \"Smiles\", property_col = \"pChEMBL Value\") +\n",
                "           oce.CleanStructures() + \n",
                "           oce.ScaffoldSplit()\n",
                ")"
            ]
        },
        {
            "cell_type": "code",
            "execution_count": null,
            "metadata": {},
            "outputs": [],
            "source": [
                "model = oce.BaseBoosting([\n",
                "    oce.RandomForestModel(oce.DescriptastorusDescriptor(\"morgan3counts\"), n_estimators=1000),\n",
                "    oce.RandomForestModel(oce.OlorenCheckpoint(\"default\"), n_estimators=1000),\n",
                "    oce.ChemPropModel(epochs=20, batch_size=64),\n",
                "])\n",
                "\n",
                "model.fit(*dataset.train_dataset)"
            ]
        },
        {
            "cell_type": "code",
            "execution_count": 9,
            "metadata": {},
            "outputs": [
                {
                    "name": "stderr",
                    "output_type": "stream",
                    "text": [
                        "100it [00:00, 307.87it/s]\n",
                        "100%|██████████| 2/2 [00:00<00:00, 43.75it/s]\n"
                    ]
                },
                {
                    "data": {
                        "text/plain": [
                            "{'r2': 0.5471913837930813,\n",
                            " 'Spearman': 0.7833685687985066,\n",
                            " 'Explained Variance': 0.5991635757305507,\n",
                            " 'Max Error': 2.5811079740992247,\n",
                            " 'Mean Absolute Error': 0.4982035876207892,\n",
                            " 'Mean Squared Error': 0.5514472859713764,\n",
                            " 'Root Mean Squared Error': 0.7425949676447965}"
                        ]
                    },
                    "execution_count": 9,
                    "metadata": {},
                    "output_type": "execute_result"
                }
            ],
            "source": [
                "model.test(*dataset.test_dataset)"
            ]
        },
        {
            "cell_type": "markdown",
            "metadata": {},
            "source": [
                "With a base boosting model trained, we can hop into generating waterfall plots."
            ]
        },
        {
            "cell_type": "markdown",
            "metadata": {},
            "source": [
                "## Basic Waterfall Plot Generation\n",
                "The visualization takes in a model and data. In the background, we're running prediction on the provided data, calculating the residuals, and plotting them."
            ]
        },
        {
            "cell_type": "code",
            "execution_count": 10,
            "metadata": {},
            "outputs": [
                {
                    "name": "stderr",
                    "output_type": "stream",
                    "text": [
                        "790it [00:02, 303.12it/s]\n",
                        "100%|██████████| 13/13 [00:00<00:00, 25.15it/s]\n"
                    ]
                },
                {
                    "data": {
                        "text/html": [
                            "\n",
                            "        <iframe\n",
                            "            width=\"800\"\n",
                            "            height=\"600\"\n",
                            "            src=\"data:text/html,%0A%20%20%20%20%20%20%20%20%3C%21DOCTYPE%20html%3E%0A%20%20%20%20%20%20%20%20%3Chead%3E%0A%20%20%20%20%20%20%20%20%3Cmeta%20charset%3D%22utf-8%22%3E%0A%20%20%20%20%20%20%20%20%3C%2Fhead%3E%0A%0A%20%20%20%20%20%20%20%20%3Chtml%20style%3D%22height%3A%20100%25%3B%22%3E%0A%0A%20%20%20%20%20%20%20%20%3C%21--%20Load%20packages%20--%3E%0A%20%20%20%20%20%20%20%20%3Cscript%20src%20%3D%20%22https%3A%2F%2Fcdn.plot.ly%2Fplotly-2.14.0.min.js%22%3E%3C%2Fscript%3E%0A%20%20%20%20%20%20%20%20%3Cbody%20style%3D%22background-color%3A%23FFFFFF%3B%20height%3A%20100%25%3B%22%3E%0A%20%20%20%20%20%20%20%20%3C%21--%20Create%20a%20div%20where%20the%20graph%20will%20take%20place%20--%3E%0A%20%20%20%20%20%20%20%20%3Cdiv%20id%3D%22basevis-entry%22%20data-visdata%3D%22%7B%26quot%3Bdiffs%26quot%3B%3A%5B1.2024266285923195%2C-0.5514177875871988%2C-0.18308615047859716%2C-0.0015299951460190364%2C0.0%5D%2C%26quot%3Bmodel_names%26quot%3B%3A%5B%26quot%3BDataset%20Baseline%26quot%3B%2C%26quot%3BModel%201%26quot%3B%2C%26quot%3BModel%202%26quot%3B%2C%26quot%3BModel%203%26quot%3B%2C%26quot%3BBoosted%20Model%26quot%3B%5D%2C%26quot%3Btext%26quot%3B%3A%5B%26quot%3B1.20%26quot%3B%2C%26quot%3B-0.55%26quot%3B%2C%26quot%3B-0.18%26quot%3B%2C%26quot%3B-0.00%26quot%3B%2C%26quot%3B0.47%26quot%3B%5D%2C%26quot%3Bw_type%26quot%3B%3A%5B%26quot%3Brelative%26quot%3B%2C%26quot%3Brelative%26quot%3B%2C%26quot%3Brelative%26quot%3B%2C%26quot%3Brelative%26quot%3B%2C%26quot%3Btotal%26quot%3B%5D%7D%22%20style%3D%22width%3A%20100%25%3B%20height%3A%20100%25%3B%20display%3Ainline-block%3B%22%3E%3C%2Fdiv%3E%0A%20%20%20%20%20%20%20%20%3C%2Fbody%3E%0A%20%20%20%20%20%20%20%20%3C%2Fmeta%3E%0A%20%20%20%20%20%20%20%20%3Cscript%3Econst%20data%20%3D%20JSON.parse%28%0A%20%20%20%20document.getElementById%28%22basevis-entry%22%29.dataset.visdata%0A%20%20%29%3B%0A%20%20%0A%20%20var%20trace%20%3D%20%7B%0A%20%20%20%20x%3A%20data.model_names%2C%0A%20%20%20%20y%3A%20data.diffs%2C%0A%20%20%20%20type%3A%20%22waterfall%22%2C%0A%20%20%20%20textposition%3A%20%22outside%22%2C%0A%20%20%20%20text%3A%20data.text%2C%0A%20%20%20%20measure%3A%20data.w_type%2C%0A%20%20%20%20orientation%3A%20%22v%22%2C%0A%20%20%20%20autosize%3A%20true%2C%0A%20%20%20%20xhoverformat%3A%20data.model_names%2C%0A%20%20%20%20increasing%3A%20%7Bmarker%3A%20%7Bcolor%3A%20%22%231F3363%22%7D%7D%2C%0A%20%20%20%20decreasing%3A%20%7Bmarker%3A%20%7Bcolor%3A%20%22%23631A43%22%7D%7D%2C%0A%20%20%20%20totals%3A%20%7Bmarker%3A%20%7Bcolor%3A%20%22%234065B0%22%7D%7D%2C%0A%20%20%20%20connector%3A%20%7Bline%3A%20%7Bcolor%3A%20%22rgb%2854%2C%2054%2C%20255%29%22%7D%7D%2C%0A%20%20%7D%3B%0A%20%20%0A%20%20var%20plot_data%20%3D%20%5Btrace%5D%3B%0A%20%20%0A%20%20var%20layout%20%3D%20%7B%0A%20%20%20%20title%3A%20%7B%0A%20%20%20%20%20%20%20%20text%3A%20%22Base%20Boosted%20Model%20Waterfall%20Plot%20Residuals%20%28Standard%20Deviation%29%22%2C%0A%20%20%20%20%7D%2C%0A%20%20%20%20xaxis%3A%20%7B%0A%20%20%20%20%20%20%20%20title%3A%20%7Btext%3A%20%22Model%20Iterations%22%7D%2C%0A%20%20%20%20%20%20%20%20type%3A%20%22category%22%0A%20%20%20%20%7D%2C%0A%20%20%20%20yaxis%3A%20%7B%0A%20%20%20%20%20%20%20%20title%3A%20%7Btext%3A%20%22Standard%20Deviation%22%7D%2C%0A%20%20%20%20%20%20%20%20type%3A%20%22linear%22%0A%20%20%20%20%7D%2C%0A%20%20%7D%3B%0A%20%20%0A%20%20Plotly.newPlot%28%22basevis-entry%22%2C%20plot_data%2C%20layout%2C%20%7B%0A%20%20%20%20displaylogo%3A%20false%2C%0A%20%20%20%20modeBarButtonsToRemove%3A%20%5B%22zoom2d%22%2C%20%22pan2d%22%2C%20%22select2d%22%2C%20%22lasso2d%22%5D%2C%0A%20%20%7D%29%3B%0A%20%20%3C%2Fscript%3E%3Cscript%3E%20window.addEventListener%28%22resize%22%2C%20function%28%29%7Bif%20%28document.getElementById%28%22basevis-entry%22%29%29%20%7BPlotly.Plots.resize%28document.getElementById%28%22basevis-entry%22%29%29%3B%7D%3B%7D%29%20%3C%2Fscript%3E\"\n",
                            "            frameborder=\"0\"\n",
                            "            allowfullscreen\n",
                            "            \n",
                            "        ></iframe>\n",
                            "        "
                        ],
                        "text/plain": [
                            "<IPython.lib.display.IFrame at 0x7f9ec5ee7820>"
                        ]
                    },
                    "execution_count": 10,
                    "metadata": {},
                    "output_type": "execute_result"
                }
            ],
            "source": [
                "vis = oce.BaseErrorWaterfall(model, *dataset.train_dataset)\n",
                "# vis = oce.BaseErrorWaterfall(model, dataset.train_dataset[0], dataset.train_dataset[1]) returns the same result \n",
                "vis.render_ipynb()"
            ]
        },
        {
            "cell_type": "markdown",
            "metadata": {},
            "source": [
                "Note that dataset baseline is generated by guessing the mean of the provided dataset. \n",
                "\n",
                "We can see that the first 2 models meaningfully improved the performance, but the 3rd model made little contribution. Let's explore what happens if we make another base boosting model without the 3rd ChemProp model."
            ]
        },
        {
            "cell_type": "code",
            "execution_count": null,
            "metadata": {},
            "outputs": [],
            "source": [
                "model2 = oce.BaseBoosting([\n",
                "    oce.RandomForestModel(oce.DescriptastorusDescriptor(\"morgan3counts\"), n_estimators=1000),\n",
                "    oce.RandomForestModel(oce.OlorenCheckpoint(\"default\"), n_estimators=1000),\n",
                "])\n",
                "\n",
                "model2.fit(*dataset.train_dataset)"
            ]
        },
        {
            "cell_type": "code",
            "execution_count": 11,
            "metadata": {},
            "outputs": [
                {
                    "data": {
                        "text/plain": [
                            "{'r2': 0.5468501644869088,\n",
                            " 'Spearman': 0.7803775235341537,\n",
                            " 'Explained Variance': 0.6053431346825286,\n",
                            " 'Max Error': 2.558878681651925,\n",
                            " 'Mean Absolute Error': 0.49958443257914614,\n",
                            " 'Mean Squared Error': 0.5518628356176841,\n",
                            " 'Root Mean Squared Error': 0.7428747105788998}"
                        ]
                    },
                    "execution_count": 11,
                    "metadata": {},
                    "output_type": "execute_result"
                }
            ],
            "source": [
                "model2.test(*dataset.test_dataset)"
            ]
        },
        {
            "cell_type": "code",
            "execution_count": 12,
            "metadata": {},
            "outputs": [
                {
                    "data": {
                        "text/html": [
                            "\n",
                            "        <iframe\n",
                            "            width=\"800\"\n",
                            "            height=\"600\"\n",
                            "            src=\"data:text/html,%0A%20%20%20%20%20%20%20%20%3C%21DOCTYPE%20html%3E%0A%20%20%20%20%20%20%20%20%3Chead%3E%0A%20%20%20%20%20%20%20%20%3Cmeta%20charset%3D%22utf-8%22%3E%0A%20%20%20%20%20%20%20%20%3C%2Fhead%3E%0A%0A%20%20%20%20%20%20%20%20%3Chtml%20style%3D%22height%3A%20100%25%3B%22%3E%0A%0A%20%20%20%20%20%20%20%20%3C%21--%20Load%20packages%20--%3E%0A%20%20%20%20%20%20%20%20%3Cscript%20src%20%3D%20%22https%3A%2F%2Fcdn.plot.ly%2Fplotly-2.14.0.min.js%22%3E%3C%2Fscript%3E%0A%20%20%20%20%20%20%20%20%3Cbody%20style%3D%22background-color%3A%23FFFFFF%3B%20height%3A%20100%25%3B%22%3E%0A%20%20%20%20%20%20%20%20%3C%21--%20Create%20a%20div%20where%20the%20graph%20will%20take%20place%20--%3E%0A%20%20%20%20%20%20%20%20%3Cdiv%20id%3D%22basevis-entry%22%20data-visdata%3D%22%7B%26quot%3Bdiffs%26quot%3B%3A%5B1.2024266285923195%2C-0.5505602047153971%2C-0.18540780918629068%2C0.0%5D%2C%26quot%3Bmodel_names%26quot%3B%3A%5B%26quot%3BDataset%20Baseline%26quot%3B%2C%26quot%3BModel%201%26quot%3B%2C%26quot%3BModel%202%26quot%3B%2C%26quot%3BBoosted%20Model%26quot%3B%5D%2C%26quot%3Btext%26quot%3B%3A%5B%26quot%3B1.20%26quot%3B%2C%26quot%3B-0.55%26quot%3B%2C%26quot%3B-0.19%26quot%3B%2C%26quot%3B0.47%26quot%3B%5D%2C%26quot%3Bw_type%26quot%3B%3A%5B%26quot%3Brelative%26quot%3B%2C%26quot%3Brelative%26quot%3B%2C%26quot%3Brelative%26quot%3B%2C%26quot%3Btotal%26quot%3B%5D%7D%22%20style%3D%22width%3A%20100%25%3B%20height%3A%20100%25%3B%20display%3Ainline-block%3B%22%3E%3C%2Fdiv%3E%0A%20%20%20%20%20%20%20%20%3C%2Fbody%3E%0A%20%20%20%20%20%20%20%20%3C%2Fmeta%3E%0A%20%20%20%20%20%20%20%20%3Cscript%3Econst%20data%20%3D%20JSON.parse%28%0A%20%20%20%20document.getElementById%28%22basevis-entry%22%29.dataset.visdata%0A%20%20%29%3B%0A%20%20%0A%20%20var%20trace%20%3D%20%7B%0A%20%20%20%20x%3A%20data.model_names%2C%0A%20%20%20%20y%3A%20data.diffs%2C%0A%20%20%20%20type%3A%20%22waterfall%22%2C%0A%20%20%20%20textposition%3A%20%22outside%22%2C%0A%20%20%20%20text%3A%20data.text%2C%0A%20%20%20%20measure%3A%20data.w_type%2C%0A%20%20%20%20orientation%3A%20%22v%22%2C%0A%20%20%20%20autosize%3A%20true%2C%0A%20%20%20%20xhoverformat%3A%20data.model_names%2C%0A%20%20%20%20increasing%3A%20%7Bmarker%3A%20%7Bcolor%3A%20%22%231F3363%22%7D%7D%2C%0A%20%20%20%20decreasing%3A%20%7Bmarker%3A%20%7Bcolor%3A%20%22%23631A43%22%7D%7D%2C%0A%20%20%20%20totals%3A%20%7Bmarker%3A%20%7Bcolor%3A%20%22%234065B0%22%7D%7D%2C%0A%20%20%20%20connector%3A%20%7Bline%3A%20%7Bcolor%3A%20%22rgb%2854%2C%2054%2C%20255%29%22%7D%7D%2C%0A%20%20%7D%3B%0A%20%20%0A%20%20var%20plot_data%20%3D%20%5Btrace%5D%3B%0A%20%20%0A%20%20var%20layout%20%3D%20%7B%0A%20%20%20%20title%3A%20%7B%0A%20%20%20%20%20%20%20%20text%3A%20%22Base%20Boosted%20Model%20Waterfall%20Plot%20Residuals%20%28Standard%20Deviation%29%22%2C%0A%20%20%20%20%7D%2C%0A%20%20%20%20xaxis%3A%20%7B%0A%20%20%20%20%20%20%20%20title%3A%20%7Btext%3A%20%22Model%20Iterations%22%7D%2C%0A%20%20%20%20%20%20%20%20type%3A%20%22category%22%0A%20%20%20%20%7D%2C%0A%20%20%20%20yaxis%3A%20%7B%0A%20%20%20%20%20%20%20%20title%3A%20%7Btext%3A%20%22Standard%20Deviation%22%7D%2C%0A%20%20%20%20%20%20%20%20type%3A%20%22linear%22%0A%20%20%20%20%7D%2C%0A%20%20%7D%3B%0A%20%20%0A%20%20Plotly.newPlot%28%22basevis-entry%22%2C%20plot_data%2C%20layout%2C%20%7B%0A%20%20%20%20displaylogo%3A%20false%2C%0A%20%20%20%20modeBarButtonsToRemove%3A%20%5B%22zoom2d%22%2C%20%22pan2d%22%2C%20%22select2d%22%2C%20%22lasso2d%22%5D%2C%0A%20%20%7D%29%3B%0A%20%20%3C%2Fscript%3E%3Cscript%3E%20window.addEventListener%28%22resize%22%2C%20function%28%29%7Bif%20%28document.getElementById%28%22basevis-entry%22%29%29%20%7BPlotly.Plots.resize%28document.getElementById%28%22basevis-entry%22%29%29%3B%7D%3B%7D%29%20%3C%2Fscript%3E\"\n",
                            "            frameborder=\"0\"\n",
                            "            allowfullscreen\n",
                            "            \n",
                            "        ></iframe>\n",
                            "        "
                        ],
                        "text/plain": [
                            "<IPython.lib.display.IFrame at 0x7f9d80b5e7c0>"
                        ]
                    },
                    "execution_count": 12,
                    "metadata": {},
                    "output_type": "execute_result"
                }
            ],
            "source": [
                "vis = oce.BaseErrorWaterfall(model2, *dataset.train_dataset)\n",
                "vis.render_ipynb()"
            ]
        },
        {
            "cell_type": "markdown",
            "metadata": {},
            "source": [
                "Looking at both the r^2 values and the waterfall plots, the performance is almost the same! "
            ]
        },
        {
            "cell_type": "markdown",
            "metadata": {},
            "source": [
                "## Advanced Waterfall Plots \n",
                "### Normalization\n",
                "By default, these plots show unnormalized standard deviations. We think that this leads to better interpretability since the baseline is with respect to the orignal dataset. However, the residuals can be normalized! "
            ]
        },
        {
            "cell_type": "code",
            "execution_count": 13,
            "metadata": {},
            "outputs": [
                {
                    "name": "stderr",
                    "output_type": "stream",
                    "text": [
                        "790it [00:02, 282.72it/s]\n",
                        "100%|██████████| 13/13 [00:00<00:00, 32.65it/s]\n"
                    ]
                },
                {
                    "data": {
                        "text/html": [
                            "\n",
                            "        <iframe\n",
                            "            width=\"800\"\n",
                            "            height=\"600\"\n",
                            "            src=\"data:text/html,%0A%20%20%20%20%20%20%20%20%3C%21DOCTYPE%20html%3E%0A%20%20%20%20%20%20%20%20%3Chead%3E%0A%20%20%20%20%20%20%20%20%3Cmeta%20charset%3D%22utf-8%22%3E%0A%20%20%20%20%20%20%20%20%3C%2Fhead%3E%0A%0A%20%20%20%20%20%20%20%20%3Chtml%20style%3D%22height%3A%20100%25%3B%22%3E%0A%0A%20%20%20%20%20%20%20%20%3C%21--%20Load%20packages%20--%3E%0A%20%20%20%20%20%20%20%20%3Cscript%20src%20%3D%20%22https%3A%2F%2Fcdn.plot.ly%2Fplotly-2.14.0.min.js%22%3E%3C%2Fscript%3E%0A%20%20%20%20%20%20%20%20%3Cbody%20style%3D%22background-color%3A%23FFFFFF%3B%20height%3A%20100%25%3B%22%3E%0A%20%20%20%20%20%20%20%20%3C%21--%20Create%20a%20div%20where%20the%20graph%20will%20take%20place%20--%3E%0A%20%20%20%20%20%20%20%20%3Cdiv%20id%3D%22basevis-entry%22%20data-visdata%3D%22%7B%26quot%3Bdiffs%26quot%3B%3A%5B1.0%2C-0.4585874717634485%2C-0.15226388548375375%2C-0.0012724167589835411%2C0.0%5D%2C%26quot%3Bmodel_names%26quot%3B%3A%5B%26quot%3BDataset%20Baseline%26quot%3B%2C%26quot%3BModel%201%26quot%3B%2C%26quot%3BModel%202%26quot%3B%2C%26quot%3BModel%203%26quot%3B%2C%26quot%3BBoosted%20Model%26quot%3B%5D%2C%26quot%3Btext%26quot%3B%3A%5B%26quot%3B1.00%26quot%3B%2C%26quot%3B-0.46%26quot%3B%2C%26quot%3B-0.15%26quot%3B%2C%26quot%3B-0.00%26quot%3B%2C%26quot%3B0.39%26quot%3B%5D%2C%26quot%3Bw_type%26quot%3B%3A%5B%26quot%3Brelative%26quot%3B%2C%26quot%3Brelative%26quot%3B%2C%26quot%3Brelative%26quot%3B%2C%26quot%3Brelative%26quot%3B%2C%26quot%3Btotal%26quot%3B%5D%7D%22%20style%3D%22width%3A%20100%25%3B%20height%3A%20100%25%3B%20display%3Ainline-block%3B%22%3E%3C%2Fdiv%3E%0A%20%20%20%20%20%20%20%20%3C%2Fbody%3E%0A%20%20%20%20%20%20%20%20%3C%2Fmeta%3E%0A%20%20%20%20%20%20%20%20%3Cscript%3Econst%20data%20%3D%20JSON.parse%28%0A%20%20%20%20document.getElementById%28%22basevis-entry%22%29.dataset.visdata%0A%20%20%29%3B%0A%20%20%0A%20%20var%20trace%20%3D%20%7B%0A%20%20%20%20x%3A%20data.model_names%2C%0A%20%20%20%20y%3A%20data.diffs%2C%0A%20%20%20%20type%3A%20%22waterfall%22%2C%0A%20%20%20%20textposition%3A%20%22outside%22%2C%0A%20%20%20%20text%3A%20data.text%2C%0A%20%20%20%20measure%3A%20data.w_type%2C%0A%20%20%20%20orientation%3A%20%22v%22%2C%0A%20%20%20%20autosize%3A%20true%2C%0A%20%20%20%20xhoverformat%3A%20data.model_names%2C%0A%20%20%20%20increasing%3A%20%7Bmarker%3A%20%7Bcolor%3A%20%22%231F3363%22%7D%7D%2C%0A%20%20%20%20decreasing%3A%20%7Bmarker%3A%20%7Bcolor%3A%20%22%23631A43%22%7D%7D%2C%0A%20%20%20%20totals%3A%20%7Bmarker%3A%20%7Bcolor%3A%20%22%234065B0%22%7D%7D%2C%0A%20%20%20%20connector%3A%20%7Bline%3A%20%7Bcolor%3A%20%22rgb%2854%2C%2054%2C%20255%29%22%7D%7D%2C%0A%20%20%7D%3B%0A%20%20%0A%20%20var%20plot_data%20%3D%20%5Btrace%5D%3B%0A%20%20%0A%20%20var%20layout%20%3D%20%7B%0A%20%20%20%20title%3A%20%7B%0A%20%20%20%20%20%20%20%20text%3A%20%22Base%20Boosted%20Model%20Waterfall%20Plot%20Residuals%20%28Standard%20Deviation%29%22%2C%0A%20%20%20%20%7D%2C%0A%20%20%20%20xaxis%3A%20%7B%0A%20%20%20%20%20%20%20%20title%3A%20%7Btext%3A%20%22Model%20Iterations%22%7D%2C%0A%20%20%20%20%20%20%20%20type%3A%20%22category%22%0A%20%20%20%20%7D%2C%0A%20%20%20%20yaxis%3A%20%7B%0A%20%20%20%20%20%20%20%20title%3A%20%7Btext%3A%20%22Standard%20Deviation%22%7D%2C%0A%20%20%20%20%20%20%20%20type%3A%20%22linear%22%0A%20%20%20%20%7D%2C%0A%20%20%7D%3B%0A%20%20%0A%20%20Plotly.newPlot%28%22basevis-entry%22%2C%20plot_data%2C%20layout%2C%20%7B%0A%20%20%20%20displaylogo%3A%20false%2C%0A%20%20%20%20modeBarButtonsToRemove%3A%20%5B%22zoom2d%22%2C%20%22pan2d%22%2C%20%22select2d%22%2C%20%22lasso2d%22%5D%2C%0A%20%20%7D%29%3B%0A%20%20%3C%2Fscript%3E%3Cscript%3E%20window.addEventListener%28%22resize%22%2C%20function%28%29%7Bif%20%28document.getElementById%28%22basevis-entry%22%29%29%20%7BPlotly.Plots.resize%28document.getElementById%28%22basevis-entry%22%29%29%3B%7D%3B%7D%29%20%3C%2Fscript%3E\"\n",
                            "            frameborder=\"0\"\n",
                            "            allowfullscreen\n",
                            "            \n",
                            "        ></iframe>\n",
                            "        "
                        ],
                        "text/plain": [
                            "<IPython.lib.display.IFrame at 0x7f9ec5dd9040>"
                        ]
                    },
                    "execution_count": 13,
                    "metadata": {},
                    "output_type": "execute_result"
                }
            ],
            "source": [
                "vis = oce.BaseErrorWaterfall(model, *dataset.train_dataset, normalization=True)\n",
                "vis.render_ipynb()"
            ]
        },
        {
            "cell_type": "markdown",
            "metadata": {},
            "source": [
                "### Prediction on just Smiles \n",
                "Furthermore, often we're running predictions on just smiles without pChemBL values. While having a baseline makes interpreting the results easier, we support waterfall plots on predictions. "
            ]
        },
        {
            "cell_type": "code",
            "execution_count": 15,
            "metadata": {},
            "outputs": [
                {
                    "name": "stderr",
                    "output_type": "stream",
                    "text": [
                        "790it [00:02, 304.93it/s]\n",
                        "100%|██████████| 13/13 [00:00<00:00, 36.18it/s]\n"
                    ]
                },
                {
                    "data": {
                        "text/html": [
                            "\n",
                            "        <iframe\n",
                            "            width=\"800\"\n",
                            "            height=\"600\"\n",
                            "            src=\"data:text/html,%0A%20%20%20%20%20%20%20%20%3C%21DOCTYPE%20html%3E%0A%20%20%20%20%20%20%20%20%3Chead%3E%0A%20%20%20%20%20%20%20%20%3Cmeta%20charset%3D%22utf-8%22%3E%0A%20%20%20%20%20%20%20%20%3C%2Fhead%3E%0A%0A%20%20%20%20%20%20%20%20%3Chtml%20style%3D%22height%3A%20100%25%3B%22%3E%0A%0A%20%20%20%20%20%20%20%20%3C%21--%20Load%20packages%20--%3E%0A%20%20%20%20%20%20%20%20%3Cscript%20src%20%3D%20%22https%3A%2F%2Fcdn.plot.ly%2Fplotly-2.14.0.min.js%22%3E%3C%2Fscript%3E%0A%20%20%20%20%20%20%20%20%3Cbody%20style%3D%22background-color%3A%23FFFFFF%3B%20height%3A%20100%25%3B%22%3E%0A%20%20%20%20%20%20%20%20%3C%21--%20Create%20a%20div%20where%20the%20graph%20will%20take%20place%20--%3E%0A%20%20%20%20%20%20%20%20%3Cdiv%20id%3D%22basevis-entry%22%20data-visdata%3D%22%7B%26quot%3Bdiffs%26quot%3B%3A%5B0.5414125282365515%2C-0.15226388548375375%2C-0.0012724167589835411%2C0.0%5D%2C%26quot%3Bmodel_names%26quot%3B%3A%5B%26quot%3BModel%201%20Baseline%26quot%3B%2C%26quot%3BModel%202%26quot%3B%2C%26quot%3BModel%203%26quot%3B%2C%26quot%3BBoosted%20Model%26quot%3B%5D%2C%26quot%3Btext%26quot%3B%3A%5B%26quot%3B0.54%26quot%3B%2C%26quot%3B-0.15%26quot%3B%2C%26quot%3B-0.00%26quot%3B%2C%26quot%3B0.39%26quot%3B%5D%2C%26quot%3Bw_type%26quot%3B%3A%5B%26quot%3Brelative%26quot%3B%2C%26quot%3Brelative%26quot%3B%2C%26quot%3Brelative%26quot%3B%2C%26quot%3Btotal%26quot%3B%5D%7D%22%20style%3D%22width%3A%20100%25%3B%20height%3A%20100%25%3B%20display%3Ainline-block%3B%22%3E%3C%2Fdiv%3E%0A%20%20%20%20%20%20%20%20%3C%2Fbody%3E%0A%20%20%20%20%20%20%20%20%3C%2Fmeta%3E%0A%20%20%20%20%20%20%20%20%3Cscript%3Econst%20data%20%3D%20JSON.parse%28%0A%20%20%20%20document.getElementById%28%22basevis-entry%22%29.dataset.visdata%0A%20%20%29%3B%0A%20%20%0A%20%20var%20trace%20%3D%20%7B%0A%20%20%20%20x%3A%20data.model_names%2C%0A%20%20%20%20y%3A%20data.diffs%2C%0A%20%20%20%20type%3A%20%22waterfall%22%2C%0A%20%20%20%20textposition%3A%20%22outside%22%2C%0A%20%20%20%20text%3A%20data.text%2C%0A%20%20%20%20measure%3A%20data.w_type%2C%0A%20%20%20%20orientation%3A%20%22v%22%2C%0A%20%20%20%20autosize%3A%20true%2C%0A%20%20%20%20xhoverformat%3A%20data.model_names%2C%0A%20%20%20%20increasing%3A%20%7Bmarker%3A%20%7Bcolor%3A%20%22%231F3363%22%7D%7D%2C%0A%20%20%20%20decreasing%3A%20%7Bmarker%3A%20%7Bcolor%3A%20%22%23631A43%22%7D%7D%2C%0A%20%20%20%20totals%3A%20%7Bmarker%3A%20%7Bcolor%3A%20%22%234065B0%22%7D%7D%2C%0A%20%20%20%20connector%3A%20%7Bline%3A%20%7Bcolor%3A%20%22rgb%2854%2C%2054%2C%20255%29%22%7D%7D%2C%0A%20%20%7D%3B%0A%20%20%0A%20%20var%20plot_data%20%3D%20%5Btrace%5D%3B%0A%20%20%0A%20%20var%20layout%20%3D%20%7B%0A%20%20%20%20title%3A%20%7B%0A%20%20%20%20%20%20%20%20text%3A%20%22Base%20Boosted%20Model%20Waterfall%20Plot%20Residuals%20%28Standard%20Deviation%29%22%2C%0A%20%20%20%20%7D%2C%0A%20%20%20%20xaxis%3A%20%7B%0A%20%20%20%20%20%20%20%20title%3A%20%7Btext%3A%20%22Model%20Iterations%22%7D%2C%0A%20%20%20%20%20%20%20%20type%3A%20%22category%22%0A%20%20%20%20%7D%2C%0A%20%20%20%20yaxis%3A%20%7B%0A%20%20%20%20%20%20%20%20title%3A%20%7Btext%3A%20%22Standard%20Deviation%22%7D%2C%0A%20%20%20%20%20%20%20%20type%3A%20%22linear%22%0A%20%20%20%20%7D%2C%0A%20%20%7D%3B%0A%20%20%0A%20%20Plotly.newPlot%28%22basevis-entry%22%2C%20plot_data%2C%20layout%2C%20%7B%0A%20%20%20%20displaylogo%3A%20false%2C%0A%20%20%20%20modeBarButtonsToRemove%3A%20%5B%22zoom2d%22%2C%20%22pan2d%22%2C%20%22select2d%22%2C%20%22lasso2d%22%5D%2C%0A%20%20%7D%29%3B%0A%20%20%3C%2Fscript%3E%3Cscript%3E%20window.addEventListener%28%22resize%22%2C%20function%28%29%7Bif%20%28document.getElementById%28%22basevis-entry%22%29%29%20%7BPlotly.Plots.resize%28document.getElementById%28%22basevis-entry%22%29%29%3B%7D%3B%7D%29%20%3C%2Fscript%3E\"\n",
                            "            frameborder=\"0\"\n",
                            "            allowfullscreen\n",
                            "            \n",
                            "        ></iframe>\n",
                            "        "
                        ],
                        "text/plain": [
                            "<IPython.lib.display.IFrame at 0x7f9ec629cfa0>"
                        ]
                    },
                    "execution_count": 15,
                    "metadata": {},
                    "output_type": "execute_result"
                }
            ],
            "source": [
                "vis = oce.BaseErrorWaterfall(model, dataset.train_dataset[0], normalization=True) # on the train set smiles\n",
                "vis.render_ipynb()"
            ]
        },
        {
            "cell_type": "markdown",
            "metadata": {},
            "source": [
                "Note that the baseline is with respect to the residuals found after predicting with the first model."
            ]
        }
    ],
    "metadata": {
        "kernelspec": {
            "display_name": "Python 3.8.13 ('oce')",
            "language": "python",
            "name": "python3"
        },
        "language_info": {
            "codemirror_mode": {
                "name": "ipython",
                "version": 3
            },
            "file_extension": ".py",
            "mimetype": "text/x-python",
            "name": "python",
            "nbconvert_exporter": "python",
            "pygments_lexer": "ipython3",
            "version": "3.8.13"
        },
        "orig_nbformat": 4,
        "vscode": {
            "interpreter": {
                "hash": "141e64549bfdb076333d9365c01d8c02f4950d2f36a9d80a48f71e1d8ed13112"
            }
        }
    },
    "nbformat": 4,
    "nbformat_minor": 2
}
