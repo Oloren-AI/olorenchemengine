{
 "cells": [
  {
   "cell_type": "markdown",
   "id": "e033055b-9653-4815-87df-8e59647ec668",
   "metadata": {},
   "source": [
    "# Visualizing Errors"
   ]
  },
  {
   "cell_type": "markdown",
   "id": "81878124-e766-481b-9b53-eda253c0978a",
   "metadata": {},
   "source": [
    "This tutorial covers how to visualize the confidence intervals predicted from error models."
   ]
  },
  {
   "cell_type": "code",
   "execution_count": 1,
   "id": "1721b447-af67-45c3-a043-16da573760b0",
   "metadata": {},
   "outputs": [
    {
     "name": "stdout",
     "output_type": "stream",
     "text": [
      "\n",
      "To complete installation of Oloren ChemEngine, either:\n",
      "    (1) Run oce.online() to use the demonstration package, Oloren ChemEngine Online,\n",
      "    (2) Install the missing dependencies, instructions can be found oce.MISSING_DEPENDENCIES(), or\n",
      "    (3) Email contact@oloren.ai with subject \"Oloren ChemEngine Enterprise\", for a secure privately hosted\n",
      "        Server version.\n",
      "\n",
      "Oloren ChemEngine online is the public, dependency-free version of OCE, which compiles OCE code locally for fast,\n",
      "parallelized, remote execution on Oloren's cloud solution. Oloren ChemEngine online SHOULD NOT BE USED FOR\n",
      "CONFIDENTAIL DATA, and is only intended for demonstration purposes. The securely privately hosted Server version is\n",
      "called Oloren ChemEngine Enterprise.\n",
      "\n"
     ]
    }
   ],
   "source": [
    "import olorenchemengine as oce\n",
    "import pandas as pd\n",
    "import numpy as np\n",
    "\n",
    "df = pd.read_csv(oce.download_public_file(\"MoleculeNet/load_lipo.csv\"))[[\"smiles\",\"exp\"]]\n",
    "\n",
    "# Use smaller dataset for speed, remove this line for full dataset\n",
    "df = df.sample(1000)\n",
    "\n",
    "dataset = oce.BaseDataset(data = df.to_csv(),\n",
    "    property_col = \"exp\",\n",
    "    structure_col = \"smiles\") + oce.RandomSplit()\n",
    "\n",
    "model = oce.RandomForestModel(oce.OlorenCheckpoint(\"default\"), n_estimators=1000)\n",
    "model.fit(*dataset.train_dataset)"
   ]
  },
  {
   "cell_type": "markdown",
   "id": "539779ea-7ad6-4766-9e59-dba4069b956a",
   "metadata": {},
   "source": [
    "We start by building and fitting an error model using the training and validation dataset, respectively."
   ]
  },
  {
   "cell_type": "code",
   "execution_count": 8,
   "id": "688ce6b7-cd88-4a99-a2f7-eb5205310d7b",
   "metadata": {},
   "outputs": [],
   "source": [
    "error_model = oce.TrainDistDC(ci=0.8, bins=10)\n",
    "error_model.build(model, *dataset.train_dataset)"
   ]
  },
  {
   "cell_type": "code",
   "execution_count": 9,
   "id": "57ceb2b3-cbf5-42bf-8fec-413c16f1d860",
   "metadata": {},
   "outputs": [
    {
     "name": "stderr",
     "output_type": "stream",
     "text": [
      "100%|██████████| 100/100 [00:01<00:00, 54.74it/s]\n"
     ]
    },
    {
     "data": {
      "application/vnd.plotly.v1+json": {
       "config": {
        "plotlyServerURL": "https://plot.ly"
       },
       "data": [
        {
         "hoverinfo": "x+y",
         "legendgroup": "",
         "marker": {
          "color": "#636EFA",
          "size": [
           1,
           1,
           1,
           1,
           1,
           1,
           1,
           1,
           1,
           1
          ],
          "sizemode": "area",
          "sizeref": 0.0025,
          "symbol": "circle"
         },
         "mode": "markers",
         "name": "",
         "orientation": "v",
         "showlegend": false,
         "type": "scatter",
         "x": [
          0.3355322408219335,
          0.41482623117987094,
          0.45071438784131496,
          0.47875153431778256,
          0.49810884412089396,
          0.5169841112894633,
          0.5489093549167752,
          0.5917046933545836,
          0.6793819868550528,
          0.8132964680680344
         ],
         "xaxis": "x",
         "y": [
          0.8079378656784593,
          0.8234617814212708,
          1.3244406650524687,
          1.1203318062876106,
          0.9320104662712452,
          1.07057222756416,
          1.0744730431554284,
          1.082604176624348,
          1.0364936460815752,
          1.1437369594620534
         ],
         "yaxis": "y"
        },
        {
         "hoverinfo": "x+y",
         "legendgroup": "",
         "line": {
          "color": "#EF553B",
          "dash": "solid"
         },
         "marker": {
          "symbol": "circle"
         },
         "mode": "lines",
         "name": "",
         "orientation": "v",
         "showlegend": false,
         "type": "scatter",
         "x": [
          0.2687196197064967,
          0.27595982277378284,
          0.2832000258410689,
          0.290440228908355,
          0.2976804319756411,
          0.3049206350429272,
          0.31216083811021333,
          0.3194010411774994,
          0.3266412442447855,
          0.3338814473120716,
          0.3411216503793577,
          0.34836185344664383,
          0.3556020565139299,
          0.362842259581216,
          0.3700824626485021,
          0.3773226657157882,
          0.38456286878307433,
          0.3918030718503604,
          0.3990432749176465,
          0.4062834779849326,
          0.4135236810522187,
          0.4207638841195048,
          0.42800408718679095,
          0.435244290254077,
          0.4424844933213631,
          0.4497246963886492,
          0.4569648994559353,
          0.46420510252322145,
          0.4714453055905075,
          0.4786855086577936,
          0.4859257117250797,
          0.4931659147923658,
          0.5004061178596519,
          0.507646320926938,
          0.5148865239942241,
          0.5221267270615102,
          0.5293669301287963,
          0.5366071331960824,
          0.5438473362633685,
          0.5510875393306547,
          0.5583277423979407,
          0.5655679454652268,
          0.5728081485325129,
          0.580048351599799,
          0.5872885546670852,
          0.5945287577343712,
          0.6017689608016573,
          0.6090091638689434,
          0.6162493669362294,
          0.6234895700035157,
          0.6307297730708017,
          0.6379699761380878,
          0.6452101792053739,
          0.65245038227266,
          0.6596905853399462,
          0.6669307884072322,
          0.6741709914745183,
          0.6814111945418044,
          0.6886513976090904,
          0.6958916006763767,
          0.7031318037436627,
          0.7103720068109488,
          0.7176122098782349,
          0.7248524129455209,
          0.7320926160128072,
          0.7393328190800932,
          0.7465730221473793,
          0.7538132252146654,
          0.7610534282819514,
          0.7682936313492377,
          0.7755338344165237,
          0.7827740374838098,
          0.7900142405510959,
          0.797254443618382,
          0.8044946466856682,
          0.8117348497529542,
          0.8189750528202403,
          0.8262152558875264,
          0.8334554589548125,
          0.8406956620220987,
          0.8479358650893847,
          0.8551760681566708,
          0.8624162712239569,
          0.869656474291243,
          0.8768966773585292,
          0.8841368804258152,
          0.8913770834931013,
          0.8986172865603874,
          0.9058574896276735,
          0.9130976926949597,
          0.9203378957622457,
          0.9275780988295318,
          0.9348183018968179,
          0.942058504964104,
          0.9492987080313902,
          0.9565389110986762,
          0.9637791141659623,
          0.9710193172332484,
          0.9782595203005345,
          0.9854997233678207
         ],
         "xaxis": "x",
         "y": [
          null,
          null,
          null,
          null,
          null,
          null,
          null,
          null,
          null,
          0.7444117210854196,
          0.8769328547986308,
          0.9151828603770158,
          0.9383708190380814,
          0.9550614020697283,
          0.9681099447549113,
          0.9788246398758448,
          0.9879150276999576,
          0.9958093703905008,
          1.0027861180872806,
          1.0090365429372201,
          1.01469771620445,
          1.0198712309340978,
          1.0246344791618383,
          1.029047776368799,
          1.033159043029548,
          1.0370069842413228,
          1.0406233109430278,
          1.044034329764147,
          1.0472621053244697,
          1.0503253259447736,
          1.0532399591937693,
          1.0560197556710362,
          1.0586766413281348,
          1.0612210266711943,
          1.0636620531204763,
          1.066007791256933,
          1.068265401808702,
          1.070441267477526,
          1.0725411017223787,
          1.074570039170835,
          1.0765327112602725,
          1.0784333099130592,
          1.080275641447783,
          1.0820631724698409,
          1.083799069132029,
          1.085486230882364,
          1.0871273196027091,
          1.0887247848735746,
          1.0902808859671285,
          1.09179771106404,
          1.093277194104346,
          1.0947211296135113,
          1.0961311857888116,
          1.0975089160853824,
          1.0988557695037382,
          1.1001730997495762,
          1.1014621734110355,
          1.1027241772772263,
          1.103960224904033,
          1.105171362518215,
          1.1063585743382542,
          1.1075227873797555,
          1.1086648758041795,
          1.1097856648620168,
          1.1108859344749602,
          1.1119664224960242,
          1.113027827681742,
          1.1140708124064245,
          1.1150960051448884,
          1.1161040027469533,
          1.1170953725243222,
          1.118070654168114,
          1.1190303615132773,
          1.1199749841643272,
          1.1209049889952796,
          1.1218208215352916,
          1.1227229072502996,
          1.1236116527298825,
          1.1244874467876425,
          1.125350661482551,
          1.1262016530679808,
          1.1270407628744787,
          1.1278683181317575,
          1.1286846327348543,
          1.1294900079589565,
          1.1302847331269539,
          1.131069086233433,
          1.1318433345284693,
          1.1326077350642962,
          1.1333625352076375,
          1.1341079731202686,
          1.134844278210135,
          1.1355716715551711,
          1.1362903663017763,
          1.1370005680397433,
          1.1377024751552942,
          1.1383962791637345,
          1.1390821650231266,
          1.139760311430264,
          1.1404308911001313
         ],
         "yaxis": "y"
        },
        {
         "hoverinfo": "skip",
         "legendgroup": "",
         "marker": {
          "color": "#00CC96",
          "opacity": 0.2,
          "symbol": "circle"
         },
         "mode": "markers",
         "name": "",
         "orientation": "v",
         "showlegend": false,
         "type": "scatter",
         "x": [
          0.43992464420510313,
          0.49206543689842414,
          0.9854997233678207,
          0.478335919786066,
          0.338037334755646,
          0.5119278266917877,
          0.5992862629409117,
          0.5054129323668398,
          0.42654865340350634,
          0.5825206697174903,
          0.7027110513076583,
          0.4946445809631406,
          0.5114578671473679,
          0.44445829328629854,
          0.5860857654764636,
          0.4025393812639178,
          0.5244664466425103,
          0.4682728864168913,
          0.5978054934782249,
          0.3539925484854165,
          0.7661362041219788,
          0.49167683110658666,
          0.3502111104304441,
          0.5076001581312455,
          0.5663579434387847,
          0.4027830183028454,
          0.4247366842572942,
          0.48526424613811475,
          0.3567604873101342,
          0.3987095490630412,
          0.5195354915311696,
          0.5414152396908142,
          0.46496413149096505,
          0.5161148348567407,
          0.5580124898098914,
          0.5470525586996219,
          0.45815500968874207,
          0.6781916410137878,
          0.5987755858484365,
          0.2687196197064967,
          0.5665740837369042,
          0.5538368936489388,
          0.5208609412420449,
          0.5620915844722704,
          0.5147439370453702,
          0.7328140847474215,
          0.5088419096844826,
          0.5348140530301719,
          0.6954727190778514,
          0.5387494937027943,
          0.6147567694411193,
          0.48005801452869545,
          0.4646555385746526,
          0.6744607858699604,
          0.4879098608052746,
          0.48960473250894293,
          0.46723786027203545,
          0.4830955143299589,
          0.5154435265598987,
          0.45163771505050787,
          0.3822057080340969,
          0.6971827135389107,
          0.43651877035951064,
          0.48825372500287334,
          0.5519883324330751,
          0.42702953329359616,
          0.8682837578626251,
          0.5918962373399217,
          0.6313262781135739,
          0.4924351814172179,
          0.4807770992930757,
          0.43099472720820214,
          0.4601628502144066,
          0.3253337427115818,
          0.6711276741790468,
          0.47429644950153055,
          0.7058883648222677,
          0.516913833045938,
          0.5448055120907626,
          0.42225428921153113,
          0.7137782495616638,
          0.41266753397734046,
          0.44553128630206273,
          0.8051056469975898,
          0.6129881221275794,
          0.4411356392408999,
          0.35212811802330385,
          0.32673477005332796,
          0.5563273915894115,
          0.7506114697691507,
          0.6236803910658064,
          0.39999894181743473,
          0.8364664112042571,
          0.8759114692256766,
          0.4822674921061823,
          0.7608757222505101,
          0.5105529531291858,
          0.7512601911333137,
          0.5183764081318055,
          0.3011989687088869
         ],
         "xaxis": "x",
         "y": [
          0.4169672247786691,
          0.15941821019312366,
          0.9364178198493667,
          0.42262986529887914,
          0.7309188680507197,
          1.0872323959449368,
          1.0978273869074697,
          0.10599291508034336,
          0.01613601415784266,
          1.694515501853318,
          0.8317264664173697,
          0.21037516531409595,
          1.0728097913021952,
          1.2697553682981315,
          0.2024688107113089,
          0.006772678447634295,
          0.3280687561426745,
          0.24664121085019355,
          0.22598101689535802,
          0.11736424632398174,
          0.16035464733564936,
          1.8195485463797947,
          0.04011650701805295,
          0.33072157962476034,
          0.5114151373416603,
          0.7325432341454237,
          0.6425183574801806,
          0.6850490736431454,
          0.22717809653452647,
          0.005073221233786285,
          0.9990440840111892,
          0.2271300082526213,
          0.4140521416660964,
          0.6504141497844312,
          0.33267607946792555,
          0.2852228263902097,
          1.543181852069817,
          1.3966067988385216,
          0.3167602752676435,
          0.0387813108264316,
          0.2670266752855418,
          0.17470538427187499,
          0.9778453656241575,
          0.972180314672926,
          0.7936918364511367,
          1.0135817225458075,
          0.34923459355002306,
          0.5855388796151826,
          0.42588546928687265,
          0.5379526318835054,
          1.0787983740535674,
          0.17789557094191336,
          1.6430146804132069,
          0.633403762180758,
          0.8821898787740309,
          0.7250143081970055,
          0.37251292344878817,
          1.1880440640284324,
          1.0700128366296513,
          0.783419075408363,
          0.3771552433664836,
          0.24948867514070017,
          0.6757498069444019,
          1.150362004122175,
          1.5466182690461103,
          0.23706952309732787,
          1.0139350374090994,
          0.7347461056449925,
          1.3717581004439476,
          0.8774225818085126,
          1.0474163086135508,
          1.5047702970672534,
          0.6880447653311011,
          1.1828116189893731,
          0.9526775324909821,
          1.2209319410372785,
          0.2614227020987391,
          0.24292561584952796,
          1.4836439570854376,
          1.1871359705246591,
          0.20905489946337064,
          0.2854788381750264,
          0.8309695485346507,
          1.1331809801147337,
          0.7656081983381402,
          0.20236977129713118,
          0.003374952391267172,
          0.14422449950226196,
          0.11026954885643286,
          1.1859608768513326,
          0.8004199714063994,
          0.09042422236557945,
          1.4046481973996259,
          0.34428778281031214,
          1.1034037418524052,
          0.28853827286972156,
          0.2899897198449508,
          0.7078182305172664,
          0.7991773157431292,
          1.1160138561894173
         ],
         "yaxis": "y"
        }
       ],
       "layout": {
        "autosize": true,
        "template": {
         "data": {
          "bar": [
           {
            "error_x": {
             "color": "#2a3f5f"
            },
            "error_y": {
             "color": "#2a3f5f"
            },
            "marker": {
             "line": {
              "color": "#E5ECF6",
              "width": 0.5
             },
             "pattern": {
              "fillmode": "overlay",
              "size": 10,
              "solidity": 0.2
             }
            },
            "type": "bar"
           }
          ],
          "barpolar": [
           {
            "marker": {
             "line": {
              "color": "#E5ECF6",
              "width": 0.5
             },
             "pattern": {
              "fillmode": "overlay",
              "size": 10,
              "solidity": 0.2
             }
            },
            "type": "barpolar"
           }
          ],
          "carpet": [
           {
            "aaxis": {
             "endlinecolor": "#2a3f5f",
             "gridcolor": "white",
             "linecolor": "white",
             "minorgridcolor": "white",
             "startlinecolor": "#2a3f5f"
            },
            "baxis": {
             "endlinecolor": "#2a3f5f",
             "gridcolor": "white",
             "linecolor": "white",
             "minorgridcolor": "white",
             "startlinecolor": "#2a3f5f"
            },
            "type": "carpet"
           }
          ],
          "choropleth": [
           {
            "colorbar": {
             "outlinewidth": 0,
             "ticks": ""
            },
            "type": "choropleth"
           }
          ],
          "contour": [
           {
            "colorbar": {
             "outlinewidth": 0,
             "ticks": ""
            },
            "colorscale": [
             [
              0,
              "#0d0887"
             ],
             [
              0.1111111111111111,
              "#46039f"
             ],
             [
              0.2222222222222222,
              "#7201a8"
             ],
             [
              0.3333333333333333,
              "#9c179e"
             ],
             [
              0.4444444444444444,
              "#bd3786"
             ],
             [
              0.5555555555555556,
              "#d8576b"
             ],
             [
              0.6666666666666666,
              "#ed7953"
             ],
             [
              0.7777777777777778,
              "#fb9f3a"
             ],
             [
              0.8888888888888888,
              "#fdca26"
             ],
             [
              1,
              "#f0f921"
             ]
            ],
            "type": "contour"
           }
          ],
          "contourcarpet": [
           {
            "colorbar": {
             "outlinewidth": 0,
             "ticks": ""
            },
            "type": "contourcarpet"
           }
          ],
          "heatmap": [
           {
            "colorbar": {
             "outlinewidth": 0,
             "ticks": ""
            },
            "colorscale": [
             [
              0,
              "#0d0887"
             ],
             [
              0.1111111111111111,
              "#46039f"
             ],
             [
              0.2222222222222222,
              "#7201a8"
             ],
             [
              0.3333333333333333,
              "#9c179e"
             ],
             [
              0.4444444444444444,
              "#bd3786"
             ],
             [
              0.5555555555555556,
              "#d8576b"
             ],
             [
              0.6666666666666666,
              "#ed7953"
             ],
             [
              0.7777777777777778,
              "#fb9f3a"
             ],
             [
              0.8888888888888888,
              "#fdca26"
             ],
             [
              1,
              "#f0f921"
             ]
            ],
            "type": "heatmap"
           }
          ],
          "heatmapgl": [
           {
            "colorbar": {
             "outlinewidth": 0,
             "ticks": ""
            },
            "colorscale": [
             [
              0,
              "#0d0887"
             ],
             [
              0.1111111111111111,
              "#46039f"
             ],
             [
              0.2222222222222222,
              "#7201a8"
             ],
             [
              0.3333333333333333,
              "#9c179e"
             ],
             [
              0.4444444444444444,
              "#bd3786"
             ],
             [
              0.5555555555555556,
              "#d8576b"
             ],
             [
              0.6666666666666666,
              "#ed7953"
             ],
             [
              0.7777777777777778,
              "#fb9f3a"
             ],
             [
              0.8888888888888888,
              "#fdca26"
             ],
             [
              1,
              "#f0f921"
             ]
            ],
            "type": "heatmapgl"
           }
          ],
          "histogram": [
           {
            "marker": {
             "pattern": {
              "fillmode": "overlay",
              "size": 10,
              "solidity": 0.2
             }
            },
            "type": "histogram"
           }
          ],
          "histogram2d": [
           {
            "colorbar": {
             "outlinewidth": 0,
             "ticks": ""
            },
            "colorscale": [
             [
              0,
              "#0d0887"
             ],
             [
              0.1111111111111111,
              "#46039f"
             ],
             [
              0.2222222222222222,
              "#7201a8"
             ],
             [
              0.3333333333333333,
              "#9c179e"
             ],
             [
              0.4444444444444444,
              "#bd3786"
             ],
             [
              0.5555555555555556,
              "#d8576b"
             ],
             [
              0.6666666666666666,
              "#ed7953"
             ],
             [
              0.7777777777777778,
              "#fb9f3a"
             ],
             [
              0.8888888888888888,
              "#fdca26"
             ],
             [
              1,
              "#f0f921"
             ]
            ],
            "type": "histogram2d"
           }
          ],
          "histogram2dcontour": [
           {
            "colorbar": {
             "outlinewidth": 0,
             "ticks": ""
            },
            "colorscale": [
             [
              0,
              "#0d0887"
             ],
             [
              0.1111111111111111,
              "#46039f"
             ],
             [
              0.2222222222222222,
              "#7201a8"
             ],
             [
              0.3333333333333333,
              "#9c179e"
             ],
             [
              0.4444444444444444,
              "#bd3786"
             ],
             [
              0.5555555555555556,
              "#d8576b"
             ],
             [
              0.6666666666666666,
              "#ed7953"
             ],
             [
              0.7777777777777778,
              "#fb9f3a"
             ],
             [
              0.8888888888888888,
              "#fdca26"
             ],
             [
              1,
              "#f0f921"
             ]
            ],
            "type": "histogram2dcontour"
           }
          ],
          "mesh3d": [
           {
            "colorbar": {
             "outlinewidth": 0,
             "ticks": ""
            },
            "type": "mesh3d"
           }
          ],
          "parcoords": [
           {
            "line": {
             "colorbar": {
              "outlinewidth": 0,
              "ticks": ""
             }
            },
            "type": "parcoords"
           }
          ],
          "pie": [
           {
            "automargin": true,
            "type": "pie"
           }
          ],
          "scatter": [
           {
            "fillpattern": {
             "fillmode": "overlay",
             "size": 10,
             "solidity": 0.2
            },
            "type": "scatter"
           }
          ],
          "scatter3d": [
           {
            "line": {
             "colorbar": {
              "outlinewidth": 0,
              "ticks": ""
             }
            },
            "marker": {
             "colorbar": {
              "outlinewidth": 0,
              "ticks": ""
             }
            },
            "type": "scatter3d"
           }
          ],
          "scattercarpet": [
           {
            "marker": {
             "colorbar": {
              "outlinewidth": 0,
              "ticks": ""
             }
            },
            "type": "scattercarpet"
           }
          ],
          "scattergeo": [
           {
            "marker": {
             "colorbar": {
              "outlinewidth": 0,
              "ticks": ""
             }
            },
            "type": "scattergeo"
           }
          ],
          "scattergl": [
           {
            "marker": {
             "colorbar": {
              "outlinewidth": 0,
              "ticks": ""
             }
            },
            "type": "scattergl"
           }
          ],
          "scattermapbox": [
           {
            "marker": {
             "colorbar": {
              "outlinewidth": 0,
              "ticks": ""
             }
            },
            "type": "scattermapbox"
           }
          ],
          "scatterpolar": [
           {
            "marker": {
             "colorbar": {
              "outlinewidth": 0,
              "ticks": ""
             }
            },
            "type": "scatterpolar"
           }
          ],
          "scatterpolargl": [
           {
            "marker": {
             "colorbar": {
              "outlinewidth": 0,
              "ticks": ""
             }
            },
            "type": "scatterpolargl"
           }
          ],
          "scatterternary": [
           {
            "marker": {
             "colorbar": {
              "outlinewidth": 0,
              "ticks": ""
             }
            },
            "type": "scatterternary"
           }
          ],
          "surface": [
           {
            "colorbar": {
             "outlinewidth": 0,
             "ticks": ""
            },
            "colorscale": [
             [
              0,
              "#0d0887"
             ],
             [
              0.1111111111111111,
              "#46039f"
             ],
             [
              0.2222222222222222,
              "#7201a8"
             ],
             [
              0.3333333333333333,
              "#9c179e"
             ],
             [
              0.4444444444444444,
              "#bd3786"
             ],
             [
              0.5555555555555556,
              "#d8576b"
             ],
             [
              0.6666666666666666,
              "#ed7953"
             ],
             [
              0.7777777777777778,
              "#fb9f3a"
             ],
             [
              0.8888888888888888,
              "#fdca26"
             ],
             [
              1,
              "#f0f921"
             ]
            ],
            "type": "surface"
           }
          ],
          "table": [
           {
            "cells": {
             "fill": {
              "color": "#EBF0F8"
             },
             "line": {
              "color": "white"
             }
            },
            "header": {
             "fill": {
              "color": "#C8D4E3"
             },
             "line": {
              "color": "white"
             }
            },
            "type": "table"
           }
          ]
         },
         "layout": {
          "annotationdefaults": {
           "arrowcolor": "#2a3f5f",
           "arrowhead": 0,
           "arrowwidth": 1
          },
          "autotypenumbers": "strict",
          "coloraxis": {
           "colorbar": {
            "outlinewidth": 0,
            "ticks": ""
           }
          },
          "colorscale": {
           "diverging": [
            [
             0,
             "#8e0152"
            ],
            [
             0.1,
             "#c51b7d"
            ],
            [
             0.2,
             "#de77ae"
            ],
            [
             0.3,
             "#f1b6da"
            ],
            [
             0.4,
             "#fde0ef"
            ],
            [
             0.5,
             "#f7f7f7"
            ],
            [
             0.6,
             "#e6f5d0"
            ],
            [
             0.7,
             "#b8e186"
            ],
            [
             0.8,
             "#7fbc41"
            ],
            [
             0.9,
             "#4d9221"
            ],
            [
             1,
             "#276419"
            ]
           ],
           "sequential": [
            [
             0,
             "#0d0887"
            ],
            [
             0.1111111111111111,
             "#46039f"
            ],
            [
             0.2222222222222222,
             "#7201a8"
            ],
            [
             0.3333333333333333,
             "#9c179e"
            ],
            [
             0.4444444444444444,
             "#bd3786"
            ],
            [
             0.5555555555555556,
             "#d8576b"
            ],
            [
             0.6666666666666666,
             "#ed7953"
            ],
            [
             0.7777777777777778,
             "#fb9f3a"
            ],
            [
             0.8888888888888888,
             "#fdca26"
            ],
            [
             1,
             "#f0f921"
            ]
           ],
           "sequentialminus": [
            [
             0,
             "#0d0887"
            ],
            [
             0.1111111111111111,
             "#46039f"
            ],
            [
             0.2222222222222222,
             "#7201a8"
            ],
            [
             0.3333333333333333,
             "#9c179e"
            ],
            [
             0.4444444444444444,
             "#bd3786"
            ],
            [
             0.5555555555555556,
             "#d8576b"
            ],
            [
             0.6666666666666666,
             "#ed7953"
            ],
            [
             0.7777777777777778,
             "#fb9f3a"
            ],
            [
             0.8888888888888888,
             "#fdca26"
            ],
            [
             1,
             "#f0f921"
            ]
           ]
          },
          "colorway": [
           "#636efa",
           "#EF553B",
           "#00cc96",
           "#ab63fa",
           "#FFA15A",
           "#19d3f3",
           "#FF6692",
           "#B6E880",
           "#FF97FF",
           "#FECB52"
          ],
          "font": {
           "color": "#2a3f5f"
          },
          "geo": {
           "bgcolor": "white",
           "lakecolor": "white",
           "landcolor": "#E5ECF6",
           "showlakes": true,
           "showland": true,
           "subunitcolor": "white"
          },
          "hoverlabel": {
           "align": "left"
          },
          "hovermode": "closest",
          "mapbox": {
           "style": "light"
          },
          "paper_bgcolor": "white",
          "plot_bgcolor": "#E5ECF6",
          "polar": {
           "angularaxis": {
            "gridcolor": "white",
            "linecolor": "white",
            "ticks": ""
           },
           "bgcolor": "#E5ECF6",
           "radialaxis": {
            "gridcolor": "white",
            "linecolor": "white",
            "ticks": ""
           }
          },
          "scene": {
           "xaxis": {
            "backgroundcolor": "#E5ECF6",
            "gridcolor": "white",
            "gridwidth": 2,
            "linecolor": "white",
            "showbackground": true,
            "ticks": "",
            "zerolinecolor": "white"
           },
           "yaxis": {
            "backgroundcolor": "#E5ECF6",
            "gridcolor": "white",
            "gridwidth": 2,
            "linecolor": "white",
            "showbackground": true,
            "ticks": "",
            "zerolinecolor": "white"
           },
           "zaxis": {
            "backgroundcolor": "#E5ECF6",
            "gridcolor": "white",
            "gridwidth": 2,
            "linecolor": "white",
            "showbackground": true,
            "ticks": "",
            "zerolinecolor": "white"
           }
          },
          "shapedefaults": {
           "line": {
            "color": "#2a3f5f"
           }
          },
          "ternary": {
           "aaxis": {
            "gridcolor": "white",
            "linecolor": "white",
            "ticks": ""
           },
           "baxis": {
            "gridcolor": "white",
            "linecolor": "white",
            "ticks": ""
           },
           "bgcolor": "#E5ECF6",
           "caxis": {
            "gridcolor": "white",
            "linecolor": "white",
            "ticks": ""
           }
          },
          "title": {
           "x": 0.05
          },
          "xaxis": {
           "automargin": true,
           "gridcolor": "white",
           "linecolor": "white",
           "ticks": "",
           "title": {
            "standoff": 15
           },
           "zerolinecolor": "white",
           "zerolinewidth": 2
          },
          "yaxis": {
           "automargin": true,
           "gridcolor": "white",
           "linecolor": "white",
           "ticks": "",
           "title": {
            "standoff": 15
           },
           "zerolinecolor": "white",
           "zerolinewidth": 2
          }
         }
        },
        "xaxis": {
         "autorange": true,
         "range": [
          0.22586705362280612,
          1.0283522894515114
         ],
         "type": "linear"
        },
        "yaxis": {
         "autorange": true,
         "range": [
          -0.14650345099613557,
          1.9694269497671975
         ],
         "type": "linear"
        }
       }
      },
      "image/png": "[encoded data removed]",
      "text/html": [
       "<div>                            <div id=\"a8cdc2ed-a46f-4050-a14b-c412d0825c2e\" class=\"plotly-graph-div\" style=\"height:525px; width:100%;\"></div>            <script type=\"text/javascript\">                require([\"plotly\"], function(Plotly) {                    window.PLOTLYENV=window.PLOTLYENV || {};                                    if (document.getElementById(\"a8cdc2ed-a46f-4050-a14b-c412d0825c2e\")) {                    Plotly.newPlot(                        \"a8cdc2ed-a46f-4050-a14b-c412d0825c2e\",                        [{\"hoverinfo\":\"x+y\",\"legendgroup\":\"\",\"marker\":{\"color\":\"#636EFA\",\"size\":[1,1,1,1,1,1,1,1,1,1],\"sizemode\":\"area\",\"sizeref\":0.0025,\"symbol\":\"circle\"},\"mode\":\"markers\",\"name\":\"\",\"orientation\":\"v\",\"showlegend\":false,\"x\":[0.3355322408219335,0.41482623117987094,0.45071438784131496,0.47875153431778256,0.49810884412089396,0.5169841112894633,0.5489093549167752,0.5917046933545836,0.6793819868550528,0.8132964680680344],\"xaxis\":\"x\",\"y\":[0.8079378656784593,0.8234617814212708,1.3244406650524687,1.1203318062876106,0.9320104662712452,1.07057222756416,1.0744730431554284,1.082604176624348,1.0364936460815752,1.1437369594620534],\"yaxis\":\"y\",\"type\":\"scatter\"},{\"hoverinfo\":\"x+y\",\"legendgroup\":\"\",\"line\":{\"color\":\"#EF553B\",\"dash\":\"solid\"},\"marker\":{\"symbol\":\"circle\"},\"mode\":\"lines\",\"name\":\"\",\"orientation\":\"v\",\"showlegend\":false,\"x\":[0.2687196197064967,0.27595982277378284,0.2832000258410689,0.290440228908355,0.2976804319756411,0.3049206350429272,0.31216083811021333,0.3194010411774994,0.3266412442447855,0.3338814473120716,0.3411216503793577,0.34836185344664383,0.3556020565139299,0.362842259581216,0.3700824626485021,0.3773226657157882,0.38456286878307433,0.3918030718503604,0.3990432749176465,0.4062834779849326,0.4135236810522187,0.4207638841195048,0.42800408718679095,0.435244290254077,0.4424844933213631,0.4497246963886492,0.4569648994559353,0.46420510252322145,0.4714453055905075,0.4786855086577936,0.4859257117250797,0.4931659147923658,0.5004061178596519,0.507646320926938,0.5148865239942241,0.5221267270615102,0.5293669301287963,0.5366071331960824,0.5438473362633685,0.5510875393306547,0.5583277423979407,0.5655679454652268,0.5728081485325129,0.580048351599799,0.5872885546670852,0.5945287577343712,0.6017689608016573,0.6090091638689434,0.6162493669362294,0.6234895700035157,0.6307297730708017,0.6379699761380878,0.6452101792053739,0.65245038227266,0.6596905853399462,0.6669307884072322,0.6741709914745183,0.6814111945418044,0.6886513976090904,0.6958916006763767,0.7031318037436627,0.7103720068109488,0.7176122098782349,0.7248524129455209,0.7320926160128072,0.7393328190800932,0.7465730221473793,0.7538132252146654,0.7610534282819514,0.7682936313492377,0.7755338344165237,0.7827740374838098,0.7900142405510959,0.797254443618382,0.8044946466856682,0.8117348497529542,0.8189750528202403,0.8262152558875264,0.8334554589548125,0.8406956620220987,0.8479358650893847,0.8551760681566708,0.8624162712239569,0.869656474291243,0.8768966773585292,0.8841368804258152,0.8913770834931013,0.8986172865603874,0.9058574896276735,0.9130976926949597,0.9203378957622457,0.9275780988295318,0.9348183018968179,0.942058504964104,0.9492987080313902,0.9565389110986762,0.9637791141659623,0.9710193172332484,0.9782595203005345,0.9854997233678207],\"xaxis\":\"x\",\"y\":[null,null,null,null,null,null,null,null,null,0.7444117210854196,0.8769328547986308,0.9151828603770158,0.9383708190380814,0.9550614020697283,0.9681099447549113,0.9788246398758448,0.9879150276999576,0.9958093703905008,1.0027861180872806,1.0090365429372201,1.01469771620445,1.0198712309340978,1.0246344791618383,1.029047776368799,1.033159043029548,1.0370069842413228,1.0406233109430278,1.044034329764147,1.0472621053244697,1.0503253259447736,1.0532399591937693,1.0560197556710362,1.0586766413281348,1.0612210266711943,1.0636620531204763,1.066007791256933,1.068265401808702,1.070441267477526,1.0725411017223787,1.074570039170835,1.0765327112602725,1.0784333099130592,1.080275641447783,1.0820631724698409,1.083799069132029,1.085486230882364,1.0871273196027091,1.0887247848735746,1.0902808859671285,1.09179771106404,1.093277194104346,1.0947211296135113,1.0961311857888116,1.0975089160853824,1.0988557695037382,1.1001730997495762,1.1014621734110355,1.1027241772772263,1.103960224904033,1.105171362518215,1.1063585743382542,1.1075227873797555,1.1086648758041795,1.1097856648620168,1.1108859344749602,1.1119664224960242,1.113027827681742,1.1140708124064245,1.1150960051448884,1.1161040027469533,1.1170953725243222,1.118070654168114,1.1190303615132773,1.1199749841643272,1.1209049889952796,1.1218208215352916,1.1227229072502996,1.1236116527298825,1.1244874467876425,1.125350661482551,1.1262016530679808,1.1270407628744787,1.1278683181317575,1.1286846327348543,1.1294900079589565,1.1302847331269539,1.131069086233433,1.1318433345284693,1.1326077350642962,1.1333625352076375,1.1341079731202686,1.134844278210135,1.1355716715551711,1.1362903663017763,1.1370005680397433,1.1377024751552942,1.1383962791637345,1.1390821650231266,1.139760311430264,1.1404308911001313],\"yaxis\":\"y\",\"type\":\"scatter\"},{\"hoverinfo\":\"skip\",\"legendgroup\":\"\",\"marker\":{\"color\":\"#00CC96\",\"opacity\":0.2,\"symbol\":\"circle\"},\"mode\":\"markers\",\"name\":\"\",\"orientation\":\"v\",\"showlegend\":false,\"x\":[0.43992464420510313,0.49206543689842414,0.9854997233678207,0.478335919786066,0.338037334755646,0.5119278266917877,0.5992862629409117,0.5054129323668398,0.42654865340350634,0.5825206697174903,0.7027110513076583,0.4946445809631406,0.5114578671473679,0.44445829328629854,0.5860857654764636,0.4025393812639178,0.5244664466425103,0.4682728864168913,0.5978054934782249,0.3539925484854165,0.7661362041219788,0.49167683110658666,0.3502111104304441,0.5076001581312455,0.5663579434387847,0.4027830183028454,0.4247366842572942,0.48526424613811475,0.3567604873101342,0.3987095490630412,0.5195354915311696,0.5414152396908142,0.46496413149096505,0.5161148348567407,0.5580124898098914,0.5470525586996219,0.45815500968874207,0.6781916410137878,0.5987755858484365,0.2687196197064967,0.5665740837369042,0.5538368936489388,0.5208609412420449,0.5620915844722704,0.5147439370453702,0.7328140847474215,0.5088419096844826,0.5348140530301719,0.6954727190778514,0.5387494937027943,0.6147567694411193,0.48005801452869545,0.4646555385746526,0.6744607858699604,0.4879098608052746,0.48960473250894293,0.46723786027203545,0.4830955143299589,0.5154435265598987,0.45163771505050787,0.3822057080340969,0.6971827135389107,0.43651877035951064,0.48825372500287334,0.5519883324330751,0.42702953329359616,0.8682837578626251,0.5918962373399217,0.6313262781135739,0.4924351814172179,0.4807770992930757,0.43099472720820214,0.4601628502144066,0.3253337427115818,0.6711276741790468,0.47429644950153055,0.7058883648222677,0.516913833045938,0.5448055120907626,0.42225428921153113,0.7137782495616638,0.41266753397734046,0.44553128630206273,0.8051056469975898,0.6129881221275794,0.4411356392408999,0.35212811802330385,0.32673477005332796,0.5563273915894115,0.7506114697691507,0.6236803910658064,0.39999894181743473,0.8364664112042571,0.8759114692256766,0.4822674921061823,0.7608757222505101,0.5105529531291858,0.7512601911333137,0.5183764081318055,0.3011989687088869],\"xaxis\":\"x\",\"y\":[0.4169672247786691,0.15941821019312366,0.9364178198493667,0.42262986529887914,0.7309188680507197,1.0872323959449368,1.0978273869074697,0.10599291508034336,0.01613601415784266,1.694515501853318,0.8317264664173697,0.21037516531409595,1.0728097913021952,1.2697553682981315,0.2024688107113089,0.006772678447634295,0.3280687561426745,0.24664121085019355,0.22598101689535802,0.11736424632398174,0.16035464733564936,1.8195485463797947,0.04011650701805295,0.33072157962476034,0.5114151373416603,0.7325432341454237,0.6425183574801806,0.6850490736431454,0.22717809653452647,0.005073221233786285,0.9990440840111892,0.2271300082526213,0.4140521416660964,0.6504141497844312,0.33267607946792555,0.2852228263902097,1.543181852069817,1.3966067988385216,0.3167602752676435,0.0387813108264316,0.2670266752855418,0.17470538427187499,0.9778453656241575,0.972180314672926,0.7936918364511367,1.0135817225458075,0.34923459355002306,0.5855388796151826,0.42588546928687265,0.5379526318835054,1.0787983740535674,0.17789557094191336,1.6430146804132069,0.633403762180758,0.8821898787740309,0.7250143081970055,0.37251292344878817,1.1880440640284324,1.0700128366296513,0.783419075408363,0.3771552433664836,0.24948867514070017,0.6757498069444019,1.150362004122175,1.5466182690461103,0.23706952309732787,1.0139350374090994,0.7347461056449925,1.3717581004439476,0.8774225818085126,1.0474163086135508,1.5047702970672534,0.6880447653311011,1.1828116189893731,0.9526775324909821,1.2209319410372785,0.2614227020987391,0.24292561584952796,1.4836439570854376,1.1871359705246591,0.20905489946337064,0.2854788381750264,0.8309695485346507,1.1331809801147337,0.7656081983381402,0.20236977129713118,0.003374952391267172,0.14422449950226196,0.11026954885643286,1.1859608768513326,0.8004199714063994,0.09042422236557945,1.4046481973996259,0.34428778281031214,1.1034037418524052,0.28853827286972156,0.2899897198449508,0.7078182305172664,0.7991773157431292,1.1160138561894173],\"yaxis\":\"y\",\"type\":\"scatter\"}],                        {\"template\":{\"data\":{\"histogram2dcontour\":[{\"type\":\"histogram2dcontour\",\"colorbar\":{\"outlinewidth\":0,\"ticks\":\"\"},\"colorscale\":[[0.0,\"#0d0887\"],[0.1111111111111111,\"#46039f\"],[0.2222222222222222,\"#7201a8\"],[0.3333333333333333,\"#9c179e\"],[0.4444444444444444,\"#bd3786\"],[0.5555555555555556,\"#d8576b\"],[0.6666666666666666,\"#ed7953\"],[0.7777777777777778,\"#fb9f3a\"],[0.8888888888888888,\"#fdca26\"],[1.0,\"#f0f921\"]]}],\"choropleth\":[{\"type\":\"choropleth\",\"colorbar\":{\"outlinewidth\":0,\"ticks\":\"\"}}],\"histogram2d\":[{\"type\":\"histogram2d\",\"colorbar\":{\"outlinewidth\":0,\"ticks\":\"\"},\"colorscale\":[[0.0,\"#0d0887\"],[0.1111111111111111,\"#46039f\"],[0.2222222222222222,\"#7201a8\"],[0.3333333333333333,\"#9c179e\"],[0.4444444444444444,\"#bd3786\"],[0.5555555555555556,\"#d8576b\"],[0.6666666666666666,\"#ed7953\"],[0.7777777777777778,\"#fb9f3a\"],[0.8888888888888888,\"#fdca26\"],[1.0,\"#f0f921\"]]}],\"heatmap\":[{\"type\":\"heatmap\",\"colorbar\":{\"outlinewidth\":0,\"ticks\":\"\"},\"colorscale\":[[0.0,\"#0d0887\"],[0.1111111111111111,\"#46039f\"],[0.2222222222222222,\"#7201a8\"],[0.3333333333333333,\"#9c179e\"],[0.4444444444444444,\"#bd3786\"],[0.5555555555555556,\"#d8576b\"],[0.6666666666666666,\"#ed7953\"],[0.7777777777777778,\"#fb9f3a\"],[0.8888888888888888,\"#fdca26\"],[1.0,\"#f0f921\"]]}],\"heatmapgl\":[{\"type\":\"heatmapgl\",\"colorbar\":{\"outlinewidth\":0,\"ticks\":\"\"},\"colorscale\":[[0.0,\"#0d0887\"],[0.1111111111111111,\"#46039f\"],[0.2222222222222222,\"#7201a8\"],[0.3333333333333333,\"#9c179e\"],[0.4444444444444444,\"#bd3786\"],[0.5555555555555556,\"#d8576b\"],[0.6666666666666666,\"#ed7953\"],[0.7777777777777778,\"#fb9f3a\"],[0.8888888888888888,\"#fdca26\"],[1.0,\"#f0f921\"]]}],\"contourcarpet\":[{\"type\":\"contourcarpet\",\"colorbar\":{\"outlinewidth\":0,\"ticks\":\"\"}}],\"contour\":[{\"type\":\"contour\",\"colorbar\":{\"outlinewidth\":0,\"ticks\":\"\"},\"colorscale\":[[0.0,\"#0d0887\"],[0.1111111111111111,\"#46039f\"],[0.2222222222222222,\"#7201a8\"],[0.3333333333333333,\"#9c179e\"],[0.4444444444444444,\"#bd3786\"],[0.5555555555555556,\"#d8576b\"],[0.6666666666666666,\"#ed7953\"],[0.7777777777777778,\"#fb9f3a\"],[0.8888888888888888,\"#fdca26\"],[1.0,\"#f0f921\"]]}],\"surface\":[{\"type\":\"surface\",\"colorbar\":{\"outlinewidth\":0,\"ticks\":\"\"},\"colorscale\":[[0.0,\"#0d0887\"],[0.1111111111111111,\"#46039f\"],[0.2222222222222222,\"#7201a8\"],[0.3333333333333333,\"#9c179e\"],[0.4444444444444444,\"#bd3786\"],[0.5555555555555556,\"#d8576b\"],[0.6666666666666666,\"#ed7953\"],[0.7777777777777778,\"#fb9f3a\"],[0.8888888888888888,\"#fdca26\"],[1.0,\"#f0f921\"]]}],\"mesh3d\":[{\"type\":\"mesh3d\",\"colorbar\":{\"outlinewidth\":0,\"ticks\":\"\"}}],\"scatter\":[{\"fillpattern\":{\"fillmode\":\"overlay\",\"size\":10,\"solidity\":0.2},\"type\":\"scatter\"}],\"parcoords\":[{\"type\":\"parcoords\",\"line\":{\"colorbar\":{\"outlinewidth\":0,\"ticks\":\"\"}}}],\"scatterpolargl\":[{\"type\":\"scatterpolargl\",\"marker\":{\"colorbar\":{\"outlinewidth\":0,\"ticks\":\"\"}}}],\"bar\":[{\"error_x\":{\"color\":\"#2a3f5f\"},\"error_y\":{\"color\":\"#2a3f5f\"},\"marker\":{\"line\":{\"color\":\"#E5ECF6\",\"width\":0.5},\"pattern\":{\"fillmode\":\"overlay\",\"size\":10,\"solidity\":0.2}},\"type\":\"bar\"}],\"scattergeo\":[{\"type\":\"scattergeo\",\"marker\":{\"colorbar\":{\"outlinewidth\":0,\"ticks\":\"\"}}}],\"scatterpolar\":[{\"type\":\"scatterpolar\",\"marker\":{\"colorbar\":{\"outlinewidth\":0,\"ticks\":\"\"}}}],\"histogram\":[{\"marker\":{\"pattern\":{\"fillmode\":\"overlay\",\"size\":10,\"solidity\":0.2}},\"type\":\"histogram\"}],\"scattergl\":[{\"type\":\"scattergl\",\"marker\":{\"colorbar\":{\"outlinewidth\":0,\"ticks\":\"\"}}}],\"scatter3d\":[{\"type\":\"scatter3d\",\"line\":{\"colorbar\":{\"outlinewidth\":0,\"ticks\":\"\"}},\"marker\":{\"colorbar\":{\"outlinewidth\":0,\"ticks\":\"\"}}}],\"scattermapbox\":[{\"type\":\"scattermapbox\",\"marker\":{\"colorbar\":{\"outlinewidth\":0,\"ticks\":\"\"}}}],\"scatterternary\":[{\"type\":\"scatterternary\",\"marker\":{\"colorbar\":{\"outlinewidth\":0,\"ticks\":\"\"}}}],\"scattercarpet\":[{\"type\":\"scattercarpet\",\"marker\":{\"colorbar\":{\"outlinewidth\":0,\"ticks\":\"\"}}}],\"carpet\":[{\"aaxis\":{\"endlinecolor\":\"#2a3f5f\",\"gridcolor\":\"white\",\"linecolor\":\"white\",\"minorgridcolor\":\"white\",\"startlinecolor\":\"#2a3f5f\"},\"baxis\":{\"endlinecolor\":\"#2a3f5f\",\"gridcolor\":\"white\",\"linecolor\":\"white\",\"minorgridcolor\":\"white\",\"startlinecolor\":\"#2a3f5f\"},\"type\":\"carpet\"}],\"table\":[{\"cells\":{\"fill\":{\"color\":\"#EBF0F8\"},\"line\":{\"color\":\"white\"}},\"header\":{\"fill\":{\"color\":\"#C8D4E3\"},\"line\":{\"color\":\"white\"}},\"type\":\"table\"}],\"barpolar\":[{\"marker\":{\"line\":{\"color\":\"#E5ECF6\",\"width\":0.5},\"pattern\":{\"fillmode\":\"overlay\",\"size\":10,\"solidity\":0.2}},\"type\":\"barpolar\"}],\"pie\":[{\"automargin\":true,\"type\":\"pie\"}]},\"layout\":{\"autotypenumbers\":\"strict\",\"colorway\":[\"#636efa\",\"#EF553B\",\"#00cc96\",\"#ab63fa\",\"#FFA15A\",\"#19d3f3\",\"#FF6692\",\"#B6E880\",\"#FF97FF\",\"#FECB52\"],\"font\":{\"color\":\"#2a3f5f\"},\"hovermode\":\"closest\",\"hoverlabel\":{\"align\":\"left\"},\"paper_bgcolor\":\"white\",\"plot_bgcolor\":\"#E5ECF6\",\"polar\":{\"bgcolor\":\"#E5ECF6\",\"angularaxis\":{\"gridcolor\":\"white\",\"linecolor\":\"white\",\"ticks\":\"\"},\"radialaxis\":{\"gridcolor\":\"white\",\"linecolor\":\"white\",\"ticks\":\"\"}},\"ternary\":{\"bgcolor\":\"#E5ECF6\",\"aaxis\":{\"gridcolor\":\"white\",\"linecolor\":\"white\",\"ticks\":\"\"},\"baxis\":{\"gridcolor\":\"white\",\"linecolor\":\"white\",\"ticks\":\"\"},\"caxis\":{\"gridcolor\":\"white\",\"linecolor\":\"white\",\"ticks\":\"\"}},\"coloraxis\":{\"colorbar\":{\"outlinewidth\":0,\"ticks\":\"\"}},\"colorscale\":{\"sequential\":[[0.0,\"#0d0887\"],[0.1111111111111111,\"#46039f\"],[0.2222222222222222,\"#7201a8\"],[0.3333333333333333,\"#9c179e\"],[0.4444444444444444,\"#bd3786\"],[0.5555555555555556,\"#d8576b\"],[0.6666666666666666,\"#ed7953\"],[0.7777777777777778,\"#fb9f3a\"],[0.8888888888888888,\"#fdca26\"],[1.0,\"#f0f921\"]],\"sequentialminus\":[[0.0,\"#0d0887\"],[0.1111111111111111,\"#46039f\"],[0.2222222222222222,\"#7201a8\"],[0.3333333333333333,\"#9c179e\"],[0.4444444444444444,\"#bd3786\"],[0.5555555555555556,\"#d8576b\"],[0.6666666666666666,\"#ed7953\"],[0.7777777777777778,\"#fb9f3a\"],[0.8888888888888888,\"#fdca26\"],[1.0,\"#f0f921\"]],\"diverging\":[[0,\"#8e0152\"],[0.1,\"#c51b7d\"],[0.2,\"#de77ae\"],[0.3,\"#f1b6da\"],[0.4,\"#fde0ef\"],[0.5,\"#f7f7f7\"],[0.6,\"#e6f5d0\"],[0.7,\"#b8e186\"],[0.8,\"#7fbc41\"],[0.9,\"#4d9221\"],[1,\"#276419\"]]},\"xaxis\":{\"gridcolor\":\"white\",\"linecolor\":\"white\",\"ticks\":\"\",\"title\":{\"standoff\":15},\"zerolinecolor\":\"white\",\"automargin\":true,\"zerolinewidth\":2},\"yaxis\":{\"gridcolor\":\"white\",\"linecolor\":\"white\",\"ticks\":\"\",\"title\":{\"standoff\":15},\"zerolinecolor\":\"white\",\"automargin\":true,\"zerolinewidth\":2},\"scene\":{\"xaxis\":{\"backgroundcolor\":\"#E5ECF6\",\"gridcolor\":\"white\",\"linecolor\":\"white\",\"showbackground\":true,\"ticks\":\"\",\"zerolinecolor\":\"white\",\"gridwidth\":2},\"yaxis\":{\"backgroundcolor\":\"#E5ECF6\",\"gridcolor\":\"white\",\"linecolor\":\"white\",\"showbackground\":true,\"ticks\":\"\",\"zerolinecolor\":\"white\",\"gridwidth\":2},\"zaxis\":{\"backgroundcolor\":\"#E5ECF6\",\"gridcolor\":\"white\",\"linecolor\":\"white\",\"showbackground\":true,\"ticks\":\"\",\"zerolinecolor\":\"white\",\"gridwidth\":2}},\"shapedefaults\":{\"line\":{\"color\":\"#2a3f5f\"}},\"annotationdefaults\":{\"arrowcolor\":\"#2a3f5f\",\"arrowhead\":0,\"arrowwidth\":1},\"geo\":{\"bgcolor\":\"white\",\"landcolor\":\"#E5ECF6\",\"subunitcolor\":\"white\",\"showland\":true,\"showlakes\":true,\"lakecolor\":\"white\"},\"title\":{\"x\":0.05},\"mapbox\":{\"style\":\"light\"}}}},                        {\"responsive\": true}                    ).then(function(){\n",
       "                            \n",
       "var gd = document.getElementById('a8cdc2ed-a46f-4050-a14b-c412d0825c2e');\n",
       "var x = new MutationObserver(function (mutations, observer) {{\n",
       "        var display = window.getComputedStyle(gd).display;\n",
       "        if (!display || display === 'none') {{\n",
       "            console.log([gd, 'removed!']);\n",
       "            Plotly.purge(gd);\n",
       "            observer.disconnect();\n",
       "        }}\n",
       "}});\n",
       "\n",
       "// Listen for the removal of the full notebook cells\n",
       "var notebookContainer = gd.closest('#notebook-container');\n",
       "if (notebookContainer) {{\n",
       "    x.observe(notebookContainer, {childList: true});\n",
       "}}\n",
       "\n",
       "// Listen for the clearing of the current output cell\n",
       "var outputEl = gd.closest('.output');\n",
       "if (outputEl) {{\n",
       "    x.observe(outputEl, {childList: true});\n",
       "}}\n",
       "\n",
       "                        })                };                });            </script>        </div>"
      ]
     },
     "metadata": {},
     "output_type": "display_data"
    }
   ],
   "source": [
    "error_model.fit(*dataset.valid_dataset)"
   ]
  },
  {
   "cell_type": "markdown",
   "id": "8fb400c0-1e03-4b4f-ba55-9d00fd7b3016",
   "metadata": {},
   "source": [
    "We are now ready to predict errors. "
   ]
  },
  {
   "cell_type": "code",
   "execution_count": 10,
   "id": "26b6b2f0-42ad-45ac-a11e-f5de74c7bc72",
   "metadata": {},
   "outputs": [
    {
     "name": "stderr",
     "output_type": "stream",
     "text": [
      "100%|██████████| 100/100 [00:01<00:00, 52.76it/s]\n"
     ]
    }
   ],
   "source": [
    "pred = model.predict(dataset.test_dataset[0])\n",
    "err = error_model.score(dataset.test_dataset[0])"
   ]
  },
  {
   "cell_type": "markdown",
   "id": "e8a9dcde-a10c-48ea-9e45-ef69908df7c6",
   "metadata": {},
   "source": [
    "Visualizations can be performed with the ```VisualizeError``` class, a ```BaseVisualization``` object. We must input the reference dataset, the predicted value, and the error value."
   ]
  },
  {
   "cell_type": "code",
   "execution_count": 11,
   "id": "ca761dd3-960d-4f01-bcbf-d2454b58263c",
   "metadata": {},
   "outputs": [
    {
     "data": {
      "text/html": [
       "\n",
       "        <iframe\n",
       "            width=\"800\"\n",
       "            height=\"600\"\n",
       "            src=\"data:text/html,%0A%20%20%20%20%20%20%20%20%3C%21DOCTYPE%20html%3E%0A%20%20%20%20%20%20%20%20%3Chead%3E%0A%20%20%20%20%20%20%20%20%3Cmeta%20charset%3D%22utf-8%22%3E%0A%20%20%20%20%20%20%20%20%3C%2Fhead%3E%0A%0A%20%20%20%20%20%20%20%20%3Chtml%20style%3D%22height%3A%20100%25%3B%22%3E%0A%0A%20%20%20%20%20%20%20%20%3C%21--%20Load%20packages%20--%3E%0A%20%20%20%20%20%20%20%20%3Cscript%20src%20%3D%20%22https%3A%2F%2Fcdn.plot.ly%2Fplotly-2.14.0.min.js%22%3E%3C%2Fscript%3E%0A%20%20%20%20%20%20%20%20%3Cbody%20style%3D%22background-color%3A%23FFFFFF%3B%20height%3A%20100%25%3B%22%3E%0A%20%20%20%20%20%20%20%20%3C%21--%20Create%20a%20div%20where%20the%20graph%20will%20take%20place%20--%3E%0A%20%20%20%20%20%20%20%20%3Cdiv%20id%3D%22basevis-entry%22%20data-visdata%3D%22%7B%26quot%3Breference%26quot%3B%3A%5B0.5095779536733573%2C0.3774549561934244%2C0.014116713123608%2C-0.4565714653986541%2C-1.034609579373362%2C-0.4483137780561583%2C0.38571264353592%2C-1.918182125020416%2C0.6004125144408117%2C0.195785834658516%2C-1.6043900060055742%2C0.8233700726881991%2C1.1867083157580154%2C0.575639452413324%2C1.005039194223107%2C-0.0023986615613836%2C-0.7125597730160248%2C1.1289045043605443%2C-1.084155703428337%2C-1.1667325768532952%2C0.6004125144408117%2C1.005039194223107%2C-0.6712713363035456%2C-1.232794075593262%2C-0.3905099666586876%2C-0.9602903932908996%2C-0.8611981451809496%2C1.104131442333057%2C-2.2650049934052405%2C-1.2740825123057409%2C-1.810832189567969%2C-0.2996754058912335%2C0.8564008220581824%2C1.682169556307765%2C1.43443893603289%2C0.7077624498932573%2C-1.3896901351006827%2C-0.2501292818362585%2C0.443516454933391%2C-0.8777135198659413%2C1.5995926828828064%2C0.9389776954831404%2C0.2701050207409787%2C0.5921548270983157%2C-0.5391483388236125%2C-0.2996754058912335%2C-0.2501292818362585%2C0.9472353828256364%2C-0.0354294109313669%2C-0.803394333783479%2C0.864658509400678%2C0.1627550852885327%2C0.38571264353592%2C1.013296881565603%2C-0.0189140362463752%2C-1.232794075593262%2C-2.2072011820077697%2C-0.9520327059484038%2C1.3518620626079316%2C-1.282340199648237%2C-2.479704864310132%2C0.526093328358349%2C0.204043522001012%2C0.055405149836087%2C0.2701050207409787%2C-0.4648291527411499%2C-1.3566593857306992%2C1.2692851891829735%2C0.9967815068806114%2C1.0215545689080987%2C-0.5308906514811166%2C1.0876160676480653%2C0.526093328358349%2C1.3105736258954528%2C0.9389776954831404%2C0.4600318296183827%2C-0.5474060261661083%2C-1.3071132616757244%2C0.58389713975582%2C-0.7786212717559915%2C0.6912470752082657%2C1.43443893603289%2C-1.1254441401408162%2C-0.3657369046312001%2C-0.0106563489038796%2C-0.3822522793161918%2C1.0215545689080987%2C-1.2905978869907326%2C0.5508663903858367%2C1.2775428765254693%2C0.9142046334556532%2C-2.1163666212403154%2C-2.504477926337619%2C0.8564008220581824%2C1.3188313132379483%2C0.0306320878085997%2C-0.1262639716988213%2C-0.8116520211259748%2C-0.4317984033711668%2C0.2123012093435076%2C-1.794316814882978%2C-0.6877867109885373%2C0.28662039542597%2C-1.852120626280449%2C-0.5308906514811166%2C1.3105736258954528%2C1.5170158094578483%2C1.1867083157580154%2C0.014116713123608%2C-0.4565714653986541%2C-0.1345216590413169%2C-0.5474060261661083%2C-2.595312487105073%2C0.575639452413324%2C0.014116713123608%2C-0.1675524084113003%2C0.4930625789883657%2C-0.1510370337263086%2C-0.943775018605908%2C1.3518620626079316%2C1.104131442333057%2C0.6417009511532907%2C0.765566261290728%2C0.58389713975582%2C0.48480489164587%2C-0.1758100957537961%2C-0.0271717235888713%2C0.154497397946037%2C-0.3905099666586876%2C0.3031357701109616%2C0.2288165840284993%2C1.3931504993204111%2C0.9885238195381152%2C1.1867083157580154%2C-0.5721790881935958%2C-1.8190898769104653%2C-0.852940457838454%2C0.0223744004661036%2C0.7985970106607113%2C0.5095779536733573%2C0.4930625789883657%2C-1.0676403287433454%2C0.443516454933391%2C0.9389776954831404%2C-1.6291630680330615%2C0.28662039542597%2C1.492242747430361%2C0.096693586548566%2C0.6912470752082657%2C1.1867083157580154%2C-0.4483137780561583%2C-1.761286065512995%2C0.4517741422758867%2C-0.4648291527411499%2C-2.479704864310132%2C0.5426087030433406%2C-0.2914177185487376%2C1.43443893603289%2C-1.0180942046883703%2C-1.4805246958681366%2C0.4517741422758867%2C0.6086702017833073%2C-0.9355173312634122%2C0.773823948633224%2C-1.034609579373362%2C1.4674696854028733%2C-1.0180942046883703%2C0.1132089612335576%2C0.3279088321384493%2C0.0884358992060703%2C-1.8190898769104653%2C1.0463276309355865%2C0.3526818941659367%2C0.2783627080834743%2C-2.0172743731303653%2C0.6334432638107951%2C0.955493070168132%2C-0.3574792172887043%2C-1.0676403287433454%2C0.9389776954831404%2C0.5095779536733573%2C0.7325355119207447%2C-0.0519447856163586%2C-0.2996754058912335%2C-0.9602903932908996%2C-1.1667325768532952%2C-0.0519447856163586%2C0.5921548270983157%2C0.773823948633224%2C-0.8364250831534623%2C-2.9834237922023767%2C-0.943775018605908%2C0.2783627080834743%2C-0.6217252122485708%2C0.6995047625507613%2C0.9389776954831404%2C0.1214666485760537%2C0.9389776954831404%2C0.526093328358349%2C0.3691972688509283%2C-0.6630136489610498%2C-0.4400560907136626%2C0.773823948633224%2C-2.9503930428323937%2C-0.8777135198659413%2C1.054585318278082%2C-0.7621058970709998%2C0.1132089612335576%2C0.5013202663308617%2C-0.6877867109885373%2C-1.2905978869907326%2C0.2370742713709953%2C-0.0684601603013503%2C0.014116713123608%2C-0.2336139071512669%2C1.492242747430361%2C0.8564008220581824%2C-0.5474060261661083%2C-0.1923254704387878%2C-1.6043900060055742%2C-0.5474060261661083%2C-2.298035742775224%2C1.4509543107178815%2C0.0306320878085997%2C0.3609395815084327%2C0.8151123853457031%2C0.1379820232610453%2C0.9389776954831404%2C-0.7125597730160248%2C-1.6209053806905658%2C-2.091593559212828%2C-0.9602903932908996%2C-0.2831600312062418%2C-1.2905978869907326%2C-1.034609579373362%2C0.6417009511532907%2C-0.3574792172887043%2C0.6086702017833073%2C1.483985060087865%2C-0.2418715944937626%2C-1.1419595148258077%2C0.2783627080834743%2C0.526093328358349%2C1.43443893603289%2C1.1784506284155194%2C-1.034609579373362%2C0.3609395815084327%2C0.1132089612335576%2C1.8308079284726897%2C0.443516454933391%2C0.6995047625507613%2C-0.5308906514811166%2C-0.0932332223288379%2C-1.8686360009654408%2C0.8151123853457031%2C0.7573085739482324%2C-2.496220238995124%2C1.6904272436502608%2C0.2783627080834743%2C0.336166519480945%2C0.1214666485760537%2C0.8564008220581824%2C0.48480489164587%2C-1.472267008525641%2C-0.654755961618554%2C0.8233700726881991%2C0.2783627080834743%2C1.5995926828828064%2C0.6912470752082657%2C-2.4384164275976525%2C0.6664740131807784%2C-0.7868789590984873%2C-0.9602903932908996%2C0.6417009511532907%2C0.6912470752082657%2C0.0884358992060703%2C0.8564008220581824%2C0.1710127726310287%2C-0.9190019565784204%2C-0.7868789590984873%2C0.0306320878085997%2C0.3113934574534577%2C1.1619352537305276%2C0.2783627080834743%2C-0.2914177185487376%2C0.2783627080834743%2C-2.2650049934052405%2C-0.4648291527411499%2C-2.6448586111600485%2C0.3609395815084327%2C0.3279088321384493%2C1.33534668792294%2C1.384892811977915%2C0.1214666485760537%2C-1.422720884470666%2C-0.8859712072084371%2C0.1379820232610453%2C-0.2996754058912335%2C1.0215545689080987%2C0.336166519480945%2C0.4600318296183827%2C0.1132089612335576%2C-1.422720884470666%2C-0.9602903932908996%2C0.4517741422758867%2C-0.1345216590413169%2C0.195785834658516%2C1.43443893603289%2C-0.6299828995910667%2C0.2288165840284993%2C-0.993321142660883%2C-1.034609579373362%2C-0.3409638426037126%2C-1.224536388250766%2C-0.7786212717559915%2C-1.323628636360716%2C-1.794316814882978%2C0.4765472043033744%2C-1.7282553161430116%2C-1.1419595148258077%2C-0.0519447856163586%2C-0.9107442692359248%2C0.8316277600306947%2C0.6912470752082657%2C-1.0511249540583536%2C0.8894315714281658%2C0.2288165840284993%2C1.0215545689080987%2C0.1297243359185493%2C0.5921548270983157%2C0.8151123853457031%2C-0.4896022147686374%2C-1.951212874390399%2C-1.5383285072656074%2C1.1867083157580154%2C1.0958737549905613%2C0.68298938786577%2C0.245331958713491%2C0.8811738840856697%2C1.054585318278082%2C-0.2088408451237794%2C0.3609395815084327%2C0.3691972688509283%2C0.4187433929059033%2C0.2783627080834743%2C0.8068546980032074%2C-2.3640972415151897%2C1.5995926828828064%2C-0.4152830286861751%2C1.2692851891829735%2C0.6912470752082657%2C-0.5721790881935958%2C-0.7290751477010164%2C0.9885238195381152%2C0.3279088321384493%2C-0.7125597730160248%2C0.7903393233182157%2C0.3691972688509283%2C1.2692851891829735%2C0.8151123853457031%2C0.1710127726310287%2C-1.8851513756504323%2C-0.0932332223288379%2C0.5013202663308617%2C-0.1097485970138296%2C-2.5457663630500984%2C0.526093328358349%2C0.9389776954831404%2C0.1297243359185493%2C0.4270010802483994%2C0.6086702017833073%2C0.005859025781112%2C0.6912470752082657%2C-0.9190019565784204%2C0.9142046334556532%2C0.7407931992632407%2C1.244512127155486%2C-1.0180942046883703%2C-1.373174760415691%2C0.526093328358349%2C-0.7703635844134956%2C0.6169278891258033%2C1.863838677842673%2C0.6912470752082657%2C0.0884358992060703%2C0.443516454933391%2C0.6912470752082657%2C-0.0189140362463752%2C1.33534668792294%2C-2.2072011820077697%2C-0.0767178476438463%2C1.104131442333057%2C-0.8777135198659413%2C0.905946946113157%2C0.393970330878416%2C0.0801782118635743%2C-1.224536388250766%2C-0.3822522793161918%2C0.6912470752082657%2C-1.2080210135657743%2C-0.1510370337263086%2C-0.3822522793161918%2C1.1867083157580154%2C-0.0519447856163586%2C0.773823948633224%2C-1.8686360009654408%2C0.3196511447959533%2C-0.3244484679187209%2C0.6912470752082657%2C-0.1345216590413169%2C0.9389776954831404%2C-0.8777135198659413%2C1.5005004347728568%2C0.872916196743174%2C-1.901666750335424%2C0.8976892587706614%2C-0.3905099666586876%2C0.5178356410158533%2C0.872916196743174%2C0.0306320878085997%2C0.2205588966860037%2C-0.3822522793161918%2C-0.1345216590413169%2C-2.479704864310132%2C0.0801782118635743%2C0.0306320878085997%2C-0.3987676540011834%2C-1.1171864527983204%2C1.2362544398129904%2C-0.0767178476438463%2C0.6086702017833073%2C1.2032236904430071%2C-0.1097485970138296%2C0.9142046334556532%2C-2.3640972415151897%2C0.4104857055634077%2C1.013296881565603%2C0.5921548270983157%2C1.104131442333057%2C-2.694404735215023%2C-0.3987676540011834%2C0.195785834658516%2C-0.3905099666586876%2C0.1132089612335576%2C-0.2914177185487376%2C0.3196511447959533%2C1.1867083157580154%2C0.9389776954831404%2C0.1132089612335576%2C-1.1584748895107997%2C-0.1427793463838128%2C1.153677566388032%2C-0.1758100957537961%2C0.872916196743174%2C0.9307200081406448%2C0.195785834658516%2C0.905946946113157%2C0.6912470752082657%2C-0.0271717235888713%2C1.4096658740054029%2C1.1867083157580154%2C-0.4730868400836458%2C0.7903393233182157%2C0.2618473333984827%2C-1.042867266715858%2C0.6086702017833073%2C-0.4648291527411499%2C1.0215545689080987%2C0.3609395815084327%2C0.0306320878085997%2C0.3609395815084327%2C0.2783627080834743%2C-0.0519447856163586%2C0.773823948633224%2C-0.4565714653986541%2C0.8151123853457031%2C-0.8281673958109664%2C-1.3649170730731952%2C1.682169556307765%2C-0.2088408451237794%2C-0.6630136489610498%2C1.33534668792294%2C0.2701050207409787%2C-1.6869668794305324%2C-0.7951366464409831%2C1.2858005638679657%2C0.6086702017833073%2C0.1627550852885327%2C0.8068546980032074%2C0.5178356410158533%2C-0.2583869691787543%2C0.4517741422758867%2C0.6004125144408117%2C0.773823948633224%2C0.4187433929059033%2C-0.7621058970709998%2C0.443516454933391%2C-0.3905099666586876%2C0.6169278891258033%2C1.0215545689080987%2C0.8151123853457031%2C1.1867083157580154%2C-0.373994591973696%2C1.1289045043605443%2C-1.1667325768532952%2C-1.455751633840649%2C0.195785834658516%2C-0.7125597730160248%2C0.48480489164587%2C-0.2666446565212501%2C0.443516454933391%2C-0.2088408451237794%2C-0.2996754058912335%2C0.9802661321956198%2C0.0223744004661036%2C0.9885238195381152%2C0.7985970106607113%2C0.443516454933391%2C-0.2501292818362585%2C1.5087581221153528%2C0.7903393233182157%2C0.3113934574534577%2C0.526093328358349%2C1.566561933512823%2C-0.0519447856163586%2C0.0306320878085997%2C0.055405149836087%2C-0.8694558325234455%2C-0.2005831577812836%2C-2.405385678227669%2C-2.512735613680115%2C0.344424206823441%2C0.0471474624935913%2C1.1206468170180488%2C1.8720963651851688%2C-0.184067783096292%2C-1.5548438819505992%2C1.5335311841428396%2C0.2205588966860037%2C0.4682895169608783%2C-1.4640093211831449%2C0.245331958713491%2C-0.6299828995910667%2C-0.1345216590413169%2C0.8233700726881991%2C0.58389713975582%2C1.5748196208553191%2C0.443516454933391%2C-0.2501292818362585%2C-0.1345216590413169%2C0.8316277600306947%2C0.0801782118635743%2C0.5921548270983157%2C-0.5804367755360916%2C1.3766351246354194%2C1.2032236904430071%2C-0.8446827704959582%2C0.1875281473160203%2C0.8316277600306947%2C-0.1427793463838128%2C-0.803394333783479%2C1.1867083157580154%2C0.204043522001012%2C-1.1502172021683037%2C0.154497397946037%2C-0.1262639716988213%2C0.48480489164587%2C0.3196511447959533%2C-0.2005831577812836%2C0.526093328358349%2C0.8068546980032074%2C-1.232794075593262%2C0.1710127726310287%2C0.2618473333984827%2C1.3518620626079316%2C-0.5474060261661083%2C0.6086702017833073%2C1.2692851891829735%2C0.1627550852885327%2C-1.0511249540583536%2C0.1627550852885327%2C0.6912470752082657%2C1.1867083157580154%2C0.443516454933391%2C0.526093328358349%2C-0.423540716028671%2C0.3113934574534577%2C-1.918182125020416%2C-2.958650730174889%2C0.6086702017833073%2C1.5995926828828064%2C-0.852940457838454%2C0.2783627080834743%2C0.195785834658516%2C1.302315938552957%2C-0.2418715944937626%2C1.104131442333057%2C1.5170158094578483%2C1.1701929410730236%2C0.1792704599735243%2C0.2783627080834743%2C0.526093328358349%2C-0.7043020856735289%2C0.4104857055634077%2C0.9472353828256364%2C0.526093328358349%2C1.4757273727453697%2C0.9142046334556532%2C-1.6209053806905658%2C0.055405149836087%2C-0.3492215299462085%2C0.2783627080834743%2C-2.677889360530032%2C0.4765472043033744%2C0.4517741422758867%2C-2.0172743731303653%2C-1.0015788300033788%2C0.0388897751510953%2C0.3113934574534577%2C0.294878082768466%2C0.6912470752082657%2C-0.0519447856163586%2C0.905946946113157%2C-1.5465861946081032%2C-0.0106563489038796%2C0.9389776954831404%2C1.2692851891829735%2C0.6912470752082657%2C0.104951273891062%2C0.1132089612335576%2C0.9224623207981488%2C-0.0519447856163586%2C1.0215545689080987%2C0.6582163258382824%2C-1.1667325768532952%2C0.5013202663308617%2C-0.6712713363035456%2C1.5087581221153528%2C-0.7290751477010164%2C1.3518620626079316%2C-0.1923254704387878%2C0.336166519480945%2C0.5178356410158533%2C0.625185576468299%2C-0.8116520211259748%2C0.014116713123608%2C-1.0263518920308663%2C0.7490508866057364%2C0.5178356410158533%2C-0.0519447856163586%2C0.2123012093435076%2C0.7325355119207447%2C-1.084155703428337%2C0.435258767590895%2C-2.273262680747736%2C1.43443893603289%2C-0.6464982742760583%2C1.5583042461703274%2C0.2783627080834743%2C-0.2170985324662753%2C-0.6960443983310332%2C-0.8116520211259748%2C-0.3079330932337293%2C0.3196511447959533%2C-2.075078184527836%2C-0.8859712072084371%2C0.3526818941659367%2C0.9967815068806114%2C0.6086702017833073%2C0.5921548270983157%2C1.43443893603289%2C-0.6464982742760583%2C-1.8768936883079363%2C0.6499586384957867%2C0.245331958713491%2C0.9389776954831404%2C0.9389776954831404%2C1.5583042461703274%2C1.1619352537305276%2C1.0215545689080987%2C-0.423540716028671%2C1.1371621917030403%2C-0.1345216590413169%2C-0.0354294109313669%2C-2.752208546612494%2C1.0215545689080987%2C0.4104857055634077%2C-0.7951366464409831%2C-0.8694558325234455%2C1.5170158094578483%2C-0.0189140362463752%2C-1.042867266715858%2C0.1627550852885327%2C0.063662837178583%2C0.1627550852885327%2C-0.2583869691787543%2C1.104131442333057%2C0.154497397946037%2C-0.3161907805762251%2C0.5095779536733573%2C0.055405149836087%2C0.0388897751510953%2C0.4930625789883657%2C0.6912470752082657%2C-1.6456784427180533%2C-0.0106563489038796%2C1.244512127155486%2C1.1701929410730236%2C0.526093328358349%2C-2.512735613680115%2C0.3526818941659367%2C-0.0436870982738629%2C-0.5474060261661083%2C1.4757273727453697%2C-0.5474060261661083%2C1.401408186662907%2C0.6169278891258033%2C1.294058251210461%2C0.4765472043033744%2C0.8068546980032074%2C1.0380699435930905%2C-0.5721790881935958%2C-1.7860591275404822%2C0.5508663903858367%2C-1.224536388250766%2C0.4022280182209117%2C-0.8364250831534623%2C-0.2170985324662753%2C0.6582163258382824%2C1.4261812486903944%2C1.0215545689080987%2C-0.5474060261661083%2C-2.487962551652628%2C-0.1345216590413169%2C1.1867083157580154%2C0.7242778245782491%2C0.58389713975582%2C0.6582163258382824%2C0.4765472043033744%2C-0.8694558325234455%2C1.1867083157580154%2C-1.2080210135657743%2C-1.893409062992928%2C-0.5886944628785875%2C-0.5969521502210833%2C1.3518620626079316%2C0.7077624498932573%2C-1.0180942046883703%2C1.4261812486903944%2C0.3279088321384493%2C0.8564008220581824%2C-0.1014909096713336%2C-0.7951366464409831%2C-0.1758100957537961%2C-0.6217252122485708%2C0.526093328358349%2C0.443516454933391%2C-1.934697499705408%2C-1.7365130034855074%2C0.1214666485760537%2C-0.3492215299462085%2C0.0388897751510953%2C0.674731700523274%2C0.773823948633224%2C0.58389713975582%2C-2.331066492145207%2C0.0306320878085997%2C1.3188313132379483%2C-0.1923254704387878%2C0.6417009511532907%2C1.1289045043605443%2C0.575639452413324%2C0.9389776954831404%2C1.525273496800344%2C-0.3657369046312001%2C-1.042867266715858%2C1.5995926828828064%2C-0.9107442692359248%2C-0.8199097084684707%2C0.2288165840284993%2C-0.7043020856735289%2C-1.042867266715858%2C0.9142046334556532%2C-0.373994591973696%2C-1.951212874390399%2C0.872916196743174%2C-1.034609579373362%2C1.104131442333057%2C1.8142925537876984%2C1.194966003100511%2C-1.2905978869907326%2C0.204043522001012%2C0.9967815068806114%2C-0.8859712072084371%2C-2.776981608639981%2C-2.578797112420081%2C-1.1584748895107997%2C0.8564008220581824%2C-2.554024050392594%2C0.963750757510628%2C0.2783627080834743%2C-0.3079330932337293%2C-1.232794075593262%2C-0.6052098375635792%2C-0.2501292818362585%2C1.1867083157580154%2C-1.4062055097856745%2C0.3196511447959533%2C-0.373994591973696%2C0.7490508866057364%2C-1.2905978869907326%2C-0.7125597730160248%2C0.625185576468299%2C-0.9602903932908996%2C0.2783627080834743%2C0.6664740131807784%2C0.4600318296183827%2C0.0223744004661036%2C0.146239710603541%2C-0.4400560907136626%2C-0.2336139071512669%2C-1.8851513756504323%2C0.014116713123608%2C0.526093328358349%2C-0.4648291527411499%2C-2.1163666212403154%2C0.864658509400678%2C1.2032236904430071%2C0.5508663903858367%2C-0.7125597730160248%2C1.3518620626079316%2C0.9307200081406448%2C-0.0519447856163586%2C0.9389776954831404%2C0.0223744004661036%2C0.0306320878085997%2C-1.7282553161430116%2C-2.6283432364750565%2C-0.803394333783479%2C-0.5226329641386208%2C0.6169278891258033%2C-0.1345216590413169%2C-1.0015788300033788%2C0.9472353828256364%2C-1.6704515047455406%2C-1.1749902641957912%2C-0.9107442692359248%2C1.3766351246354194%2C0.58389713975582%2C-0.3987676540011834%2C-2.058562809842845%2C0.195785834658516%2C1.8968694272126565%2C-0.9602903932908996%2C0.9802661321956198%2C1.2610275018404775%2C0.9389776954831404%2C-0.8777135198659413%2C-1.41446319712817%2C1.1701929410730236%2C0.0471474624935913%2C-1.1915056388807828%2C-0.0106563489038796%2C-1.0676403287433454%2C1.9133848018976485%2C0.773823948633224%2C-1.6869668794305324%2C1.3188313132379483%2C-1.951212874390399%2C1.005039194223107%2C-0.7951366464409831%2C1.2858005638679657%2C0.9307200081406448%2C1.401408186662907%2C1.6161080575677984%2C-0.9602903932908996%2C-0.9850634553183872%2C0.146239710603541%2C1.7069426183352527%2C1.401408186662907%2C0.195785834658516%2C-0.0684601603013503%2C0.8894315714281658%2C1.7482310550477318%2C0.68298938786577%2C-0.1262639716988213%2C0.5921548270983157%2C0.4022280182209117%2C0.58389713975582%2C1.5087581221153528%2C-0.5474060261661083%2C0.6912470752082657%2C-2.042047435157853%2C0.6417009511532907%2C1.5913349955403109%2C-0.1345216590413169%2C0.4930625789883657%2C1.5087581221153528%2C1.1867083157580154%2C-0.9190019565784204%2C-1.3896901351006827%2C-0.7951366464409831%2C0.3526818941659367%2C0.575639452413324%2C-0.3244484679187209%2C0.5426087030433406%2C1.343604375265436%2C0.2783627080834743%2C-2.000758998445374%2C0.9389776954831404%2C0.7820816359757197%2C0.6582163258382824%2C-0.5639214008511%2C0.872916196743174%2C1.7152003056777485%2C-0.6299828995910667%2C0.7903393233182157%2C0.2783627080834743%2C1.3518620626079316%2C-0.9272596439209164%2C0.864658509400678%2C-0.8364250831534623%2C1.2692851891829735%2C-1.034609579373362%2C0.8151123853457031%2C0.773823948633224%2C0.3609395815084327%2C0.7573085739482324%2C1.5913349955403109%2C0.963750757510628%2C1.384892811977915%2C0.204043522001012%2C-2.5705394250775857%2C-0.9107442692359248%2C0.6086702017833073%2C-0.7373328350435123%2C0.0306320878085997%2C0.435258767590895%2C0.0306320878085997%2C-0.9685480806333956%2C0.5508663903858367%2C-0.5474060261661083%2C-0.5804367755360916%2C-0.7951366464409831%2C-0.2170985324662753%2C-0.8364250831534623%2C0.3691972688509283%2C-0.9602903932908996%2C0.3691972688509283%2C-1.282340199648237%2C1.0711006929630738%2C-2.694404735215023%2C0.8398854473731907%2C0.9720084448531237%2C0.0223744004661036%2C-0.9520327059484038%2C-0.3905099666586876%2C-0.3327061552612168%2C-1.7365130034855074%2C-2.776981608639981%2C-1.455751633840649%2C0.1710127726310287%2C0.7242778245782491%2C-1.992501311102878%2C0.6086702017833073%2C-0.1592947210688044%2C-0.3822522793161918%2C-0.5308906514811166%2C0.5508663903858367%2C1.153677566388032%2C1.0215545689080987%2C0.0388897751510953%2C-0.6877867109885373%2C-1.4887823832106326%2C0.6499586384957867%2C-0.5639214008511%2C0.435258767590895%2C0.9389776954831404%2C0.7325355119207447%2C0.773823948633224%2C0.6086702017833073%2C0.4187433929059033%2C0.575639452413324%2C-1.265824824963245%2C0.0223744004661036%2C-0.1675524084113003%2C-0.7208174603585207%2C1.401408186662907%2C-0.6299828995910667%2C0.68298938786577%2C-0.3905099666586876%2C-0.7125597730160248%2C-0.3079330932337293%2C-0.1510370337263086%2C-0.7373328350435123%2C1.43443893603289%2C0.7903393233182157%2C1.0215545689080987%2C0.6582163258382824%2C1.145419879045536%5D%2C%26quot%3Bvalue%26quot%3B%3A0.15692516148693353%2C%26quot%3Berror%26quot%3B%3A1.1251149760253338%2C%26quot%3Btitle%26quot%3B%3A%26quot%3BError%20Plot%26quot%3B%2C%26quot%3Bxaxis_title%26quot%3B%3A%26quot%3Bexp%26quot%3B%2C%26quot%3Byaxis_title%26quot%3B%3A%26quot%3BDensity%26quot%3B%2C%26quot%3Bwidth%26quot%3B%3A800%2C%26quot%3Bheight%26quot%3B%3A600%2C%26quot%3Bpoints%26quot%3B%3A%26quot%3B%20%26quot%3B%7D%22%20style%3D%22width%3A%20100%25%3B%20height%3A%20100%25%3B%20display%3Ainline-block%3B%22%3E%3C%2Fdiv%3E%0A%20%20%20%20%20%20%20%20%3C%2Fbody%3E%0A%20%20%20%20%20%20%20%20%3C%2Fmeta%3E%0A%20%20%20%20%20%20%20%20%3Cscript%3Evar%20plot%20%3D%20document.getElementById%28%22basevis-entry%22%29%3B%0Avar%20data%20%3D%20JSON.parse%28document.getElementById%28%22basevis-entry%22%29.dataset.visdata%29%3B%0A%0Avar%20trace%20%3D%20%7B%0A%20%20%20%20hoverinfo%3A%20%22x%22%2C%0A%20%20%20%20hoveron%3A%20%22points%2Bkde%22%2C%0A%20%20%20%20points%3A%20%22skip%22%2C%0A%20%20%20%20pointpos%3A%20-0.05%2C%0A%20%20%20%20box%3A%20%7B%7D%2C%0A%20%20%20%20jitter%3A%200%2C%0A%20%20%20%20name%3A%20%22Training%20Distribution%22%2C%0A%20%20%20%20showlegend%3A%20true%2C%0A%20%20%20%20marker%3A%20%7B%0A%20%20%20%20%20%20%20%20line%3A%20%7B%0A%20%20%20%20%20%20%20%20%20%20%20%20width%3A%200.1%2C%0A%20%20%20%20%20%20%20%20%20%20%20%20color%3A%20%22%238dd3c7%22%0A%20%20%20%20%20%20%20%20%7D%2C%0A%20%20%20%20%20%20%20%20size%3A%2010%2C%0A%20%20%20%20%20%20%20%20symbol%3A%20%22line-ns%22%0A%20%20%20%20%7D%2C%0A%20%20%20%20side%3A%20%22positive%22%2C%0A%20%20%20%20type%3A%20%22violin%22%2C%0A%20%20%20%20line%3A%20%7B%0A%20%20%20%20%20%20%20%20color%3A%20%22%238dd3c7%22%0A%20%20%20%20%7D%2C%0A%20%20%20%20y0%3A%20%22%20%22%2C%0A%20%20%20%20x%3A%20data.reference%2C%0A%20%20%20%20orientation%3A%20%22h%22%0A%7D%0A%0Avar%20trace2%20%3D%20%7B%0A%20%20%20%20hoverinfo%3A%20%22skip%22%2C%0A%20%20%20%20name%3A%20%22Predicted%20Value%20and%20CI%22%2C%0A%20%20%20%20showlegend%3A%20true%2C%0A%20%20%20%20side%3A%20%22positive%22%2C%0A%20%20%20%20type%3A%20%22violin%22%2C%0A%20%20%20%20visible%3A%20%22legendonly%22%2C%0A%20%20%20%20line%3A%20%7B%0A%20%20%20%20%20%20%20%20color%3A%20%22%23bebada%22%2C%0A%20%20%20%20%7D%2C%0A%20%20%20%20y0%3A%20%22%20%22%2C%0A%20%20%20%20x%3A%20%5Bdata.value%5D%2C%0A%20%20%20%20orientation%3A%20%22h%22%2C%0A%20%20%20%20span%3A%20%5B%0A%20%20%20%20%20%20%20%20data.value%20-%20data.error%2C%20data.value%20%2B%20data.error%0A%20%20%20%20%5D%2C%0A%7D%0A%0Aif%20%28%22ci%22%20in%20data%29%20%7B%0A%20%20%20%20trace2.name%20%3D%20%60Predicted%20Value%20and%20%24%7Bdata.ci%7D%25%20CI%60%0A%7D%0A%0Aif%20%28%22box%22%20in%20data%29%20%7B%0A%20%20%20%20trace.box.visible%20%3D%20true%0A%7D%0A%0Aif%20%28%22points%22%20in%20data%29%20%7B%0A%20%20%20%20trace.points%20%3D%20%22all%22%0A%7D%0A%0Avar%20plot_data%20%3D%20%5Btrace%2C%20trace2%5D%0Avar%20layout%20%3D%20%7B%0A%20%20%20%20shapes%3A%20%5B%0A%20%20%20%20%20%20%20%20%7B%0A%20%20%20%20%20%20%20%20%20%20%20%20type%3A%20%27rect%27%2C%0A%20%20%20%20%20%20%20%20%20%20%20%20xref%3A%20%27x%27%2C%0A%20%20%20%20%20%20%20%20%20%20%20%20yref%3A%20%27paper%27%2C%0A%20%20%20%20%20%20%20%20%20%20%20%20x0%3A%20data.value%20-%20data.error%2C%0A%20%20%20%20%20%20%20%20%20%20%20%20y0%3A%200%2C%0A%20%20%20%20%20%20%20%20%20%20%20%20x1%3A%20data.value%20%2B%20data.error%2C%0A%20%20%20%20%20%20%20%20%20%20%20%20y1%3A%201%2C%0A%20%20%20%20%20%20%20%20%20%20%20%20fillcolor%3A%20%27%23bebada%27%2C%0A%20%20%20%20%20%20%20%20%20%20%20%20opacity%3A%200.5%2C%0A%20%20%20%20%20%20%20%20%20%20%20%20line%3A%20%7B%0A%20%20%20%20%20%20%20%20%20%20%20%20%20%20%20%20width%3A%200%0A%20%20%20%20%20%20%20%20%20%20%20%20%7D%0A%20%20%20%20%20%20%20%20%7D%2C%0A%20%20%20%20%20%20%20%20%7B%0A%20%20%20%20%20%20%20%20%20%20%20%20type%3A%20%27line%27%2C%0A%20%20%20%20%20%20%20%20%20%20%20%20xref%3A%20%27x%27%2C%0A%20%20%20%20%20%20%20%20%20%20%20%20yref%3A%20%27paper%27%2C%0A%20%20%20%20%20%20%20%20%20%20%20%20x0%3A%20data.value%2C%0A%20%20%20%20%20%20%20%20%20%20%20%20y0%3A%200%2C%0A%20%20%20%20%20%20%20%20%20%20%20%20x1%3A%20data.value%2C%0A%20%20%20%20%20%20%20%20%20%20%20%20y1%3A%201%2C%0A%20%20%20%20%20%20%20%20%20%20%20%20line%3A%20%7B%0A%20%20%20%20%20%20%20%20%20%20%20%20%20%20%20%20color%3A%20%27%23bebada%27%2C%0A%20%20%20%20%20%20%20%20%20%20%20%20%20%20%20%20width%3A%203%0A%20%20%20%20%20%20%20%20%20%20%20%20%7D%0A%20%20%20%20%20%20%20%20%7D%2C%0A%20%20%20%20%5D%2C%0A%20%20%20%20title%3A%20data.title%2C%0A%20%20%20%20xaxis%3A%20%7B%0A%20%20%20%20%20%20%20%20title%3A%20data.xaxis_title%2C%0A%20%20%20%20%20%20%20%20zeroline%3A%20false%0A%20%20%20%20%7D%2C%0A%20%20%20%20yaxis%3A%20%7B%0A%20%20%20%20%20%20%20%20title%3A%20data.yaxis_title%2C%0A%20%20%20%20%7D%2C%0A%20%20%20%20autosize%3A%20true%2C%0A%20%20%20%20showlegend%3A%20true%2C%0A%20%20%20%20legend%3A%20%7B%0A%20%20%20%20%20%20%20%20x%3A%200.5%2C%0A%20%20%20%20%20%20%20%20y%3A%200%0A%20%20%20%20%7D%0A%7D%3B%0A%0APlotly.newPlot%28%22basevis-entry%22%2C%20plot_data%2C%20layout%29%0A%3C%2Fscript%3E%3Cscript%3E%20window.addEventListener%28%22resize%22%2C%20function%28%29%7Bif%20%28document.getElementById%28%22basevis-entry%22%29%29%20%7BPlotly.Plots.resize%28document.getElementById%28%22basevis-entry%22%29%29%3B%7D%3B%7D%29%20%3C%2Fscript%3E\"\n",
       "            frameborder=\"0\"\n",
       "            allowfullscreen\n",
       "            \n",
       "        ></iframe>\n",
       "        "
      ],
      "text/plain": [
       "<IPython.lib.display.IFrame at 0x7f336a24df70>"
      ]
     },
     "execution_count": 11,
     "metadata": {},
     "output_type": "execute_result"
    }
   ],
   "source": [
    "vis = oce.VisualizeError(dataset, pred[0], err[0])\n",
    "vis.render_ipynb()"
   ]
  },
  {
   "cell_type": "markdown",
   "id": "2c15a2ff-41ed-40ff-ae4b-9c203efd8651",
   "metadata": {},
   "source": [
    "The green plot is a density plot of outputs from the reference dataset. The probable property value range for the target molecule is shaded in purple, and the predicted property value is the purple dividing line."
   ]
  }
 ],
 "metadata": {
  "kernelspec": {
   "display_name": "Python 3",
   "language": "python",
   "name": "python3"
  },
  "language_info": {
   "codemirror_mode": {
    "name": "ipython",
    "version": 3
   },
   "file_extension": ".py",
   "mimetype": "text/x-python",
   "name": "python",
   "nbconvert_exporter": "python",
   "pygments_lexer": "ipython3",
   "version": "3.8.13"
  },
  "vscode": {
   "interpreter": {
    "hash": "02e06ce31cd46c0c1b3d62172fa2abcc25c3f3cab9f1cb7937a5a96ff227b8ea"
   }
  }
 },
 "nbformat": 4,
 "nbformat_minor": 5
}
