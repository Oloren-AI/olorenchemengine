{
    "cells": [
        {
            "cell_type": "markdown",
            "id": "4ec9d780-20c4-4c69-8469-0d1010a41ef5",
            "metadata": {},
            "source": [
                "# Putting it all together\n",
                "\n",
                "We now demonstrate all of Oloren ChemEngine's uncertainty features by training a production-level model and error model on the BACE dataset from DeepChem datasets."
            ]
        },
        {
            "cell_type": "code",
            "execution_count": 1,
            "id": "c2213315-836e-426a-a6d3-f790c3d11eb6",
            "metadata": {},
            "outputs": [],
            "source": [
                "import olorenchemengine as oce\n",
                "import pandas as pd\n",
                "import numpy as np"
            ]
        },
        {
            "cell_type": "markdown",
            "id": "d3027244-b840-4997-a746-8a907b02bba6",
            "metadata": {},
            "source": [
                "## Creating the dataset\n",
                "\n",
                "We will train the model on 90% of the data and leave 10% for testing."
            ]
        },
        {
            "cell_type": "code",
            "execution_count": 4,
            "id": "14025c0a-2b03-443c-ae53-e99417f58b09",
            "metadata": {},
            "outputs": [],
            "source": [
                "data = pd.read_csv(oce.download_public_file(\"MoleculeNet/load_bace_regression.csv\"))[[\"smiles\", \"pIC50\"]]\n",
                "\n",
                "# Use smaller dataset for speed, remove this line for full dataset\n",
                "data = data.sample(100)\n",
                "\n",
                "bace_dataset = oce.BaseDataset(data=data.to_csv(), structure_col = \"smiles\", property_col = \"pIC50\")\n",
                "splitter = oce.RandomSplit(split_proportions=[0.9,0,0.1])\n",
                "bace_dataset = splitter.transform(bace_dataset)\n",
                "oce.save(bace_dataset, \"bace_dataset.oce\")"
            ]
        },
        {
            "cell_type": "markdown",
            "id": "3f339386-5d72-4795-902d-e66d440372b1",
            "metadata": {},
            "source": [
                "## Training the production-level model\n",
                "\n",
                "Production-level models can be produced by running ```fit_cv```, which in addition to fitting the whole model, fits the error model via cross validation."
            ]
        },
        {
            "cell_type": "code",
            "execution_count": 5,
            "id": "c2f05fbc-cd21-40ce-b741-99a6a14e7ab1",
            "metadata": {},
            "outputs": [
                {
                    "name": "stdout",
                    "output_type": "stream",
                    "text": [
                        "Fitting 5 folds for each of 100 candidates, totalling 500 fits\n",
                        "[CV] END colsample_bytree=0.5, learning_rate=0.005, max_depth=6, min_child_weight=2, n_estimators=100, reg_alpha=30, reg_lambda=30, subsample=0.6; total time=   1.9s\n",
                        "[CV] END colsample_bytree=0.5, learning_rate=0.005, max_depth=6, min_child_weight=2, n_estimators=100, reg_alpha=30, reg_lambda=30, subsample=0.6; total time=   1.4s\n",
                        "[CV] END colsample_bytree=0.5, learning_rate=0.005, max_depth=6, min_child_weight=2, n_estimators=100, reg_alpha=30, reg_lambda=30, subsample=0.6; total time=   1.4s\n",
                        "[CV] END colsample_bytree=0.5, learning_rate=0.005, max_depth=6, min_child_weight=2, n_estimators=100, reg_alpha=30, reg_lambda=30, subsample=0.6; total time=   1.3s\n",
                        "[CV] END colsample_bytree=0.5, learning_rate=0.005, max_depth=6, min_child_weight=2, n_estimators=100, reg_alpha=30, reg_lambda=30, subsample=0.6; total time=   1.4s\n",
                        "[CV] END colsample_bytree=0.5, learning_rate=0.01, max_depth=3, min_child_weight=3, n_estimators=200, reg_alpha=0.1, reg_lambda=5, subsample=0.4; total time=   1.2s\n",
                        "[CV] END colsample_bytree=0.5, learning_rate=0.01, max_depth=3, min_child_weight=3, n_estimators=200, reg_alpha=0.1, reg_lambda=5, subsample=0.4; total time=   1.1s\n",
                        "[CV] END colsample_bytree=0.5, learning_rate=0.01, max_depth=3, min_child_weight=3, n_estimators=200, reg_alpha=0.1, reg_lambda=5, subsample=0.4; total time=   1.1s\n",
                        "[CV] END colsample_bytree=0.5, learning_rate=0.01, max_depth=3, min_child_weight=3, n_estimators=200, reg_alpha=0.1, reg_lambda=5, subsample=0.4; total time=   1.1s\n",
                        "[CV] END colsample_bytree=0.5, learning_rate=0.01, max_depth=3, min_child_weight=3, n_estimators=200, reg_alpha=0.1, reg_lambda=5, subsample=0.4; total time=   1.1s\n",
                        "[CV] END colsample_bytree=0.9, learning_rate=0.001, max_depth=5, min_child_weight=3, n_estimators=200, reg_alpha=10, reg_lambda=20, subsample=0.6; total time=   2.8s\n",
                        "[CV] END colsample_bytree=0.9, learning_rate=0.001, max_depth=5, min_child_weight=3, n_estimators=200, reg_alpha=10, reg_lambda=20, subsample=0.6; total time=   2.8s\n",
                        "[CV] END colsample_bytree=0.9, learning_rate=0.001, max_depth=5, min_child_weight=3, n_estimators=200, reg_alpha=10, reg_lambda=20, subsample=0.6; total time=   3.0s\n",
                        "[CV] END colsample_bytree=0.9, learning_rate=0.001, max_depth=5, min_child_weight=3, n_estimators=200, reg_alpha=10, reg_lambda=20, subsample=0.6; total time=   2.9s\n",
                        "[CV] END colsample_bytree=0.9, learning_rate=0.001, max_depth=5, min_child_weight=3, n_estimators=200, reg_alpha=10, reg_lambda=20, subsample=0.6; total time=   2.8s\n",
                        "[CV] END colsample_bytree=0.5, learning_rate=0.005, max_depth=6, min_child_weight=3, n_estimators=100, reg_alpha=0.1, reg_lambda=20, subsample=0.9; total time=   2.3s\n",
                        "[CV] END colsample_bytree=0.5, learning_rate=0.005, max_depth=6, min_child_weight=3, n_estimators=100, reg_alpha=0.1, reg_lambda=20, subsample=0.9; total time=   2.2s\n",
                        "[CV] END colsample_bytree=0.5, learning_rate=0.005, max_depth=6, min_child_weight=3, n_estimators=100, reg_alpha=0.1, reg_lambda=20, subsample=0.9; total time=   2.3s\n",
                        "[CV] END colsample_bytree=0.5, learning_rate=0.005, max_depth=6, min_child_weight=3, n_estimators=100, reg_alpha=0.1, reg_lambda=20, subsample=0.9; total time=   2.2s\n",
                        "[CV] END colsample_bytree=0.5, learning_rate=0.005, max_depth=6, min_child_weight=3, n_estimators=100, reg_alpha=0.1, reg_lambda=20, subsample=0.9; total time=   2.3s\n",
                        "[CV] END colsample_bytree=0.4, learning_rate=0.001, max_depth=7, min_child_weight=1, n_estimators=1000, reg_alpha=1, reg_lambda=20, subsample=0.4; total time=  27.6s\n",
                        "[CV] END colsample_bytree=0.4, learning_rate=0.001, max_depth=7, min_child_weight=1, n_estimators=1000, reg_alpha=1, reg_lambda=20, subsample=0.4; total time=  28.1s\n",
                        "[CV] END colsample_bytree=0.4, learning_rate=0.001, max_depth=7, min_child_weight=1, n_estimators=1000, reg_alpha=1, reg_lambda=20, subsample=0.4; total time=  28.4s\n",
                        "[CV] END colsample_bytree=0.4, learning_rate=0.001, max_depth=7, min_child_weight=1, n_estimators=1000, reg_alpha=1, reg_lambda=20, subsample=0.4; total time=  28.4s\n",
                        "[CV] END colsample_bytree=0.4, learning_rate=0.001, max_depth=7, min_child_weight=1, n_estimators=1000, reg_alpha=1, reg_lambda=20, subsample=0.4; total time=  27.9s\n",
                        "[CV] END colsample_bytree=0.5, learning_rate=0.01, max_depth=3, min_child_weight=1, n_estimators=100, reg_alpha=0.1, reg_lambda=0, subsample=0.3; total time=   0.7s\n",
                        "[CV] END colsample_bytree=0.5, learning_rate=0.01, max_depth=3, min_child_weight=1, n_estimators=100, reg_alpha=0.1, reg_lambda=0, subsample=0.3; total time=   0.5s\n",
                        "[CV] END colsample_bytree=0.5, learning_rate=0.01, max_depth=3, min_child_weight=1, n_estimators=100, reg_alpha=0.1, reg_lambda=0, subsample=0.3; total time=   0.7s\n",
                        "[CV] END colsample_bytree=0.5, learning_rate=0.01, max_depth=3, min_child_weight=1, n_estimators=100, reg_alpha=0.1, reg_lambda=0, subsample=0.3; total time=   0.7s\n",
                        "[CV] END colsample_bytree=0.5, learning_rate=0.01, max_depth=3, min_child_weight=1, n_estimators=100, reg_alpha=0.1, reg_lambda=0, subsample=0.3; total time=   0.7s\n",
                        "[CV] END colsample_bytree=0.3, learning_rate=0.01, max_depth=4, min_child_weight=1, n_estimators=1000, reg_alpha=20, reg_lambda=5, subsample=0.9; total time=   6.9s\n",
                        "[CV] END colsample_bytree=0.3, learning_rate=0.01, max_depth=4, min_child_weight=1, n_estimators=1000, reg_alpha=20, reg_lambda=5, subsample=0.9; total time=   7.1s\n",
                        "[CV] END colsample_bytree=0.3, learning_rate=0.01, max_depth=4, min_child_weight=1, n_estimators=1000, reg_alpha=20, reg_lambda=5, subsample=0.9; total time=   7.1s\n",
                        "[CV] END colsample_bytree=0.3, learning_rate=0.01, max_depth=4, min_child_weight=1, n_estimators=1000, reg_alpha=20, reg_lambda=5, subsample=0.9; total time=   7.7s\n",
                        "[CV] END colsample_bytree=0.3, learning_rate=0.01, max_depth=4, min_child_weight=1, n_estimators=1000, reg_alpha=20, reg_lambda=5, subsample=0.9; total time=   7.1s\n",
                        "[CV] END colsample_bytree=0.8, learning_rate=0.001, max_depth=6, min_child_weight=1, n_estimators=1000, reg_alpha=1, reg_lambda=30, subsample=0.4; total time=  24.5s\n"
                    ]
                }
            ],
            "source": [
                "bace_dataset = oce.load(\"bace_dataset.oce\")\n",
                "\n",
                "model = oce.ZWK_XGBoostModel(oce.OlorenCheckpoint(\"default\"))\n",
                "model.fit_cv(bace_dataset.train_dataset[0], bace_dataset.train_dataset[1], error_model = oce.SDC())\n",
                "oce.save(model, \"bace_model.oce\")"
            ]
        },
        {
            "cell_type": "markdown",
            "id": "ecc391e6-6554-4dd7-8f45-30578cf0b8a0",
            "metadata": {},
            "source": [
                "## Visualizing results\n",
                "\n",
                "We visualize the probable output range for each test molecule (80% confidence interval) and the true output for each test molecule. For the ones plotted, each of the predicted values are within the error margin."
            ]
        },
        {
            "cell_type": "code",
            "execution_count": null,
            "id": "c761f53e-ba9a-40ab-a779-ba5be5a737c4",
            "metadata": {},
            "outputs": [
                {
                    "ename": "",
                    "evalue": "",
                    "output_type": "error",
                    "traceback": [
                        "\u001b[1;31mRunning cells with 'Python 3.9.5 64-bit' requires ipykernel package.\n",
                        "\u001b[1;31mRun the following command to install 'ipykernel' into the Python environment. \n",
                        "\u001b[1;31mCommand: '/bin/python3.9 -m pip install ipykernel -U --user --force-reinstall'"
                    ]
                }
            ],
            "source": [
                "model = oce.load(\"bace_model.oce\")\n",
                "bace_dataset = oce.load(\"bace_dataset.oce\")\n",
                "\n",
                "results_df = model.predict(bace_dataset.test_dataset[0], return_ci=True, return_vis=True)\n",
                "results_df"
            ]
        },
        {
            "cell_type": "markdown",
            "id": "a2a0fb4d-8857-4400-a5ca-c061932822dd",
            "metadata": {},
            "source": [
                "### Ground truth output"
            ]
        },
        {
            "cell_type": "code",
            "execution_count": null,
            "id": "d95d844f-fd9b-4dc4-a058-d39a86febdb2",
            "metadata": {},
            "outputs": [
                {
                    "ename": "",
                    "evalue": "",
                    "output_type": "error",
                    "traceback": [
                        "\u001b[1;31mRunning cells with 'Python 3.9.5 64-bit' requires ipykernel package.\n",
                        "\u001b[1;31mRun the following command to install 'ipykernel' into the Python environment. \n",
                        "\u001b[1;31mCommand: '/bin/python3.9 -m pip install ipykernel -U --user --force-reinstall'"
                    ]
                }
            ],
            "source": [
                "list(bace_dataset.test_dataset[1])[150]"
            ]
        },
        {
            "cell_type": "markdown",
            "id": "3dd99c5f-05d5-49c4-879b-6f9e9caeee84",
            "metadata": {},
            "source": [
                "### Predicted output and error margin"
            ]
        },
        {
            "cell_type": "code",
            "execution_count": null,
            "id": "e8962976-b4a9-4a8a-b9dc-48166bcdde16",
            "metadata": {},
            "outputs": [
                {
                    "ename": "",
                    "evalue": "",
                    "output_type": "error",
                    "traceback": [
                        "\u001b[1;31mRunning cells with 'Python 3.9.5 64-bit' requires ipykernel package.\n",
                        "\u001b[1;31mRun the following command to install 'ipykernel' into the Python environment. \n",
                        "\u001b[1;31mCommand: '/bin/python3.9 -m pip install ipykernel -U --user --force-reinstall'"
                    ]
                }
            ],
            "source": [
                "results_df[\"vis\"][150].render_ipynb()"
            ]
        },
        {
            "cell_type": "code",
            "execution_count": null,
            "id": "f9195f3e-2655-4678-9e82-8d7acbf28f0f",
            "metadata": {},
            "outputs": [
                {
                    "ename": "",
                    "evalue": "",
                    "output_type": "error",
                    "traceback": [
                        "\u001b[1;31mRunning cells with 'Python 3.9.5 64-bit' requires ipykernel package.\n",
                        "\u001b[1;31mRun the following command to install 'ipykernel' into the Python environment. \n",
                        "\u001b[1;31mCommand: '/bin/python3.9 -m pip install ipykernel -U --user --force-reinstall'"
                    ]
                }
            ],
            "source": []
        }
    ],
    "metadata": {
        "kernelspec": {
            "display_name": "Python 3.8.13 ('base')",
            "language": "python",
            "name": "python3"
        },
        "language_info": {
            "codemirror_mode": {
                "name": "ipython",
                "version": 3
            },
            "file_extension": ".py",
            "mimetype": "text/x-python",
            "name": "python",
            "nbconvert_exporter": "python",
            "pygments_lexer": "ipython3",
            "version": "3.8.13"
        },
        "vscode": {
            "interpreter": {
                "hash": "02e06ce31cd46c0c1b3d62172fa2abcc25c3f3cab9f1cb7937a5a96ff227b8ea"
            }
        }
    },
    "nbformat": 4,
    "nbformat_minor": 5
}
