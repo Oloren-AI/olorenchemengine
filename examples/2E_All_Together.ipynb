{
    "cells": [
        {
            "cell_type": "markdown",
            "id": "4ec9d780-20c4-4c69-8469-0d1010a41ef5",
            "metadata": {},
            "source": [
                "# Putting it all together\n",
                "\n",
                "We now demonstrate all of Oloren ChemEngine's uncertainty features by training a production-level model and error model on the BACE dataset from DeepChem datasets."
            ]
        },
        {
            "cell_type": "code",
            "execution_count": 1,
            "id": "c2213315-836e-426a-a6d3-f790c3d11eb6",
            "metadata": {},
            "outputs": [],
            "source": [
                "import olorenchemengine as oce\n",
                "import pandas as pd\n",
                "import numpy as np"
            ]
        },
        {
            "cell_type": "markdown",
            "id": "d3027244-b840-4997-a746-8a907b02bba6",
            "metadata": {},
            "source": [
                "## Creating the dataset\n",
                "\n",
                "We will train the model on 90% of the data and leave 10% for testing."
            ]
        },
        {
            "cell_type": "code",
            "execution_count": 2,
            "id": "14025c0a-2b03-443c-ae53-e99417f58b09",
            "metadata": {},
            "outputs": [],
            "source": [
                "data = pd.read_csv(oce.download_public_file(\"MoleculeNet/load_bace_regression.csv\"))\n",
                "bace_dataset = oce.BaseDataset(data=data.to_csv(), structure_col = \"mol\", property_col = \"pIC50\")\n",
                "splitter = oce.RandomSplit(split_proportions=[0.9,0,0.1])\n",
                "bace_dataset = splitter.transform(bace_dataset)\n",
                "oce.save(bace_dataset, \"bace_dataset.oce\")"
            ]
        },
        {
            "cell_type": "markdown",
            "id": "3f339386-5d72-4795-902d-e66d440372b1",
            "metadata": {},
            "source": [
                "## Training the production-level model\n",
                "\n",
                "Production-level models can be produced by running ```fit_cv```, which in addition to fitting the whole model, fits the error model via cross validation."
            ]
        },
        {
            "cell_type": "code",
            "execution_count": 3,
            "id": "c2f05fbc-cd21-40ce-b741-99a6a14e7ab1",
            "metadata": {},
            "outputs": [
                {
                    "ename": "KeyError",
                    "evalue": "\"None of [Index(['mol'], dtype='object')] are in the [columns]\"",
                    "output_type": "error",
                    "traceback": [
                        "\u001b[0;31m---------------------------------------------------------------------------\u001b[0m",
                        "\u001b[0;31mKeyError\u001b[0m                                  Traceback (most recent call last)",
                        "\u001b[1;32m/home/david/olorenchemengine/examples/2E_All_Together.ipynb Cell 6\u001b[0m in \u001b[0;36m<cell line: 4>\u001b[0;34m()\u001b[0m\n\u001b[1;32m      <a href='vscode-notebook-cell://ssh-remote%2Bapi.oloren.ai/home/david/olorenchemengine/examples/2E_All_Together.ipynb#W5sdnNjb2RlLXJlbW90ZQ%3D%3D?line=0'>1</a>\u001b[0m bace_dataset \u001b[39m=\u001b[39m oce\u001b[39m.\u001b[39mload(\u001b[39m\"\u001b[39m\u001b[39mbace_dataset.oce\u001b[39m\u001b[39m\"\u001b[39m)\n\u001b[1;32m      <a href='vscode-notebook-cell://ssh-remote%2Bapi.oloren.ai/home/david/olorenchemengine/examples/2E_All_Together.ipynb#W5sdnNjb2RlLXJlbW90ZQ%3D%3D?line=2'>3</a>\u001b[0m model \u001b[39m=\u001b[39m oce\u001b[39m.\u001b[39mZWK_XGBoostModel(oce\u001b[39m.\u001b[39mOlorenCheckpoint(\u001b[39m\"\u001b[39m\u001b[39mdefault\u001b[39m\u001b[39m\"\u001b[39m))\n\u001b[0;32m----> <a href='vscode-notebook-cell://ssh-remote%2Bapi.oloren.ai/home/david/olorenchemengine/examples/2E_All_Together.ipynb#W5sdnNjb2RlLXJlbW90ZQ%3D%3D?line=3'>4</a>\u001b[0m model\u001b[39m.\u001b[39mfit_cv(bace_dataset\u001b[39m.\u001b[39;49mtrain_dataset[\u001b[39m0\u001b[39m], bace_dataset\u001b[39m.\u001b[39mtrain_dataset[\u001b[39m1\u001b[39m], error_model \u001b[39m=\u001b[39m oce\u001b[39m.\u001b[39mSDCwRMSD1())\n\u001b[1;32m      <a href='vscode-notebook-cell://ssh-remote%2Bapi.oloren.ai/home/david/olorenchemengine/examples/2E_All_Together.ipynb#W5sdnNjb2RlLXJlbW90ZQ%3D%3D?line=4'>5</a>\u001b[0m oce\u001b[39m.\u001b[39msave(model, \u001b[39m\"\u001b[39m\u001b[39mbace_model.oce\u001b[39m\u001b[39m\"\u001b[39m)\n",
                        "File \u001b[0;32m~/olorenchemengine/src/olorenchemengine/internal.py:599\u001b[0m, in \u001b[0;36mBaseRemoteSymbol.__getattribute__\u001b[0;34m(self, key)\u001b[0m\n\u001b[1;32m    597\u001b[0m \u001b[39mdef\u001b[39;00m \u001b[39m__getattribute__\u001b[39m(\u001b[39mself\u001b[39m, key):\n\u001b[1;32m    598\u001b[0m     \u001b[39mif\u001b[39;00m _runtime\u001b[39m.\u001b[39mis_local \u001b[39mor\u001b[39;00m key \u001b[39m==\u001b[39m \u001b[39m\"\u001b[39m\u001b[39m_upload_remote\u001b[39m\u001b[39m\"\u001b[39m:\n\u001b[0;32m--> 599\u001b[0m         \u001b[39mreturn\u001b[39;00m \u001b[39mobject\u001b[39;49m\u001b[39m.\u001b[39;49m\u001b[39m__getattribute__\u001b[39;49m(\u001b[39mself\u001b[39;49m, key)\n\u001b[1;32m    600\u001b[0m     \u001b[39mif\u001b[39;00m \u001b[39m\"\u001b[39m\u001b[39mipython_canary_method_should_not_exist\u001b[39m\u001b[39m\"\u001b[39m \u001b[39min\u001b[39;00m key:\n\u001b[1;32m    601\u001b[0m         \u001b[39mreturn\u001b[39;00m {}\n",
                        "File \u001b[0;32m~/olorenchemengine/src/olorenchemengine/dataset.py:94\u001b[0m, in \u001b[0;36mBaseDataset.train_dataset\u001b[0;34m(self)\u001b[0m\n\u001b[1;32m     90\u001b[0m \u001b[39m# assert \"split\" in list(\u001b[39;00m\n\u001b[1;32m     91\u001b[0m \u001b[39m#     self.data.columns\u001b[39;00m\n\u001b[1;32m     92\u001b[0m \u001b[39m# ), f\"Dataset not split yet, please use a splitter or define the split column {list(self.data.columns)}\"\u001b[39;00m\n\u001b[1;32m     93\u001b[0m train \u001b[39m=\u001b[39m \u001b[39mself\u001b[39m\u001b[39m.\u001b[39mdata[\u001b[39mself\u001b[39m\u001b[39m.\u001b[39mdata[\u001b[39m\"\u001b[39m\u001b[39msplit\u001b[39m\u001b[39m\"\u001b[39m] \u001b[39m==\u001b[39m \u001b[39m\"\u001b[39m\u001b[39mtrain\u001b[39m\u001b[39m\"\u001b[39m]\n\u001b[0;32m---> 94\u001b[0m \u001b[39mreturn\u001b[39;00m train[\u001b[39mself\u001b[39;49m\u001b[39m.\u001b[39;49minput_cols], train[\u001b[39mself\u001b[39m\u001b[39m.\u001b[39mproperty_col]\n",
                        "File \u001b[0;32m~/miniconda3/lib/python3.8/site-packages/pandas/core/frame.py:3810\u001b[0m, in \u001b[0;36mDataFrame.__getitem__\u001b[0;34m(self, key)\u001b[0m\n\u001b[1;32m   3808\u001b[0m     \u001b[39mif\u001b[39;00m is_iterator(key):\n\u001b[1;32m   3809\u001b[0m         key \u001b[39m=\u001b[39m \u001b[39mlist\u001b[39m(key)\n\u001b[0;32m-> 3810\u001b[0m     indexer \u001b[39m=\u001b[39m \u001b[39mself\u001b[39;49m\u001b[39m.\u001b[39;49mcolumns\u001b[39m.\u001b[39;49m_get_indexer_strict(key, \u001b[39m\"\u001b[39;49m\u001b[39mcolumns\u001b[39;49m\u001b[39m\"\u001b[39;49m)[\u001b[39m1\u001b[39m]\n\u001b[1;32m   3812\u001b[0m \u001b[39m# take() does not accept boolean indexers\u001b[39;00m\n\u001b[1;32m   3813\u001b[0m \u001b[39mif\u001b[39;00m \u001b[39mgetattr\u001b[39m(indexer, \u001b[39m\"\u001b[39m\u001b[39mdtype\u001b[39m\u001b[39m\"\u001b[39m, \u001b[39mNone\u001b[39;00m) \u001b[39m==\u001b[39m \u001b[39mbool\u001b[39m:\n",
                        "File \u001b[0;32m~/miniconda3/lib/python3.8/site-packages/pandas/core/indexes/base.py:6111\u001b[0m, in \u001b[0;36mIndex._get_indexer_strict\u001b[0;34m(self, key, axis_name)\u001b[0m\n\u001b[1;32m   6108\u001b[0m \u001b[39melse\u001b[39;00m:\n\u001b[1;32m   6109\u001b[0m     keyarr, indexer, new_indexer \u001b[39m=\u001b[39m \u001b[39mself\u001b[39m\u001b[39m.\u001b[39m_reindex_non_unique(keyarr)\n\u001b[0;32m-> 6111\u001b[0m \u001b[39mself\u001b[39;49m\u001b[39m.\u001b[39;49m_raise_if_missing(keyarr, indexer, axis_name)\n\u001b[1;32m   6113\u001b[0m keyarr \u001b[39m=\u001b[39m \u001b[39mself\u001b[39m\u001b[39m.\u001b[39mtake(indexer)\n\u001b[1;32m   6114\u001b[0m \u001b[39mif\u001b[39;00m \u001b[39misinstance\u001b[39m(key, Index):\n\u001b[1;32m   6115\u001b[0m     \u001b[39m# GH 42790 - Preserve name from an Index\u001b[39;00m\n",
                        "File \u001b[0;32m~/miniconda3/lib/python3.8/site-packages/pandas/core/indexes/base.py:6171\u001b[0m, in \u001b[0;36mIndex._raise_if_missing\u001b[0;34m(self, key, indexer, axis_name)\u001b[0m\n\u001b[1;32m   6169\u001b[0m     \u001b[39mif\u001b[39;00m use_interval_msg:\n\u001b[1;32m   6170\u001b[0m         key \u001b[39m=\u001b[39m \u001b[39mlist\u001b[39m(key)\n\u001b[0;32m-> 6171\u001b[0m     \u001b[39mraise\u001b[39;00m \u001b[39mKeyError\u001b[39;00m(\u001b[39mf\u001b[39m\u001b[39m\"\u001b[39m\u001b[39mNone of [\u001b[39m\u001b[39m{\u001b[39;00mkey\u001b[39m}\u001b[39;00m\u001b[39m] are in the [\u001b[39m\u001b[39m{\u001b[39;00maxis_name\u001b[39m}\u001b[39;00m\u001b[39m]\u001b[39m\u001b[39m\"\u001b[39m)\n\u001b[1;32m   6173\u001b[0m not_found \u001b[39m=\u001b[39m \u001b[39mlist\u001b[39m(ensure_index(key)[missing_mask\u001b[39m.\u001b[39mnonzero()[\u001b[39m0\u001b[39m]]\u001b[39m.\u001b[39munique())\n\u001b[1;32m   6174\u001b[0m \u001b[39mraise\u001b[39;00m \u001b[39mKeyError\u001b[39;00m(\u001b[39mf\u001b[39m\u001b[39m\"\u001b[39m\u001b[39m{\u001b[39;00mnot_found\u001b[39m}\u001b[39;00m\u001b[39m not in index\u001b[39m\u001b[39m\"\u001b[39m)\n",
                        "\u001b[0;31mKeyError\u001b[0m: \"None of [Index(['mol'], dtype='object')] are in the [columns]\""
                    ]
                }
            ],
            "source": [
                "bace_dataset = oce.load(\"bace_dataset.oce\")\n",
                "\n",
                "model = oce.ZWK_XGBoostModel(oce.OlorenCheckpoint(\"default\"))\n",
                "model.fit_cv(bace_dataset.train_dataset[0], bace_dataset.train_dataset[1], error_model = oce.SDCwRMSD1())\n",
                "oce.save(model, \"bace_model.oce\")"
            ]
        },
        {
            "cell_type": "markdown",
            "id": "ecc391e6-6554-4dd7-8f45-30578cf0b8a0",
            "metadata": {},
            "source": [
                "## Visualizing results\n",
                "\n",
                "We visualize the probable output range for each test molecule (80% confidence interval) and the true output for each test molecule. For the ones plotted, each of the predicted values are within the error margin."
            ]
        },
        {
            "cell_type": "code",
            "execution_count": null,
            "id": "c761f53e-ba9a-40ab-a779-ba5be5a737c4",
            "metadata": {},
            "outputs": [
                {
                    "ename": "",
                    "evalue": "",
                    "output_type": "error",
                    "traceback": [
                        "\u001b[1;31mRunning cells with 'Python 3.9.5 64-bit' requires ipykernel package.\n",
                        "\u001b[1;31mRun the following command to install 'ipykernel' into the Python environment. \n",
                        "\u001b[1;31mCommand: '/bin/python3.9 -m pip install ipykernel -U --user --force-reinstall'"
                    ]
                }
            ],
            "source": [
                "model = oce.load(\"bace_model.oce\")\n",
                "bace_dataset = oce.load(\"bace_dataset.oce\")\n",
                "\n",
                "results_df = model.predict(bace_dataset.test_dataset[0], return_ci=True, return_vis=True)\n",
                "results_df"
            ]
        },
        {
            "cell_type": "markdown",
            "id": "a2a0fb4d-8857-4400-a5ca-c061932822dd",
            "metadata": {},
            "source": [
                "### Ground truth output"
            ]
        },
        {
            "cell_type": "code",
            "execution_count": null,
            "id": "d95d844f-fd9b-4dc4-a058-d39a86febdb2",
            "metadata": {},
            "outputs": [
                {
                    "ename": "",
                    "evalue": "",
                    "output_type": "error",
                    "traceback": [
                        "\u001b[1;31mRunning cells with 'Python 3.9.5 64-bit' requires ipykernel package.\n",
                        "\u001b[1;31mRun the following command to install 'ipykernel' into the Python environment. \n",
                        "\u001b[1;31mCommand: '/bin/python3.9 -m pip install ipykernel -U --user --force-reinstall'"
                    ]
                }
            ],
            "source": [
                "list(bace_dataset.test_dataset[1])[150]"
            ]
        },
        {
            "cell_type": "markdown",
            "id": "3dd99c5f-05d5-49c4-879b-6f9e9caeee84",
            "metadata": {},
            "source": [
                "### Predicted output and error margin"
            ]
        },
        {
            "cell_type": "code",
            "execution_count": null,
            "id": "e8962976-b4a9-4a8a-b9dc-48166bcdde16",
            "metadata": {},
            "outputs": [
                {
                    "ename": "",
                    "evalue": "",
                    "output_type": "error",
                    "traceback": [
                        "\u001b[1;31mRunning cells with 'Python 3.9.5 64-bit' requires ipykernel package.\n",
                        "\u001b[1;31mRun the following command to install 'ipykernel' into the Python environment. \n",
                        "\u001b[1;31mCommand: '/bin/python3.9 -m pip install ipykernel -U --user --force-reinstall'"
                    ]
                }
            ],
            "source": [
                "results_df[\"vis\"][150].render_ipynb()"
            ]
        },
        {
            "cell_type": "code",
            "execution_count": null,
            "id": "f9195f3e-2655-4678-9e82-8d7acbf28f0f",
            "metadata": {},
            "outputs": [
                {
                    "ename": "",
                    "evalue": "",
                    "output_type": "error",
                    "traceback": [
                        "\u001b[1;31mRunning cells with 'Python 3.9.5 64-bit' requires ipykernel package.\n",
                        "\u001b[1;31mRun the following command to install 'ipykernel' into the Python environment. \n",
                        "\u001b[1;31mCommand: '/bin/python3.9 -m pip install ipykernel -U --user --force-reinstall'"
                    ]
                }
            ],
            "source": []
        }
    ],
    "metadata": {
        "kernelspec": {
            "display_name": "Python 3.8.13 ('base')",
            "language": "python",
            "name": "python3"
        },
        "language_info": {
            "codemirror_mode": {
                "name": "ipython",
                "version": 3
            },
            "file_extension": ".py",
            "mimetype": "text/x-python",
            "name": "python",
            "nbconvert_exporter": "python",
            "pygments_lexer": "ipython3",
            "version": "3.8.13"
        },
        "vscode": {
            "interpreter": {
                "hash": "02e06ce31cd46c0c1b3d62172fa2abcc25c3f3cab9f1cb7937a5a96ff227b8ea"
            }
        }
    },
    "nbformat": 4,
    "nbformat_minor": 5
}
