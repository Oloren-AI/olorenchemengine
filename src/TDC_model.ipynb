{
 "cells": [
  {
   "cell_type": "code",
   "execution_count": null,
   "metadata": {},
   "outputs": [],
   "source": [
    "\n",
    "import olorenchemengine as oce\n",
    "from tqdm import tqdm\n",
    "from tdc.benchmark_group import admet_group\n",
    "import numpy as np"
   ]
  },
  {
   "cell_type": "code",
   "execution_count": null,
   "metadata": {},
   "outputs": [],
   "source": [
    "models = {\n",
    "    'BaseBoosting xXOn1QFI': \"{'BC_class_name': 'BaseBoosting', 'args': [[{'BC_class_name': 'RandomForestModel', 'args': [{'BC_class_name': 'DescriptastorusDescriptor', 'args': ['morgan3counts'], 'kwargs': {'log': True}}], 'kwargs': {'bootstrap': True, 'criterion': 'entropy', 'max_features': 'log2', 'n_estimators': 1000}}, {'BC_class_name': 'RandomForestModel', 'args': [{'BC_class_name': 'DescriptastorusDescriptor', 'args': ['morganchiral3counts'], 'kwargs': {'log': True}}], 'kwargs': {'bootstrap': True, 'criterion': 'entropy', 'max_features': 'log2', 'n_estimators': 1000}}, {'BC_class_name': 'RandomForestModel', 'args': [{'BC_class_name': 'DescriptastorusDescriptor', 'args': ['morganfeature3counts'], 'kwargs': {'log': True}}], 'kwargs': {'bootstrap': True, 'criterion': 'entropy', 'max_features': 'log2', 'n_estimators': 1000}}, {'BC_class_name': 'RandomForestModel', 'args': [{'BC_class_name': 'DescriptastorusDescriptor', 'args': ['rdkit2dnormalized'], 'kwargs': {'log': True}}], 'kwargs': {'bootstrap': True, 'criterion': 'entropy', 'max_features': 'log2', 'n_estimators': 1000}}, {'BC_class_name': 'RandomForestModel', 'args': [{'BC_class_name': 'OlorenCheckpoint', 'args': ['default'], 'kwargs': {'log': True, 'num_tasks': 2048}}], 'kwargs': {'bootstrap': True, 'criterion': 'entropy', 'max_features': 'log2', 'n_estimators': 1000}}]], 'kwargs': {'log': True, 'n': 1}}\",\n",
    "    'BaseBoosting ADkCCrwJ': '{\"BC_class_name\": \"BaseBoosting\", \"args\": [[{\"BC_class_name\": \"RandomForestModel\", \"args\": [{\"BC_class_name\": \"DescriptastorusDescriptor\", \"args\": [\"rdkit2dnormalized\"], \"kwargs\": {}}], \"kwargs\": {\"n_estimators\": 1000, \"max_features\": \"log2\", \"max_depth\": null, \"criterion\": \"entropy\", \"class_weight\": null, \"bootstrap\": true}}, {\"BC_class_name\": \"RandomForestModel\", \"args\": [{\"BC_class_name\": \"DescriptastorusDescriptor\", \"args\": [\"morgan3counts\"], \"kwargs\": {}}], \"kwargs\": {\"n_estimators\": 1000, \"max_features\": \"log2\", \"max_depth\": null, \"criterion\": \"entropy\", \"class_weight\": null, \"bootstrap\": true}}, {\"BC_class_name\": \"RandomForestModel\", \"args\": [{\"BC_class_name\": \"OlorenCheckpoint\", \"args\": [\"default\"], \"kwargs\": {\"num_tasks\": 2048}}], \"kwargs\": {\"n_estimators\": 1000, \"max_features\": \"log2\", \"max_depth\": null, \"criterion\": \"entropy\", \"class_weight\": null, \"bootstrap\": true}}]], \"kwargs\": {\"n\": 1, \"log\": true}}',\n",
    "    'BaseBoosting 1zpI0dIb': \"{'BC_class_name': 'BaseBoosting', 'args': [[{'BC_class_name': 'RandomForestModel', 'args': [{'BC_class_name': 'DescriptastorusDescriptor', 'args': ['morgan3counts'], 'kwargs': {'log': True}}], 'kwargs': {'bootstrap': True, 'criterion': 'entropy', 'max_features': 'log2', 'n_estimators': 2000}}, {'BC_class_name': 'RandomForestModel', 'args': [{'BC_class_name': 'DescriptastorusDescriptor', 'args': ['morganchiral3counts'], 'kwargs': {'log': True}}], 'kwargs': {'bootstrap': True, 'criterion': 'entropy', 'max_features': 'log2', 'n_estimators': 2000}}, {'BC_class_name': 'RandomForestModel', 'args': [{'BC_class_name': 'DescriptastorusDescriptor', 'args': ['morganfeature3counts'], 'kwargs': {'log': True}}], 'kwargs': {'bootstrap': True, 'criterion': 'entropy', 'max_features': 'log2', 'n_estimators': 2000}}, {'BC_class_name': 'RandomForestModel', 'args': [{'BC_class_name': 'DescriptastorusDescriptor', 'args': ['rdkit2dnormalized'], 'kwargs': {'log': True}}], 'kwargs': {'bootstrap': True, 'criterion': 'entropy', 'max_features': 'log2', 'n_estimators': 2000}}, {'BC_class_name': 'RandomForestModel', 'args': [{'BC_class_name': 'OlorenCheckpoint', 'args': ['default'], 'kwargs': {'log': True, 'num_tasks': 2048}}], 'kwargs': {'bootstrap': True, 'criterion': 'entropy', 'max_features': 'log2', 'n_estimators': 2000}}]], 'kwargs': {'log': True, 'n': 1}}\",\n",
    "    'BaseBoosting OQRAYLPP': \"{'BC_class_name': 'BaseBoosting', 'args': [[{'BC_class_name': 'SPGNN', 'kwargs': {'JK': 'last', 'batch_size': 256, 'decay': 0, 'dropout_ratio': 0.5, 'emb_dim': 300, 'epochs': 80, 'gnn_type': 'gin', 'graph_pooling': 'mean', 'lr': 0.001, 'lr_scale': 1, 'model_type': 'supervised_infomax', 'num_layer': 5}}, {'BC_class_name': 'RandomForestModel', 'args': [{'BC_class_name': 'OlorenCheckpoint', 'args': ['default'], 'kwargs': {'num_tasks': 2048}}], 'kwargs': {'bootstrap': True, 'criterion': 'entropy', 'max_features': 'log2', 'n_estimators': 1000}}, {'BC_class_name': 'BaseTorchGeometricModel', 'args': [{'BC_class_name': 'GINModel', 'kwargs': {'batch_size': 100, 'conv_radius': 3, 'conv_type': 'gin+', 'dataset': 'molpcba', 'dropout': 0.5, 'hidden': 100, 'layers': 3, 'lr': 0.001, 'optim': 'adam', 'task_type': 'classification', 'virtual_node': False}}], 'kwargs': {'auto_lr_find': True, 'batch_size': 16, 'epochs': 5, 'log': True, 'lr': 0.0001, 'pos_weight': 'balanced', 'preinitialized': False, 'representation': {'BC_class_name': 'TorchGeometricGraph', 'kwargs': {'atom_featurizer': {'BC_class_name': 'OGBAtomFeaturizer'}, 'bond_featurizer': {'BC_class_name': 'OGBBondFeaturizer'}}}}}]], 'kwargs': {'log': True, 'n': 1}}\",\n",
    "    'BaseBoosting ktIIq91G': \"{'BC_class_name': 'BaseBoosting', 'args': [[{'BC_class_name': 'RandomForestModel', 'args': [{'BC_class_name': 'DescriptastorusDescriptor', 'args': ['morgan3counts'], 'kwargs': {'log': True}}], 'kwargs': {'bootstrap': True, 'class_weight': 'balanced', 'criterion': 'entropy', 'max_features': 'log2', 'n_estimators': 2000}}, {'BC_class_name': 'RandomForestModel', 'args': [{'BC_class_name': 'DescriptastorusDescriptor', 'args': ['morganfeature3counts'], 'kwargs': {'log': True}}], 'kwargs': {'bootstrap': True, 'class_weight': 'balanced', 'criterion': 'entropy', 'max_features': 'log2', 'n_estimators': 2000}}, {'BC_class_name': 'RandomForestModel', 'args': [{'BC_class_name': 'DescriptastorusDescriptor', 'args': ['morganchiral3counts'], 'kwargs': {'log': True}}], 'kwargs': {'bootstrap': True, 'class_weight': 'balanced', 'criterion': 'entropy', 'max_features': 'log2', 'n_estimators': 2000}}, {'BC_class_name': 'RandomForestModel', 'args': [{'BC_class_name': 'DescriptastorusDescriptor', 'args': ['rdkit2dnormalized'], 'kwargs': {'log': True}}], 'kwargs': {'bootstrap': True, 'class_weight': 'balanced', 'criterion': 'entropy', 'max_features': 'log2', 'n_estimators': 2000}}, {'BC_class_name': 'RandomForestModel', 'args': [{'BC_class_name': 'MordredDescriptor', 'kwargs': {'descriptor_set': 'all', 'log': True, 'normalize': True}}], 'kwargs': {'bootstrap': True, 'class_weight': 'balanced', 'criterion': 'entropy', 'max_features': 'log2', 'n_estimators': 2000}}, {'BC_class_name': 'RandomForestModel', 'args': [{'BC_class_name': 'OlorenCheckpoint', 'args': ['default'], 'kwargs': {'log': True, 'num_tasks': 2048}}], 'kwargs': {'bootstrap': True, 'class_weight': 'balanced', 'criterion': 'entropy', 'max_features': 'log2', 'n_estimators': 2000}}]], 'kwargs': {'log': True, 'n': 1}}\",\n",
    "    'RFStacker jTNhN7U7': \"{'BC_class_name': 'RFStacker', 'args': [[{'BC_class_name': 'RandomForestModel', 'args': [{'BC_class_name': 'DescriptastorusDescriptor', 'args': ['rdkit2dnormalized']}], 'kwargs': {'bootstrap': True, 'criterion': 'entropy', 'max_features': 'log2', 'n_estimators': 2000}}, {'BC_class_name': 'RandomForestModel', 'args': [{'BC_class_name': 'OlorenCheckpoint', 'args': ['default'], 'kwargs': {'num_tasks': 2048}}], 'kwargs': {'bootstrap': True, 'criterion': 'entropy', 'max_features': 'log2', 'n_estimators': 1000}}, {'BC_class_name': 'RandomForestModel', 'args': [{'BC_class_name': 'LipinskiDescriptor'}], 'kwargs': {'bootstrap': True, 'criterion': 'entropy', 'max_features': 'log2', 'n_estimators': 1000}}, {'BC_class_name': 'RandomForestModel', 'args': [{'BC_class_name': 'DescriptastorusDescriptor', 'args': ['morganfeature3counts']}], 'kwargs': {'bootstrap': True, 'criterion': 'entropy', 'max_features': 'log2', 'n_estimators': 1000}}, {'BC_class_name': 'SPGNN', 'kwargs': {'JK': 'last', 'batch_size': 32, 'decay': 0, 'dropout_ratio': 0.5, 'emb_dim': 300, 'epochs': 100, 'gnn_type': 'gin', 'graph_pooling': 'mean', 'lr': 0.001, 'lr_scale': 1, 'model_type': 'supervised_infomax', 'num_layer': 5}}, {'BC_class_name': 'LipinskiDescriptor'}]], 'kwargs': {'log': True, 'n': 1, 'n_estimators': 100}}\",\n",
    "    'BaseBoosting QjtOKx4i': \"{'BC_class_name': 'BaseBoosting', 'args': [[{'BC_class_name': 'RandomForestModel', 'args': [{'BC_class_name': 'DescriptastorusDescriptor', 'args': ['rdkit2dnormalized'], 'kwargs': {'log': True, 'scale': None}}], 'kwargs': {'n_estimators': 2000, 'max_features': 'auto', 'max_depth': 7, 'criterion': 'entropy', 'class_weight': None, 'bootstrap': True}}, {'BC_class_name': 'ChemPropModel', 'args': [], 'kwargs': {'epochs': 200, 'batch_size': 16, 'dropout_rate': 0.2, 'lr': 0.001, 'hidden_size': 300, 'depth': 3}}]], 'kwargs': {'n': 1, 'oof': False, 'nfolds': 5, 'log': True}}\",\n",
    "    'RandomForestModel yjJ-ak-b': \"{'BC_class_name': 'RandomForestModel', 'args': [{'BC_class_name': 'DescriptastorusDescriptor', 'args': ['morganfeature3counts'], 'kwargs': {'log': True, 'scale': None}}], 'kwargs': {'n_estimators': 1000, 'max_features': 'log2', 'max_depth': None, 'criterion': 'entropy', 'class_weight': None, 'bootstrap': True}}\",\n",
    "    'RandomForestModel gfFM673V': \"{'BC_class_name': 'RandomForestModel', 'args': [{'BC_class_name': 'OlorenCheckpoint', 'args': ['default'], 'kwargs': {'num_tasks': 2048, 'log': True}}], 'kwargs': {'n_estimators': 3000, 'max_features': 'log2', 'max_depth': None, 'criterion': 'entropy', 'class_weight': None, 'bootstrap': True}}\",\n",
    "}"
   ]
  },
  {
   "cell_type": "code",
   "execution_count": null,
   "metadata": {},
   "outputs": [],
   "source": [
    "model_dict = {\n",
    "    'HIA_Hou': models[\"RFStacker jTNhN7U7\"],\n",
    "    'Pgp_Broccatelli': models[\"BaseBoosting xXOn1QFI\"],\n",
    "    'Bioavailability_Ma': models[\"BaseBoosting 1zpI0dIb\"],\n",
    "    'BBB_Martins': models[\"BaseBoosting ADkCCrwJ\"],\n",
    "    'hERG': models[\"RandomForestModel yjJ-ak-b\"],\n",
    "    'AMES': models[\"BaseBoosting 1zpI0dIb\"],\n",
    "    'DILI': models[\"BaseBoosting ADkCCrwJ\"],\n",
    "    'CYP3A4_Substrate_CarbonMangels': models[\"BaseBoosting ADkCCrwJ\"],\n",
    "    'LD50_Zhu': models[\"BaseBoosting ktIIq91G\"],\n",
    "    'Caco2_Wang': models[\"BaseBoosting QjtOKx4i\"],\n",
    "    'PPBR_AZ': models[\"BaseBoosting ktIIq91G\"],\n",
    "    'CYP2C9_Veith': models[\"BaseBoosting 1zpI0dIb\"],\n",
    "    'CYP2D6_Veith': models[\"BaseBoosting ktIIq91G\"],\n",
    "    'CYP3A4_Veith': models[\"BaseBoosting ktIIq91G\"],\n",
    "    'CYP2C9_Substrate_CarbonMangels': models[\"RandomForestModel gfFM673V\"],\n",
    "    'CYP2D6_Substrate_CarbonMangels': models[\"BaseBoosting OQRAYLPP\"],\n",
    "    'Half_Life_Obach': models[\"BaseBoosting ktIIq91G\"],\n",
    "    'Clearance_Hepatocyte_AZ': models[\"BaseBoosting xXOn1QFI\"],\n",
    "    'Clearance_Microsome_AZ': models[\"RFStacker jTNhN7U7\"],\n",
    "}"
   ]
  },
  {
   "cell_type": "code",
   "execution_count": null,
   "metadata": {},
   "outputs": [],
   "source": [
    "def model_from_dict(s):\n",
    "    s = s.replace(\"'\", \"\\\"\").replace(\"True\", \"true\").replace(\"False\", \"false\").replace(\"None\", \"null\")\n",
    "    model = oce.create_BC(s)\n",
    "    return model"
   ]
  },
  {
   "cell_type": "code",
   "execution_count": 51,
   "metadata": {},
   "outputs": [],
   "source": [
    "#EDIT THIS CELL\n",
    "#Specify 'ALL' or the task name enumerated in the keys of model_dict.\n",
    "TASK_NAME = 'CYP2D6_Veith'"
   ]
  },
  {
   "cell_type": "code",
   "execution_count": 52,
   "metadata": {},
   "outputs": [
    {
     "name": "stderr",
     "output_type": "stream",
     "text": [
      "Found local copy...\n",
      "  0%|          | 0/5 [00:00<?, ?it/s]Found local copy...\n",
      "  0%|          | 0/5 [05:49<?, ?it/s]\n"
     ]
    },
    {
     "ename": "KeyboardInterrupt",
     "evalue": "",
     "output_type": "error",
     "traceback": [
      "\u001b[0;31m---------------------------------------------------------------------------\u001b[0m",
      "\u001b[0;31mKeyboardInterrupt\u001b[0m                         Traceback (most recent call last)",
      "\u001b[1;32m/Users/kamerongano/Documents/GitHub/olorenchemengine/src/TDC_model.ipynb Cell 6\u001b[0m in \u001b[0;36m<cell line: 1>\u001b[0;34m()\u001b[0m\n\u001b[1;32m     <a href='vscode-notebook-cell:/Users/kamerongano/Documents/GitHub/olorenchemengine/src/TDC_model.ipynb#W5sZmlsZQ%3D%3D?line=29'>30</a>\u001b[0m train, test \u001b[39m=\u001b[39m benchmark[\u001b[39m'\u001b[39m\u001b[39mtrain_val\u001b[39m\u001b[39m'\u001b[39m], benchmark[\u001b[39m'\u001b[39m\u001b[39mtest\u001b[39m\u001b[39m'\u001b[39m]\n\u001b[1;32m     <a href='vscode-notebook-cell:/Users/kamerongano/Documents/GitHub/olorenchemengine/src/TDC_model.ipynb#W5sZmlsZQ%3D%3D?line=31'>32</a>\u001b[0m model \u001b[39m=\u001b[39m model_from_dict(model_dict[TASK_NAME])\n\u001b[0;32m---> <a href='vscode-notebook-cell:/Users/kamerongano/Documents/GitHub/olorenchemengine/src/TDC_model.ipynb#W5sZmlsZQ%3D%3D?line=32'>33</a>\u001b[0m model\u001b[39m.\u001b[39;49mfit(train[\u001b[39m'\u001b[39;49m\u001b[39mDrug\u001b[39;49m\u001b[39m'\u001b[39;49m], train[\u001b[39m'\u001b[39;49m\u001b[39mY\u001b[39;49m\u001b[39m'\u001b[39;49m])\n\u001b[1;32m     <a href='vscode-notebook-cell:/Users/kamerongano/Documents/GitHub/olorenchemengine/src/TDC_model.ipynb#W5sZmlsZQ%3D%3D?line=33'>34</a>\u001b[0m y_pred_test \u001b[39m=\u001b[39m model\u001b[39m.\u001b[39mpredict(test[\u001b[39m'\u001b[39m\u001b[39mDrug\u001b[39m\u001b[39m'\u001b[39m])\n\u001b[1;32m     <a href='vscode-notebook-cell:/Users/kamerongano/Documents/GitHub/olorenchemengine/src/TDC_model.ipynb#W5sZmlsZQ%3D%3D?line=35'>36</a>\u001b[0m predictions[name] \u001b[39m=\u001b[39m y_pred_test\n",
      "File \u001b[0;32m~/Documents/GitHub/olorenchemengine/src/olorenchemengine/base_class.py:466\u001b[0m, in \u001b[0;36mBaseModel.fit\u001b[0;34m(self, X_train, y_train, valid, error_model)\u001b[0m\n\u001b[1;32m    463\u001b[0m \u001b[39mif\u001b[39;00m \u001b[39mnot\u001b[39;00m valid \u001b[39mis\u001b[39;00m \u001b[39mNone\u001b[39;00m:\n\u001b[1;32m    464\u001b[0m     X_valid \u001b[39m=\u001b[39m \u001b[39mself\u001b[39m\u001b[39m.\u001b[39mpreprocess(X_valid, y_valid, fit\u001b[39m=\u001b[39m\u001b[39mFalse\u001b[39;00m)\n\u001b[0;32m--> 466\u001b[0m \u001b[39mself\u001b[39;49m\u001b[39m.\u001b[39;49m_fit(X_train, y_train)\n\u001b[1;32m    468\u001b[0m \u001b[39m# Calibrate model\u001b[39;00m\n\u001b[1;32m    469\u001b[0m \u001b[39mif\u001b[39;00m \u001b[39mnot\u001b[39;00m valid \u001b[39mis\u001b[39;00m \u001b[39mNone\u001b[39;00m \u001b[39mand\u001b[39;00m \u001b[39mself\u001b[39m\u001b[39m.\u001b[39msetting \u001b[39m==\u001b[39m \u001b[39m\"\u001b[39m\u001b[39mclassification\u001b[39m\u001b[39m\"\u001b[39m:\n",
      "File \u001b[0;32m~/Documents/GitHub/olorenchemengine/src/olorenchemengine/ensemble.py:533\u001b[0m, in \u001b[0;36mBaseBoosting._fit\u001b[0;34m(self, X_train, y_train)\u001b[0m\n\u001b[1;32m    531\u001b[0m     model\u001b[39m.\u001b[39mfit(X_train, y_train)\n\u001b[1;32m    532\u001b[0m \u001b[39melse\u001b[39;00m:\n\u001b[0;32m--> 533\u001b[0m     model\u001b[39m.\u001b[39;49mfit(X_train, y_train)\n\u001b[1;32m    534\u001b[0m     y_pred \u001b[39m=\u001b[39m np\u001b[39m.\u001b[39marray(model\u001b[39m.\u001b[39mpredict(X_train))\u001b[39m.\u001b[39mflatten()\n\u001b[1;32m    535\u001b[0m y_train \u001b[39m=\u001b[39m y_train \u001b[39m-\u001b[39m y_pred\n",
      "File \u001b[0;32m~/Documents/GitHub/olorenchemengine/src/olorenchemengine/base_class.py:462\u001b[0m, in \u001b[0;36mBaseModel.fit\u001b[0;34m(self, X_train, y_train, valid, error_model)\u001b[0m\n\u001b[1;32m    459\u001b[0m     sys\u001b[39m.\u001b[39mexit(\u001b[39m1\u001b[39m)\n\u001b[1;32m    461\u001b[0m \u001b[39m# Train model\u001b[39;00m\n\u001b[0;32m--> 462\u001b[0m X_train \u001b[39m=\u001b[39m \u001b[39mself\u001b[39;49m\u001b[39m.\u001b[39;49mpreprocess(X_train, y_train, fit\u001b[39m=\u001b[39;49m\u001b[39mTrue\u001b[39;49;00m)\n\u001b[1;32m    463\u001b[0m \u001b[39mif\u001b[39;00m \u001b[39mnot\u001b[39;00m valid \u001b[39mis\u001b[39;00m \u001b[39mNone\u001b[39;00m:\n\u001b[1;32m    464\u001b[0m     X_valid \u001b[39m=\u001b[39m \u001b[39mself\u001b[39m\u001b[39m.\u001b[39mpreprocess(X_valid, y_valid, fit\u001b[39m=\u001b[39m\u001b[39mFalse\u001b[39;00m)\n",
      "File \u001b[0;32m~/Documents/GitHub/olorenchemengine/src/olorenchemengine/base_class.py:985\u001b[0m, in \u001b[0;36mBaseSKLearnModel.preprocess\u001b[0;34m(self, X, y, fit)\u001b[0m\n\u001b[1;32m    983\u001b[0m     \u001b[39mreturn\u001b[39;00m X\n\u001b[1;32m    984\u001b[0m \u001b[39melse\u001b[39;00m:\n\u001b[0;32m--> 985\u001b[0m     \u001b[39mreturn\u001b[39;00m \u001b[39mself\u001b[39;49m\u001b[39m.\u001b[39;49mrepresentation\u001b[39m.\u001b[39;49mconvert(X, fit\u001b[39m=\u001b[39;49mfit)\n",
      "File \u001b[0;32m~/Documents/GitHub/olorenchemengine/src/olorenchemengine/representations.py:1265\u001b[0m, in \u001b[0;36mMordredDescriptor.convert\u001b[0;34m(self, Xs, ys, **kwargs)\u001b[0m\n\u001b[1;32m   1263\u001b[0m smiles \u001b[39m=\u001b[39m SMILESRepresentation()\u001b[39m.\u001b[39mconvert(Xs, ys\u001b[39m=\u001b[39mys)\n\u001b[1;32m   1264\u001b[0m mols \u001b[39m=\u001b[39m [Chem\u001b[39m.\u001b[39mMolFromSmiles(smi) \u001b[39mfor\u001b[39;00m smi \u001b[39min\u001b[39;00m smiles]\n\u001b[0;32m-> 1265\u001b[0m feats \u001b[39m=\u001b[39m pd\u001b[39m.\u001b[39mDataFrame([\u001b[39mself\u001b[39m\u001b[39m.\u001b[39mcalc(mol)\u001b[39m.\u001b[39masdict() \u001b[39mfor\u001b[39;00m mol \u001b[39min\u001b[39;00m mols])\n\u001b[1;32m   1266\u001b[0m \u001b[39mfor\u001b[39;00m col \u001b[39min\u001b[39;00m feats\u001b[39m.\u001b[39mcolumns:\n\u001b[1;32m   1267\u001b[0m     feats[col] \u001b[39m=\u001b[39m pd\u001b[39m.\u001b[39mto_numeric(feats[col], errors\u001b[39m=\u001b[39m\u001b[39m\"\u001b[39m\u001b[39mcoerce\u001b[39m\u001b[39m\"\u001b[39m)\u001b[39m.\u001b[39mfillna(\u001b[39m0\u001b[39m)\n",
      "File \u001b[0;32m~/Documents/GitHub/olorenchemengine/src/olorenchemengine/representations.py:1265\u001b[0m, in \u001b[0;36m<listcomp>\u001b[0;34m(.0)\u001b[0m\n\u001b[1;32m   1263\u001b[0m smiles \u001b[39m=\u001b[39m SMILESRepresentation()\u001b[39m.\u001b[39mconvert(Xs, ys\u001b[39m=\u001b[39mys)\n\u001b[1;32m   1264\u001b[0m mols \u001b[39m=\u001b[39m [Chem\u001b[39m.\u001b[39mMolFromSmiles(smi) \u001b[39mfor\u001b[39;00m smi \u001b[39min\u001b[39;00m smiles]\n\u001b[0;32m-> 1265\u001b[0m feats \u001b[39m=\u001b[39m pd\u001b[39m.\u001b[39mDataFrame([\u001b[39mself\u001b[39;49m\u001b[39m.\u001b[39;49mcalc(mol)\u001b[39m.\u001b[39masdict() \u001b[39mfor\u001b[39;00m mol \u001b[39min\u001b[39;00m mols])\n\u001b[1;32m   1266\u001b[0m \u001b[39mfor\u001b[39;00m col \u001b[39min\u001b[39;00m feats\u001b[39m.\u001b[39mcolumns:\n\u001b[1;32m   1267\u001b[0m     feats[col] \u001b[39m=\u001b[39m pd\u001b[39m.\u001b[39mto_numeric(feats[col], errors\u001b[39m=\u001b[39m\u001b[39m\"\u001b[39m\u001b[39mcoerce\u001b[39m\u001b[39m\"\u001b[39m)\u001b[39m.\u001b[39mfillna(\u001b[39m0\u001b[39m)\n",
      "File \u001b[0;32m~/opt/miniconda3/envs/oce2/lib/python3.8/site-packages/mordred/_base/calculator.py:288\u001b[0m, in \u001b[0;36mCalculator.__call__\u001b[0;34m(self, mol, id)\u001b[0m\n\u001b[1;32m    276\u001b[0m \u001b[39mdef\u001b[39;00m \u001b[39m__call__\u001b[39m(\u001b[39mself\u001b[39m, mol, \u001b[39mid\u001b[39m\u001b[39m=\u001b[39m\u001b[39m-\u001b[39m\u001b[39m1\u001b[39m):\n\u001b[1;32m    277\u001b[0m     \u001b[39mr\u001b[39m\u001b[39m\"\"\"Calculate descriptors.\u001b[39;00m\n\u001b[1;32m    278\u001b[0m \n\u001b[1;32m    279\u001b[0m \u001b[39m    :type mol: rdkit.Chem.Mol\u001b[39;00m\n\u001b[0;32m   (...)\u001b[0m\n\u001b[1;32m    286\u001b[0m \u001b[39m    :returns: iterator of descriptor and value\u001b[39;00m\n\u001b[1;32m    287\u001b[0m \u001b[39m    \"\"\"\u001b[39;00m\n\u001b[0;32m--> 288\u001b[0m     \u001b[39mreturn\u001b[39;00m \u001b[39mself\u001b[39;49m\u001b[39m.\u001b[39;49m_wrap_result(\n\u001b[1;32m    289\u001b[0m         mol, \u001b[39mself\u001b[39;49m\u001b[39m.\u001b[39;49m_calculate(Context\u001b[39m.\u001b[39;49mfrom_calculator(\u001b[39mself\u001b[39;49m, mol, \u001b[39mid\u001b[39;49m))\n\u001b[1;32m    290\u001b[0m     )\n",
      "File \u001b[0;32m~/opt/miniconda3/envs/oce2/lib/python3.8/site-packages/mordred/_base/calculator.py:293\u001b[0m, in \u001b[0;36mCalculator._wrap_result\u001b[0;34m(self, mol, r)\u001b[0m\n\u001b[1;32m    292\u001b[0m \u001b[39mdef\u001b[39;00m \u001b[39m_wrap_result\u001b[39m(\u001b[39mself\u001b[39m, mol, r):\n\u001b[0;32m--> 293\u001b[0m     \u001b[39mreturn\u001b[39;00m Result(mol, r, \u001b[39mself\u001b[39;49m\u001b[39m.\u001b[39;49m_descriptors)\n",
      "File \u001b[0;32m~/opt/miniconda3/envs/oce2/lib/python3.8/site-packages/mordred/_base/result.py:15\u001b[0m, in \u001b[0;36mResult.__init__\u001b[0;34m(self, mol, r, d)\u001b[0m\n\u001b[1;32m     13\u001b[0m \u001b[39mdef\u001b[39;00m \u001b[39m__init__\u001b[39m(\u001b[39mself\u001b[39m, mol, r, d):\n\u001b[1;32m     14\u001b[0m     \u001b[39mself\u001b[39m\u001b[39m.\u001b[39mmol \u001b[39m=\u001b[39m mol\n\u001b[0;32m---> 15\u001b[0m     \u001b[39mself\u001b[39m\u001b[39m.\u001b[39m_values \u001b[39m=\u001b[39m \u001b[39mlist\u001b[39;49m(r)\n\u001b[1;32m     16\u001b[0m     \u001b[39mself\u001b[39m\u001b[39m.\u001b[39m_descriptors \u001b[39m=\u001b[39m \u001b[39mlist\u001b[39m(d)\n\u001b[1;32m     17\u001b[0m     \u001b[39mself\u001b[39m\u001b[39m.\u001b[39m_name_to_value \u001b[39m=\u001b[39m \u001b[39mNone\u001b[39;00m\n",
      "File \u001b[0;32m~/opt/miniconda3/envs/oce2/lib/python3.8/site-packages/mordred/_base/calculator.py:273\u001b[0m, in \u001b[0;36mCalculator._calculate\u001b[0;34m(self, cxt)\u001b[0m\n\u001b[1;32m    271\u001b[0m \u001b[39mself\u001b[39m\u001b[39m.\u001b[39m_cache \u001b[39m=\u001b[39m {}\n\u001b[1;32m    272\u001b[0m \u001b[39mfor\u001b[39;00m desc \u001b[39min\u001b[39;00m \u001b[39mself\u001b[39m\u001b[39m.\u001b[39mdescriptors:\n\u001b[0;32m--> 273\u001b[0m     _, r \u001b[39m=\u001b[39m \u001b[39mself\u001b[39;49m\u001b[39m.\u001b[39;49m_calculate_one(cxt, desc, \u001b[39mTrue\u001b[39;49;00m)\n\u001b[1;32m    274\u001b[0m     \u001b[39myield\u001b[39;00m r\n",
      "File \u001b[0;32m~/opt/miniconda3/envs/oce2/lib/python3.8/site-packages/mordred/_base/calculator.py:239\u001b[0m, in \u001b[0;36mCalculator._calculate_one\u001b[0;34m(self, cxt, desc, reset)\u001b[0m\n\u001b[1;32m    237\u001b[0m     args[name] \u001b[39m=\u001b[39m \u001b[39mNone\u001b[39;00m\n\u001b[1;32m    238\u001b[0m \u001b[39melse\u001b[39;00m:\n\u001b[0;32m--> 239\u001b[0m     ok, r \u001b[39m=\u001b[39m \u001b[39mself\u001b[39;49m\u001b[39m.\u001b[39;49m_calculate_one(cxt, dep, \u001b[39mFalse\u001b[39;49;00m)\n\u001b[1;32m    240\u001b[0m     \u001b[39mif\u001b[39;00m ok:\n\u001b[1;32m    241\u001b[0m         args[name] \u001b[39m=\u001b[39m r\n",
      "File \u001b[0;32m~/opt/miniconda3/envs/oce2/lib/python3.8/site-packages/mordred/_base/calculator.py:247\u001b[0m, in \u001b[0;36mCalculator._calculate_one\u001b[0;34m(self, cxt, desc, reset)\u001b[0m\n\u001b[1;32m    245\u001b[0m ok \u001b[39m=\u001b[39m \u001b[39mFalse\u001b[39;00m\n\u001b[1;32m    246\u001b[0m \u001b[39mtry\u001b[39;00m:\n\u001b[0;32m--> 247\u001b[0m     r \u001b[39m=\u001b[39m desc\u001b[39m.\u001b[39;49mcalculate(\u001b[39m*\u001b[39;49m\u001b[39m*\u001b[39;49margs)\n\u001b[1;32m    248\u001b[0m     \u001b[39mif\u001b[39;00m \u001b[39mself\u001b[39m\u001b[39m.\u001b[39m_debug:\n\u001b[1;32m    249\u001b[0m         \u001b[39mself\u001b[39m\u001b[39m.\u001b[39m_check_rtype(desc, r)\n",
      "File \u001b[0;32m~/opt/miniconda3/envs/oce2/lib/python3.8/site-packages/mordred/PathCount.py:74\u001b[0m, in \u001b[0;36mPathCountCache.calculate\u001b[0;34m(self)\u001b[0m\n\u001b[1;32m     71\u001b[0m before \u001b[39m=\u001b[39m \u001b[39mNone\u001b[39;00m\n\u001b[1;32m     72\u001b[0m w \u001b[39m=\u001b[39m \u001b[39m1\u001b[39m\n\u001b[0;32m---> 74\u001b[0m \u001b[39mfor\u001b[39;00m i \u001b[39min\u001b[39;00m \u001b[39mself\u001b[39;49m\u001b[39m.\u001b[39;49m_bond_ids_to_atom_ids(path):\n\u001b[1;32m     75\u001b[0m     \u001b[39mif\u001b[39;00m i \u001b[39min\u001b[39;00m aids:\n\u001b[1;32m     76\u001b[0m         \u001b[39mbreak\u001b[39;00m\n",
      "File \u001b[0;32m~/opt/miniconda3/envs/oce2/lib/python3.8/site-packages/mordred/PathCount.py:50\u001b[0m, in \u001b[0;36mPathCountCache._bond_ids_to_atom_ids\u001b[0;34m(self, p)\u001b[0m\n\u001b[1;32m     47\u001b[0m     path \u001b[39m=\u001b[39m [a0f, a0t]\n\u001b[1;32m     48\u001b[0m     current \u001b[39m=\u001b[39m a1f \u001b[39mif\u001b[39;00m a0t \u001b[39m==\u001b[39m a1t \u001b[39melse\u001b[39;00m a1t\n\u001b[0;32m---> 50\u001b[0m \u001b[39mfor\u001b[39;00m i \u001b[39min\u001b[39;00m it:\n\u001b[1;32m     51\u001b[0m     anf, ant \u001b[39m=\u001b[39m \u001b[39mself\u001b[39m\u001b[39m.\u001b[39m_bonds[i]\n\u001b[1;32m     53\u001b[0m     path\u001b[39m.\u001b[39mappend(current)\n",
      "\u001b[0;31mKeyboardInterrupt\u001b[0m: "
     ]
    }
   ],
   "source": [
    "if TASK_NAME == \"ALL\":\n",
    "    results_dict = {}\n",
    "    for task in model_dict.keys():\n",
    "        print(\"__________________________\")\n",
    "        group = admet_group(path = 'data/')\n",
    "        predictions_list = []\n",
    "        for seed in tqdm([1, 2, 3, 4, 5]):\n",
    "            benchmark = group.get(task) \n",
    "            predictions = {}\n",
    "            name = benchmark['name']\n",
    "            train, test = benchmark['train_val'], benchmark['test']\n",
    "\n",
    "            model = model_from_dict(model_dict[task])\n",
    "            model.fit(train['Drug'], train['Y'])\n",
    "            y_pred_test = model.predict(test['Drug'])\n",
    "\n",
    "            predictions[name] = y_pred_test\n",
    "            predictions_list.append(predictions)\n",
    "        results = group.evaluate_many(predictions_list)\n",
    "        results_dict[task] = results[task.lower()]\n",
    "    print(results_dict)\n",
    "else:\n",
    "    group = admet_group(path = 'data/')\n",
    "    predictions_list = []\n",
    "    for seed in tqdm([1, 2, 3, 4, 5]):\n",
    "        group = admet_group(path = 'data/')\n",
    "        benchmark = group.get(TASK_NAME) \n",
    "        predictions = {}\n",
    "        name = benchmark['name']\n",
    "        train, test = benchmark['train_val'], benchmark['test']\n",
    "\n",
    "        model = model_from_dict(model_dict[TASK_NAME])\n",
    "        model.fit(train['Drug'], train['Y'])\n",
    "        y_pred_test = model.predict(test['Drug'])\n",
    "\n",
    "        predictions[name] = y_pred_test\n",
    "        predictions_list.append(predictions)\n",
    "\n",
    "    results = group.evaluate_many(predictions_list)\n",
    "    print(results)"
   ]
  },
  {
   "cell_type": "code",
   "execution_count": null,
   "metadata": {},
   "outputs": [],
   "source": [
    "\n",
    "[{'hia_hou': [0.992, 0.003]}, \n",
    "{'pgp_broccatelli': [0.945, 0.001]},\n",
    "{'bioavailability_ma': [0.715, 0.01]},\n",
    "{'bbb_martins': [0.922, 0.002]},\n",
    "{'herg': [0.876, 0.004]},\n",
    "{'ames': [0.864, 0.001]},\n",
    "{'dili': [0.929, 0.002]},\n",
    "{'cyp3a4_substrate_carbonmangels': [0.68, 0.012]},\n",
    "{'ld50_zhu': [0.612, 0.001]},\n",
    "{'caco2_wang': [0.284, 0.009]},\n",
    "{'ppbr_az': [8.499, 0.028]},\n",
    "{'cyp2c9_veith': [0.792, 0.005]}]\n"
   ]
  },
  {
   "cell_type": "markdown",
   "metadata": {},
   "source": [
    "Baseline Benchmark Results\n",
    "-------------\n",
    "|Property|Error|\n",
    "|-|-|\n",
    "|hia_hou |[0.992, 0.003] |\n",
    "|pgp_broccatelli |[0.945, 0.001] |\n",
    "|bioavailability_ma | [0.715, 0.01]|\n",
    "|bbb_martins |[0.922, 0.002] |\n",
    "|herg |[0.876, 0.004] |\n",
    "|ames |[0.864, 0.001] |\n",
    "|dili |[0.929, 0.002] |\n",
    "|cyp3a4_substrate_carbonmangels |[0.68, 0.012] |\n",
    "|ld50_zhu |[0.612, 0.001] |\n",
    "|caco2_wang |[0.284, 0.009] |\n",
    "|ppbr_az | [8.499, 0.028]|\n",
    "| cyp2c9_veith | [0.792, 0.005]|\n",
    "\n"
   ]
  }
 ],
 "metadata": {
  "kernelspec": {
   "display_name": "Python 3.8.13 ('oce2')",
   "language": "python",
   "name": "python3"
  },
  "language_info": {
   "codemirror_mode": {
    "name": "ipython",
    "version": 3
   },
   "file_extension": ".py",
   "mimetype": "text/x-python",
   "name": "python",
   "nbconvert_exporter": "python",
   "pygments_lexer": "ipython3",
   "version": "3.8.13"
  },
  "orig_nbformat": 4,
  "vscode": {
   "interpreter": {
    "hash": "93a2d58e9abde3dcd320c1bd00f37757f1a89f66f2954644acc9bb57fa4a699b"
   }
  }
 },
 "nbformat": 4,
 "nbformat_minor": 2
}
