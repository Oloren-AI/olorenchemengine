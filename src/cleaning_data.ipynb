{
 "cells": [
  {
   "cell_type": "code",
   "execution_count": 36,
   "metadata": {},
   "outputs": [],
   "source": [
    "import olorenchemengine as oce\n",
    "import pandas as pd\n",
    "import numpy as np"
   ]
  },
  {
   "cell_type": "code",
   "execution_count": 37,
   "metadata": {},
   "outputs": [],
   "source": [
    "CSV_NAME = 'bbb/Table_1_DeePred-BBB_ A Blood Brain Barrier Permeability Prediction Model With Improved Accuracy.csv'"
   ]
  },
  {
   "cell_type": "code",
   "execution_count": 38,
   "metadata": {},
   "outputs": [
    {
     "data": {
      "text/html": [
       "<div>\n",
       "<style scoped>\n",
       "    .dataframe tbody tr th:only-of-type {\n",
       "        vertical-align: middle;\n",
       "    }\n",
       "\n",
       "    .dataframe tbody tr th {\n",
       "        vertical-align: top;\n",
       "    }\n",
       "\n",
       "    .dataframe thead th {\n",
       "        text-align: right;\n",
       "    }\n",
       "</style>\n",
       "<table border=\"1\" class=\"dataframe\">\n",
       "  <thead>\n",
       "    <tr style=\"text-align: right;\">\n",
       "      <th></th>\n",
       "      <th>Drug</th>\n",
       "      <th>Y</th>\n",
       "    </tr>\n",
       "  </thead>\n",
       "  <tbody>\n",
       "    <tr>\n",
       "      <th>0</th>\n",
       "      <td>SCC(=O)[C@@]1(O)[C@@]2(C)[C@H]([C@H]3[C@H]([C@...</td>\n",
       "      <td>1</td>\n",
       "    </tr>\n",
       "    <tr>\n",
       "      <th>1</th>\n",
       "      <td>s1cc(nc1[NH]=C(N)N)C</td>\n",
       "      <td>1</td>\n",
       "    </tr>\n",
       "    <tr>\n",
       "      <th>2</th>\n",
       "      <td>s1cc(CSCCNC(NC)=[NH]C#N)nc1[NH]=C(N)N</td>\n",
       "      <td>1</td>\n",
       "    </tr>\n",
       "    <tr>\n",
       "      <th>3</th>\n",
       "      <td>s1c(ncc1)CCN</td>\n",
       "      <td>1</td>\n",
       "    </tr>\n",
       "    <tr>\n",
       "      <th>4</th>\n",
       "      <td>S=P(N1CC1)(N2CC2)N3CC3</td>\n",
       "      <td>1</td>\n",
       "    </tr>\n",
       "    <tr>\n",
       "      <th>...</th>\n",
       "      <td>...</td>\n",
       "      <td>...</td>\n",
       "    </tr>\n",
       "    <tr>\n",
       "      <th>3600</th>\n",
       "      <td>[C@H]1(c2ccccc2)[N@]2[C@@H](NC1)NCC2</td>\n",
       "      <td>1</td>\n",
       "    </tr>\n",
       "    <tr>\n",
       "      <th>3601</th>\n",
       "      <td>[C@H]1([C@@H]2NCCCC2)OC(c2ccccc2)(c2ccccc2)OC1</td>\n",
       "      <td>1</td>\n",
       "    </tr>\n",
       "    <tr>\n",
       "      <th>3602</th>\n",
       "      <td>[C@H](CCC)(Cc1ccccc1)N1CCCC1</td>\n",
       "      <td>1</td>\n",
       "    </tr>\n",
       "    <tr>\n",
       "      <th>3603</th>\n",
       "      <td>[C@H](CCC)(CC)C</td>\n",
       "      <td>1</td>\n",
       "    </tr>\n",
       "    <tr>\n",
       "      <th>3604</th>\n",
       "      <td>[C@H](C)(n1c(C)ncc1)c1ccccc1</td>\n",
       "      <td>1</td>\n",
       "    </tr>\n",
       "  </tbody>\n",
       "</table>\n",
       "<p>3605 rows × 2 columns</p>\n",
       "</div>"
      ],
      "text/plain": [
       "                                                   Drug  Y\n",
       "0     SCC(=O)[C@@]1(O)[C@@]2(C)[C@H]([C@H]3[C@H]([C@...  1\n",
       "1                                  s1cc(nc1[NH]=C(N)N)C  1\n",
       "2                 s1cc(CSCCNC(NC)=[NH]C#N)nc1[NH]=C(N)N  1\n",
       "3                                          s1c(ncc1)CCN  1\n",
       "4                                S=P(N1CC1)(N2CC2)N3CC3  1\n",
       "...                                                 ... ..\n",
       "3600               [C@H]1(c2ccccc2)[N@]2[C@@H](NC1)NCC2  1\n",
       "3601     [C@H]1([C@@H]2NCCCC2)OC(c2ccccc2)(c2ccccc2)OC1  1\n",
       "3602                       [C@H](CCC)(Cc1ccccc1)N1CCCC1  1\n",
       "3603                                    [C@H](CCC)(CC)C  1\n",
       "3604                       [C@H](C)(n1c(C)ncc1)c1ccccc1  1\n",
       "\n",
       "[3605 rows x 2 columns]"
      ]
     },
     "execution_count": 38,
     "metadata": {},
     "output_type": "execute_result"
    }
   ],
   "source": [
    "df = pd.read_csv('data/scraped/' + CSV_NAME)\n",
    "\n",
    "selected_cols = ['Compounds', 'BBB-Class']\n",
    "\n",
    "cleaned_df = df[selected_cols]\n",
    "cleaned_df.columns = ['Drug', 'Y']\n",
    "cleaned_df"
   ]
  },
  {
   "cell_type": "code",
   "execution_count": 39,
   "metadata": {},
   "outputs": [],
   "source": [
    "from pathlib import Path  \n",
    "filepath = Path('data/scraped/bbb/bbb_classification_1.csv')  \n",
    "cleaned_df.to_csv(filepath)  "
   ]
  }
 ],
 "metadata": {
  "kernelspec": {
   "display_name": "Python 3.8.13 ('oce2')",
   "language": "python",
   "name": "python3"
  },
  "language_info": {
   "codemirror_mode": {
    "name": "ipython",
    "version": 3
   },
   "file_extension": ".py",
   "mimetype": "text/x-python",
   "name": "python",
   "nbconvert_exporter": "python",
   "pygments_lexer": "ipython3",
   "version": "3.8.13"
  },
  "orig_nbformat": 4,
  "vscode": {
   "interpreter": {
    "hash": "93a2d58e9abde3dcd320c1bd00f37757f1a89f66f2954644acc9bb57fa4a699b"
   }
  }
 },
 "nbformat": 4,
 "nbformat_minor": 2
}
