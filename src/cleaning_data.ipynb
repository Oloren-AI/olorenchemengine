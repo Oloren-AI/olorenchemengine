{
 "cells": [
  {
   "cell_type": "code",
   "execution_count": 9,
   "metadata": {},
   "outputs": [],
   "source": [
    "import olorenchemengine as oce\n",
    "import pandas as pd\n",
    "import numpy as np\n",
    "\n",
    "bbb_class_files = np.array(['R6', 'R7', 'R9', 'R10', 'R13', \n",
    "                            'R14', 'R15', 'R16', 'R19', 'R23', \n",
    "                            'R24', 'R26', 'R27', 'R28', 'R29', \n",
    "                            'R30', 'R36', 'R37', 'R50'])\n",
    "\n",
    "FILE_NAME = 'data_formatted_done.xls'\n",
    "DATABASE_NAME = 'b3db_class_data'\n",
    "\n"
   ]
  },
  {
   "cell_type": "code",
   "execution_count": 10,
   "metadata": {},
   "outputs": [],
   "source": [
    "def BBB_to_CLASS(name: str):\n",
    "    if (name == \"BBB+\"):\n",
    "        name = 1\n",
    "    else:\n",
    "        name = 0\n",
    "    return name\n",
    "\n",
    "def handle_bad_smiles(smiles: str):\n",
    "    try:\n",
    "        oce.DescriptastorusDescriptor(\"morgan3counts\")._convert(smiles)\n",
    "    except Exception as e:\n",
    "        smiles = \"INVALID\"\n",
    "    return smiles "
   ]
  },
  {
   "cell_type": "code",
   "execution_count": 11,
   "metadata": {},
   "outputs": [],
   "source": [
    "for FOLDER_NAME in bbb_class_files:\n",
    "    df = pd.read_excel(f\"{DATABASE_NAME}/{FOLDER_NAME}/{FILE_NAME}\", index_col=None)\n",
    "    df['BBB+/BBB-'] = df['BBB+/BBB-'].map(lambda name: BBB_to_CLASS(name))\n",
    "    cols = ['compound_name', 'smiles', 'BBB+/BBB-']\n",
    "    cleaned = df[cols]\n",
    "    cleaned.columns = ['name', 'Drug', 'Y']\n",
    "    cleaned['Drug'] = cleaned['Drug'].apply(lambda x: oce.sanitize_smiles(x)[1])\n",
    "    cleaned['Drug'] = cleaned['Drug'].apply(lambda x: handle_bad_smiles(x))\n",
    "    cleaned.drop(cleaned[cleaned['Drug'] == \"INVALID\"].index, inplace = True)\n",
    "    cleaned.to_csv(f\"{DATABASE_NAME}/{FOLDER_NAME}/{FOLDER_NAME}_cleaned.csv\")\n",
    "\n",
    "\n",
    "    \n",
    "\n",
    "    "
   ]
  }
 ],
 "metadata": {
  "kernelspec": {
   "display_name": "Python 3.8.13 ('oce2')",
   "language": "python",
   "name": "python3"
  },
  "language_info": {
   "codemirror_mode": {
    "name": "ipython",
    "version": 3
   },
   "file_extension": ".py",
   "mimetype": "text/x-python",
   "name": "python",
   "nbconvert_exporter": "python",
   "pygments_lexer": "ipython3",
   "version": "3.8.13"
  },
  "orig_nbformat": 4,
  "vscode": {
   "interpreter": {
    "hash": "93a2d58e9abde3dcd320c1bd00f37757f1a89f66f2954644acc9bb57fa4a699b"
   }
  }
 },
 "nbformat": 4,
 "nbformat_minor": 2
}
