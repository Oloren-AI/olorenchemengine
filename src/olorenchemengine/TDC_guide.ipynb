{
 "cells": [
  {
   "cell_type": "markdown",
   "metadata": {},
   "source": [
    "Import packages"
   ]
  },
  {
   "cell_type": "markdown",
   "metadata": {},
   "source": [
    "Download TDC here https://tdcommons.ai/start/"
   ]
  },
  {
   "cell_type": "code",
   "execution_count": 1,
   "metadata": {},
   "outputs": [
    {
     "name": "stderr",
     "output_type": "stream",
     "text": [
      "/home/andrew/miniconda/envs/oce-new/lib/python3.8/site-packages/tqdm/auto.py:22: TqdmWarning: IProgress not found. Please update jupyter and ipywidgets. See https://ipywidgets.readthedocs.io/en/stable/user_install.html\n",
      "  from .autonotebook import tqdm as notebook_tqdm\n"
     ]
    }
   ],
   "source": [
    "import olorenchemengine as oce\n",
    "from tqdm import tqdm\n",
    "from tdc.benchmark_group import admet_group\n",
    "import numpy as np"
   ]
  },
  {
   "cell_type": "markdown",
   "metadata": {},
   "source": [
    "This is a dictionary of models. The first value in each pair is the model name, generated randomly by OCE and is unique for every model. The key is the model architecture in string form, which OCE can create a model from. For example:"
   ]
  },
  {
   "cell_type": "markdown",
   "metadata": {},
   "source": [
    "\"{'BC_class_name': 'RandomForestModel', 'args': [{'BC_class_name': 'OlorenCheckpoint', 'args': ['default'], 'kwargs': {'num_tasks': 2048, 'log': True}}], 'kwargs': {'n_estimators': 3000, 'max_features': 'log2', 'max_depth': None, 'criterion': 'entropy', 'class_weight': None, 'bootstrap': True}}\""
   ]
  },
  {
   "cell_type": "markdown",
   "metadata": {},
   "source": [
    "Is all the parameters needed to create a Random Forest using OlorenVec"
   ]
  },
  {
   "cell_type": "code",
   "execution_count": 2,
   "metadata": {},
   "outputs": [],
   "source": [
    "models = {\n",
    "    'BaseBoosting xXOn1QFI': \"{'BC_class_name': 'BaseBoosting', 'args': [[{'BC_class_name': 'RandomForestModel', 'args': [{'BC_class_name': 'DescriptastorusDescriptor', 'args': ['morgan3counts'], 'kwargs': {'log': True}}], 'kwargs': {'bootstrap': True, 'criterion': 'entropy', 'max_features': 'log2', 'n_estimators': 1000}}, {'BC_class_name': 'RandomForestModel', 'args': [{'BC_class_name': 'DescriptastorusDescriptor', 'args': ['morganchiral3counts'], 'kwargs': {'log': True}}], 'kwargs': {'bootstrap': True, 'criterion': 'entropy', 'max_features': 'log2', 'n_estimators': 1000}}, {'BC_class_name': 'RandomForestModel', 'args': [{'BC_class_name': 'DescriptastorusDescriptor', 'args': ['morganfeature3counts'], 'kwargs': {'log': True}}], 'kwargs': {'bootstrap': True, 'criterion': 'entropy', 'max_features': 'log2', 'n_estimators': 1000}}, {'BC_class_name': 'RandomForestModel', 'args': [{'BC_class_name': 'DescriptastorusDescriptor', 'args': ['rdkit2dnormalized'], 'kwargs': {'log': True}}], 'kwargs': {'bootstrap': True, 'criterion': 'entropy', 'max_features': 'log2', 'n_estimators': 1000}}, {'BC_class_name': 'RandomForestModel', 'args': [{'BC_class_name': 'OlorenCheckpoint', 'args': ['default'], 'kwargs': {'log': True, 'num_tasks': 2048}}], 'kwargs': {'bootstrap': True, 'criterion': 'entropy', 'max_features': 'log2', 'n_estimators': 1000}}]], 'kwargs': {'log': True, 'n': 1}}\",\n",
    "    'BaseBoosting ADkCCrwJ': '{\"BC_class_name\": \"BaseBoosting\", \"args\": [[{\"BC_class_name\": \"RandomForestModel\", \"args\": [{\"BC_class_name\": \"DescriptastorusDescriptor\", \"args\": [\"rdkit2dnormalized\"], \"kwargs\": {}}], \"kwargs\": {\"n_estimators\": 1000, \"max_features\": \"log2\", \"max_depth\": null, \"criterion\": \"entropy\", \"class_weight\": null, \"bootstrap\": true}}, {\"BC_class_name\": \"RandomForestModel\", \"args\": [{\"BC_class_name\": \"DescriptastorusDescriptor\", \"args\": [\"morgan3counts\"], \"kwargs\": {}}], \"kwargs\": {\"n_estimators\": 1000, \"max_features\": \"log2\", \"max_depth\": null, \"criterion\": \"entropy\", \"class_weight\": null, \"bootstrap\": true}}, {\"BC_class_name\": \"RandomForestModel\", \"args\": [{\"BC_class_name\": \"OlorenCheckpoint\", \"args\": [\"default\"], \"kwargs\": {\"num_tasks\": 2048}}], \"kwargs\": {\"n_estimators\": 1000, \"max_features\": \"log2\", \"max_depth\": null, \"criterion\": \"entropy\", \"class_weight\": null, \"bootstrap\": true}}]], \"kwargs\": {\"n\": 1, \"log\": true}}',\n",
    "    'BaseBoosting 1zpI0dIb': \"{'BC_class_name': 'BaseBoosting', 'args': [[{'BC_class_name': 'RandomForestModel', 'args': [{'BC_class_name': 'DescriptastorusDescriptor', 'args': ['morgan3counts'], 'kwargs': {'log': True}}], 'kwargs': {'bootstrap': True, 'criterion': 'entropy', 'max_features': 'log2', 'n_estimators': 2000}}, {'BC_class_name': 'RandomForestModel', 'args': [{'BC_class_name': 'DescriptastorusDescriptor', 'args': ['morganchiral3counts'], 'kwargs': {'log': True}}], 'kwargs': {'bootstrap': True, 'criterion': 'entropy', 'max_features': 'log2', 'n_estimators': 2000}}, {'BC_class_name': 'RandomForestModel', 'args': [{'BC_class_name': 'DescriptastorusDescriptor', 'args': ['morganfeature3counts'], 'kwargs': {'log': True}}], 'kwargs': {'bootstrap': True, 'criterion': 'entropy', 'max_features': 'log2', 'n_estimators': 2000}}, {'BC_class_name': 'RandomForestModel', 'args': [{'BC_class_name': 'DescriptastorusDescriptor', 'args': ['rdkit2dnormalized'], 'kwargs': {'log': True}}], 'kwargs': {'bootstrap': True, 'criterion': 'entropy', 'max_features': 'log2', 'n_estimators': 2000}}, {'BC_class_name': 'RandomForestModel', 'args': [{'BC_class_name': 'OlorenCheckpoint', 'args': ['default'], 'kwargs': {'log': True, 'num_tasks': 2048}}], 'kwargs': {'bootstrap': True, 'criterion': 'entropy', 'max_features': 'log2', 'n_estimators': 2000}}]], 'kwargs': {'log': True, 'n': 1}}\",\n",
    "    'BaseBoosting OQRAYLPP': \"{'BC_class_name': 'BaseBoosting', 'args': [[{'BC_class_name': 'SPGNN', 'kwargs': {'JK': 'last', 'batch_size': 256, 'decay': 0, 'dropout_ratio': 0.5, 'emb_dim': 300, 'epochs': 80, 'gnn_type': 'gin', 'graph_pooling': 'mean', 'lr': 0.001, 'lr_scale': 1, 'model_type': 'supervised_infomax', 'num_layer': 5}}, {'BC_class_name': 'RandomForestModel', 'args': [{'BC_class_name': 'OlorenCheckpoint', 'args': ['default'], 'kwargs': {'num_tasks': 2048}}], 'kwargs': {'bootstrap': True, 'criterion': 'entropy', 'max_features': 'log2', 'n_estimators': 1000}}, {'BC_class_name': 'BaseTorchGeometricModel', 'args': [{'BC_class_name': 'GINModel', 'kwargs': {'batch_size': 100, 'conv_radius': 3, 'conv_type': 'gin+', 'dataset': 'molpcba', 'dropout': 0.5, 'hidden': 100, 'layers': 3, 'lr': 0.001, 'optim': 'adam', 'task_type': 'classification', 'virtual_node': False}}], 'kwargs': {'auto_lr_find': True, 'batch_size': 16, 'epochs': 5, 'log': True, 'lr': 0.0001, 'pos_weight': 'balanced', 'preinitialized': False, 'representation': {'BC_class_name': 'TorchGeometricGraph', 'kwargs': {'atom_featurizer': {'BC_class_name': 'OGBAtomFeaturizer'}, 'bond_featurizer': {'BC_class_name': 'OGBBondFeaturizer'}}}}}]], 'kwargs': {'log': True, 'n': 1}}\",\n",
    "    'BaseBoosting ktIIq91G': \"{'BC_class_name': 'BaseBoosting', 'args': [[{'BC_class_name': 'RandomForestModel', 'args': [{'BC_class_name': 'DescriptastorusDescriptor', 'args': ['morgan3counts'], 'kwargs': {'log': True}}], 'kwargs': {'bootstrap': True, 'class_weight': 'balanced', 'criterion': 'entropy', 'max_features': 'log2', 'n_estimators': 2000}}, {'BC_class_name': 'RandomForestModel', 'args': [{'BC_class_name': 'DescriptastorusDescriptor', 'args': ['morganfeature3counts'], 'kwargs': {'log': True}}], 'kwargs': {'bootstrap': True, 'class_weight': 'balanced', 'criterion': 'entropy', 'max_features': 'log2', 'n_estimators': 2000}}, {'BC_class_name': 'RandomForestModel', 'args': [{'BC_class_name': 'DescriptastorusDescriptor', 'args': ['morganchiral3counts'], 'kwargs': {'log': True}}], 'kwargs': {'bootstrap': True, 'class_weight': 'balanced', 'criterion': 'entropy', 'max_features': 'log2', 'n_estimators': 2000}}, {'BC_class_name': 'RandomForestModel', 'args': [{'BC_class_name': 'DescriptastorusDescriptor', 'args': ['rdkit2dnormalized'], 'kwargs': {'log': True}}], 'kwargs': {'bootstrap': True, 'class_weight': 'balanced', 'criterion': 'entropy', 'max_features': 'log2', 'n_estimators': 2000}}, {'BC_class_name': 'RandomForestModel', 'args': [{'BC_class_name': 'MordredDescriptor', 'kwargs': {'descriptor_set': 'all', 'log': True, 'normalize': True}}], 'kwargs': {'bootstrap': True, 'class_weight': 'balanced', 'criterion': 'entropy', 'max_features': 'log2', 'n_estimators': 2000}}, {'BC_class_name': 'RandomForestModel', 'args': [{'BC_class_name': 'OlorenCheckpoint', 'args': ['default'], 'kwargs': {'log': True, 'num_tasks': 2048}}], 'kwargs': {'bootstrap': True, 'class_weight': 'balanced', 'criterion': 'entropy', 'max_features': 'log2', 'n_estimators': 2000}}]], 'kwargs': {'log': True, 'n': 1}}\",\n",
    "    'RFStacker jTNhN7U7': \"{'BC_class_name': 'RFStacker', 'args': [[{'BC_class_name': 'RandomForestModel', 'args': [{'BC_class_name': 'DescriptastorusDescriptor', 'args': ['rdkit2dnormalized']}], 'kwargs': {'bootstrap': True, 'criterion': 'entropy', 'max_features': 'log2', 'n_estimators': 2000}}, {'BC_class_name': 'RandomForestModel', 'args': [{'BC_class_name': 'OlorenCheckpoint', 'args': ['default'], 'kwargs': {'num_tasks': 2048}}], 'kwargs': {'bootstrap': True, 'criterion': 'entropy', 'max_features': 'log2', 'n_estimators': 1000}}, {'BC_class_name': 'RandomForestModel', 'args': [{'BC_class_name': 'LipinskiDescriptor'}], 'kwargs': {'bootstrap': True, 'criterion': 'entropy', 'max_features': 'log2', 'n_estimators': 1000}}, {'BC_class_name': 'RandomForestModel', 'args': [{'BC_class_name': 'DescriptastorusDescriptor', 'args': ['morganfeature3counts']}], 'kwargs': {'bootstrap': True, 'criterion': 'entropy', 'max_features': 'log2', 'n_estimators': 1000}}, {'BC_class_name': 'SPGNN', 'kwargs': {'JK': 'last', 'batch_size': 32, 'decay': 0, 'dropout_ratio': 0.5, 'emb_dim': 300, 'epochs': 100, 'gnn_type': 'gin', 'graph_pooling': 'mean', 'lr': 0.001, 'lr_scale': 1, 'model_type': 'supervised_infomax', 'num_layer': 5}}, {'BC_class_name': 'LipinskiDescriptor'}]], 'kwargs': {'log': True, 'n': 1, 'n_estimators': 100}}\",\n",
    "    'BaseBoosting QjtOKx4i': \"{'BC_class_name': 'BaseBoosting', 'args': [[{'BC_class_name': 'RandomForestModel', 'args': [{'BC_class_name': 'DescriptastorusDescriptor', 'args': ['rdkit2dnormalized'], 'kwargs': {'log': True, 'scale': None}}], 'kwargs': {'n_estimators': 2000, 'max_features': 'auto', 'max_depth': 7, 'criterion': 'entropy', 'class_weight': None, 'bootstrap': True}}, {'BC_class_name': 'ChemPropModel', 'args': [], 'kwargs': {'epochs': 200, 'batch_size': 16, 'dropout_rate': 0.2, 'lr': 0.001, 'hidden_size': 300, 'depth': 3}}]], 'kwargs': {'n': 1, 'oof': False, 'nfolds': 5, 'log': True}}\",\n",
    "    'RandomForestModel yjJ-ak-b': \"{'BC_class_name': 'RandomForestModel', 'args': [{'BC_class_name': 'DescriptastorusDescriptor', 'args': ['morganfeature3counts'], 'kwargs': {'log': True, 'scale': None}}], 'kwargs': {'n_estimators': 1000, 'max_features': 'log2', 'max_depth': None, 'criterion': 'entropy', 'class_weight': None, 'bootstrap': True}}\",\n",
    "    'RandomForestModel gfFM673V': \"{'BC_class_name': 'RandomForestModel', 'args': [{'BC_class_name': 'OlorenCheckpoint', 'args': ['default'], 'kwargs': {'num_tasks': 2048, 'log': True}}], 'kwargs': {'n_estimators': 3000, 'max_features': 'log2', 'max_depth': None, 'criterion': 'entropy', 'class_weight': None, 'bootstrap': True}}\",\n",
    "}"
   ]
  },
  {
   "cell_type": "code",
   "execution_count": 3,
   "metadata": {},
   "outputs": [
    {
     "name": "stdout",
     "output_type": "stream",
     "text": [
      "{'BC_class_name': 'RandomForestModel', 'args': [{'BC_class_name': 'DescriptastorusDescriptor', 'args': ['morganfeature3counts'], 'kwargs': {'log': True, 'scale': None}}], 'kwargs': {'n_estimators': 1000, 'max_features': 'log2', 'max_depth': None, 'criterion': 'entropy', 'class_weight': None, 'bootstrap': True}}\n"
     ]
    }
   ],
   "source": [
    "model_string = models['RandomForestModel yjJ-ak-b']\n",
    "print(model_string)"
   ]
  },
  {
   "cell_type": "markdown",
   "metadata": {},
   "source": [
    "This dictionary matches each benchmark (name as key) to the corresponding top performing model."
   ]
  },
  {
   "cell_type": "code",
   "execution_count": 4,
   "metadata": {},
   "outputs": [],
   "source": [
    "model_dict = {\n",
    "    'HIA_Hou': models[\"RFStacker jTNhN7U7\"],\n",
    "    'Pgp_Broccatelli': models[\"BaseBoosting xXOn1QFI\"],\n",
    "    'Bioavailability_Ma': models[\"BaseBoosting 1zpI0dIb\"],\n",
    "    'BBB_Martins': models[\"BaseBoosting ADkCCrwJ\"],\n",
    "    'hERG': models[\"RandomForestModel yjJ-ak-b\"],\n",
    "    'AMES': models[\"BaseBoosting 1zpI0dIb\"],\n",
    "    'DILI': models[\"BaseBoosting ADkCCrwJ\"],\n",
    "    'CYP3A4_Substrate_CarbonMangels': models[\"BaseBoosting ADkCCrwJ\"],\n",
    "    'LD50_Zhu': models[\"BaseBoosting ktIIq91G\"],\n",
    "    'Caco2_Wang': models[\"BaseBoosting QjtOKx4i\"],\n",
    "    'PPBR_AZ': models[\"BaseBoosting ktIIq91G\"],\n",
    "    'CYP2C9_Veith': models[\"BaseBoosting 1zpI0dIb\"],\n",
    "    'CYP2D6_Veith': models[\"BaseBoosting ktIIq91G\"],\n",
    "    'CYP3A4_Veith': models[\"BaseBoosting ktIIq91G\"],\n",
    "    'CYP2C9_Substrate_CarbonMangels': models[\"RandomForestModel gfFM673V\"],\n",
    "    'CYP2D6_Substrate_CarbonMangels': models[\"BaseBoosting OQRAYLPP\"],\n",
    "    'Half_Life_Obach': models[\"BaseBoosting ktIIq91G\"],\n",
    "    'Clearance_Hepatocyte_AZ': models[\"BaseBoosting xXOn1QFI\"],\n",
    "    'Clearance_Microsome_AZ': models[\"RFStacker jTNhN7U7\"],\n",
    "}"
   ]
  },
  {
   "cell_type": "markdown",
   "metadata": {},
   "source": [
    "Model Creation. We have the model string as model_string, so we'll make it an actual model object."
   ]
  },
  {
   "cell_type": "code",
   "execution_count": 5,
   "metadata": {},
   "outputs": [],
   "source": [
    "def model_from_dict(s):\n",
    "    s = s.replace(\"'\", \"\\\"\").replace(\"True\", \"true\").replace(\"False\", \"false\").replace(\"None\", \"null\")\n",
    "    model = oce.create_BC(s)\n",
    "    return model"
   ]
  },
  {
   "cell_type": "code",
   "execution_count": 6,
   "metadata": {},
   "outputs": [],
   "source": [
    "model = model_from_dict(model_string)"
   ]
  },
  {
   "cell_type": "code",
   "execution_count": 7,
   "metadata": {},
   "outputs": [
    {
     "name": "stderr",
     "output_type": "stream",
     "text": [
      "Found local copy...\n"
     ]
    }
   ],
   "source": [
    "group = admet_group(path = 'data/')\n",
    "\n",
    "benchmark = group.get('HIA_Hou')\n",
    "\n",
    "train, test = benchmark['train_val'], benchmark['test']"
   ]
  },
  {
   "cell_type": "code",
   "execution_count": 8,
   "metadata": {},
   "outputs": [],
   "source": [
    "model.fit(train['Drug'], train['Y'])"
   ]
  },
  {
   "cell_type": "code",
   "execution_count": null,
   "metadata": {},
   "outputs": [],
   "source": [
    "y_pred_test = model.predict(test['Drug'])"
   ]
  }
 ],
 "metadata": {
  "kernelspec": {
   "display_name": "Python 3.8.13 ('oce-new')",
   "language": "python",
   "name": "python3"
  },
  "language_info": {
   "codemirror_mode": {
    "name": "ipython",
    "version": 3
   },
   "file_extension": ".py",
   "mimetype": "text/x-python",
   "name": "python",
   "nbconvert_exporter": "python",
   "pygments_lexer": "ipython3",
   "version": "3.8.13"
  },
  "orig_nbformat": 4,
  "vscode": {
   "interpreter": {
    "hash": "3b3fc9630c160b72eb6f7b59ef7ad2aa7e79be1cc645a05686cdc2a3c16a53ef"
   }
  }
 },
 "nbformat": 4,
 "nbformat_minor": 2
}
