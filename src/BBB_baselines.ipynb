{
 "cells": [
  {
   "cell_type": "code",
   "execution_count": 39,
   "metadata": {},
   "outputs": [],
   "source": [
    "\n",
    "import olorenchemengine as oce\n",
    "from tqdm import tqdm\n",
    "from tdc.benchmark_group import admet_group\n",
    "import numpy as np\n",
    "import pandas as pd\n",
    "\n"
   ]
  },
  {
   "cell_type": "code",
   "execution_count": 40,
   "metadata": {},
   "outputs": [],
   "source": [
    "models = {\n",
    "    'BBB_TDC': '{\"BC_class_name\": \"BaseBoosting\", \"args\": [[{\"BC_class_name\": \"RandomForestModel\", \"args\": [{\"BC_class_name\": \"DescriptastorusDescriptor\", \"args\": [\"rdkit2dnormalized\"], \"kwargs\": {}}], \"kwargs\": {\"n_estimators\": 1000, \"max_features\": \"log2\", \"max_depth\": null, \"criterion\": \"entropy\", \"class_weight\": null, \"bootstrap\": true}}, {\"BC_class_name\": \"RandomForestModel\", \"args\": [{\"BC_class_name\": \"DescriptastorusDescriptor\", \"args\": [\"morgan3counts\"], \"kwargs\": {}}], \"kwargs\": {\"n_estimators\": 1000, \"max_features\": \"log2\", \"max_depth\": null, \"criterion\": \"entropy\", \"class_weight\": null, \"bootstrap\": true}}, {\"BC_class_name\": \"RandomForestModel\", \"args\": [{\"BC_class_name\": \"OlorenCheckpoint\", \"args\": [\"default\"], \"kwargs\": {\"num_tasks\": 2048}}], \"kwargs\": {\"n_estimators\": 1000, \"max_features\": \"log2\", \"max_depth\": null, \"criterion\": \"entropy\", \"class_weight\": null, \"bootstrap\": true}}]], \"kwargs\": {\"n\": 1, \"log\": true}}',\n",
    "    'BBB_1040':\"{'BC_class_name': 'BaseBoosting', 'args': [[{'BC_class_name': 'RandomForestModel', 'args': [{'BC_class_name': 'DescriptastorusDescriptor', 'args': ['rdkit2dnormalized'], 'kwargs': {'log': True, 'scale': None}}], 'kwargs': {'n_estimators': 1000, 'max_features': 'log2', 'max_depth': None, 'criterion': 'entropy', 'class_weight': None, 'bootstrap': True}}, {'BC_class_name': 'RandomForestModel', 'args': [{'BC_class_name': 'DescriptastorusDescriptor', 'args': ['morgan3counts'], 'kwargs': {'log': True, 'scale': None}}], 'kwargs': {'n_estimators': 1000, 'max_features': 'log2', 'max_depth': None, 'criterion': 'entropy', 'class_weight': None, 'bootstrap': True}}, {'BC_class_name': 'RandomForestModel', 'args': [{'BC_class_name': 'OlorenCheckpoint', 'args': ['default'], 'kwargs': {'num_tasks': 2048, 'log': True}}], 'kwargs': {'n_estimators': 1000, 'max_features': 'log2', 'max_depth': None, 'criterion': 'entropy', 'class_weight': None, 'bootstrap': True}}]], 'kwargs': {'n': 1, 'log': True, 'oof': False, 'nfolds': 5}}\",\n",
    "    'BBB_455': \"{'BC_class_name': 'RandomForestModel', 'args': [{'BC_class_name': 'DescriptastorusDescriptor', 'args': ['rdkit2dnormalized'], 'kwargs': {'log': True, 'scale': None}}], 'kwargs': {'n_estimators': 2000, 'max_features': 'log2', 'max_depth': None, 'criterion': 'entropy', 'class_weight': None, 'bootstrap': True}}\",\n",
    "    'BBB_1209':\"{'BC_class_name': 'ChemPropModel', 'args': [], 'kwargs': {'epochs': 100, 'dropout_rate': 0.0, 'batch_size': 50, 'lr': 0.001, 'hidden_size': 300, 'depth': 3}}\"\n",
    "}"
   ]
  },
  {
   "cell_type": "code",
   "execution_count": 41,
   "metadata": {},
   "outputs": [],
   "source": [
    "model_dict = {\n",
    "    'bbb_base': models[\"BBB_TDC\"],\n",
    "    'bbb_1040': models[\"BBB_1040\"],\n",
    "    'bbb_455' : models[\"BBB_455\"],\n",
    "    'bbb_1209': models[\"BBB_1209\"],\n",
    "}"
   ]
  },
  {
   "cell_type": "code",
   "execution_count": 42,
   "metadata": {},
   "outputs": [],
   "source": [
    "def model_from_dict(s):\n",
    "    s = s.replace(\"'\", \"\\\"\").replace(\"True\", \"true\").replace(\"False\", \"false\").replace(\"None\", \"null\")\n",
    "    model = oce.create_BC(s)\n",
    "    return model"
   ]
  },
  {
   "cell_type": "code",
   "execution_count": 43,
   "metadata": {},
   "outputs": [],
   "source": [
    "#EDIT THIS CELL\n",
    "TASK_NAME = 'bbb_martins'"
   ]
  },
  {
   "cell_type": "code",
   "execution_count": 46,
   "metadata": {},
   "outputs": [
    {
     "name": "stderr",
     "output_type": "stream",
     "text": [
      "Found local copy...\n"
     ]
    },
    {
     "name": "stdout",
     "output_type": "stream",
     "text": [
      "__________________________\n"
     ]
    },
    {
     "name": "stderr",
     "output_type": "stream",
     "text": [
      "100%|██████████| 5/5 [00:22<00:00,  4.51s/it]\n",
      "Found local copy...\n"
     ]
    },
    {
     "name": "stdout",
     "output_type": "stream",
     "text": [
      "__________________________\n"
     ]
    },
    {
     "name": "stderr",
     "output_type": "stream",
     "text": [
      "100%|██████████| 5/5 [00:22<00:00,  4.54s/it]\n",
      "Found local copy...\n"
     ]
    },
    {
     "name": "stdout",
     "output_type": "stream",
     "text": [
      "__________________________\n"
     ]
    },
    {
     "name": "stderr",
     "output_type": "stream",
     "text": [
      "100%|██████████| 5/5 [00:10<00:00,  2.15s/it]\n",
      "Found local copy...\n"
     ]
    },
    {
     "name": "stdout",
     "output_type": "stream",
     "text": [
      "__________________________\n"
     ]
    },
    {
     "name": "stderr",
     "output_type": "stream",
     "text": [
      "1624it [00:04, 368.53it/s]0<?, ?it/s]\n",
      "406it [00:01, 379.62it/s]\n",
      "100%|██████████| 9/9 [00:00<00:00, 101.50it/s]\n",
      "1624it [00:04, 367.22it/s]1<05:25, 81.34s/it]\n",
      "406it [00:01, 397.55it/s]\n",
      "100%|██████████| 9/9 [00:00<00:00, 106.27it/s]\n",
      "1624it [00:04, 371.62it/s]1<04:01, 80.63s/it]\n",
      "406it [00:01, 395.17it/s]\n",
      "100%|██████████| 9/9 [00:00<00:00, 109.17it/s]\n",
      "1624it [00:04, 369.17it/s]0<02:39, 79.84s/it]\n",
      "406it [00:01, 396.49it/s]\n",
      "100%|██████████| 9/9 [00:00<00:00, 109.64it/s]\n",
      "1624it [00:04, 364.94it/s]9<01:19, 79.46s/it]\n",
      "406it [00:01, 391.97it/s]\n",
      "100%|██████████| 9/9 [00:00<00:00, 100.43it/s]\n",
      "100%|██████████| 5/5 [06:39<00:00, 79.98s/it]"
     ]
    },
    {
     "name": "stdout",
     "output_type": "stream",
     "text": [
      "{'bbb_base': [0.922, 0.001], 'bbb_1040': [0.922, 0.001], 'bbb_455': [0.911, 0.0], 'bbb_1209': [0.87, 0.003]}\n"
     ]
    },
    {
     "name": "stderr",
     "output_type": "stream",
     "text": [
      "\n"
     ]
    }
   ],
   "source": [
    "\n",
    "results_dict = {}\n",
    "for MODEL in model_dict.keys():\n",
    "    print(f\"__________________________\")\n",
    "    group = admet_group(path = 'data/')\n",
    "    predictions_list = []\n",
    "    for seed in tqdm([1, 2, 3, 4, 5]):\n",
    "        benchmark = group.get(TASK_NAME) \n",
    "        predictions = {}\n",
    "        name = benchmark['name']\n",
    "        train, test = benchmark['train_val'], benchmark['test']\n",
    "        model = model_from_dict(model_dict[MODEL])\n",
    "        model.fit(train['Drug'], train['Y'])\n",
    "        y_pred_test = model.predict(test['Drug'])\n",
    "        oce.save(model, MODEL)\n",
    "        predictions[name] = y_pred_test\n",
    "        predictions_list.append(predictions)\n",
    "    results = group.evaluate_many(predictions_list)\n",
    "    results_dict[MODEL] = results[TASK_NAME]\n",
    "print(results_dict)"
   ]
  },
  {
   "cell_type": "markdown",
   "metadata": {},
   "source": [
    "Baseline Benchmark Results\n",
    "-------------\n",
    "|BBB Baseline Model|Error|\n",
    "|-|-|\n",
    "|bbb_base |[0.922, 0.001]|\n",
    "|bbb_1040 |[0.922, 0.001]|\n",
    "|bbb_455  |[0.911, 0.000]|\n",
    "|bbb_1209 |[0.870, 0.003]|\n",
    "\n",
    "\n"
   ]
  }
 ],
 "metadata": {
  "kernelspec": {
   "display_name": "Python 3.8.13 ('oce2')",
   "language": "python",
   "name": "python3"
  },
  "language_info": {
   "codemirror_mode": {
    "name": "ipython",
    "version": 3
   },
   "file_extension": ".py",
   "mimetype": "text/x-python",
   "name": "python",
   "nbconvert_exporter": "python",
   "pygments_lexer": "ipython3",
   "version": "3.8.13"
  },
  "orig_nbformat": 4,
  "vscode": {
   "interpreter": {
    "hash": "93a2d58e9abde3dcd320c1bd00f37757f1a89f66f2954644acc9bb57fa4a699b"
   }
  }
 },
 "nbformat": 4,
 "nbformat_minor": 2
}
