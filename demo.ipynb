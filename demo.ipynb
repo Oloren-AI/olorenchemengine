{
 "cells": [
  {
   "cell_type": "code",
   "execution_count": null,
   "metadata": {},
   "outputs": [],
   "source": [
    "import olorenchemengine as oce \n",
    "\n",
    "with oce.Remote() as sid:\n",
    "    dataset = oce.ExampleDataset()\n",
    "    vis = oce.ChemicalSpacePlot(\n",
    "        dataset, oce.DescriptastorusDescriptor(\"morgan3counts\"), opacity=0.4, dim_reduction=\"tsne\"\n",
    "    )\n",
    "    vis.render_ipynb()"
   ]
  },
  {
   "cell_type": "code",
   "execution_count": null,
   "metadata": {},
   "outputs": [],
   "source": [
    "import olorenchemengine as oce\n",
    "\n",
    "dataset = oce.ExampleDataset()\n",
    "with oce.Remote(debug=True) as sid:\n",
    "    \n",
    "    # vis = oce.ChemicalSpacePlot(\n",
    "    #     dataset, oce.DescriptastorusDescriptor(\"morgan3counts\"), opacity=0.4, dim_reduction=\"tsne\"\n",
    "    # )\n",
    "    # vis.render_ipynb()"
   ]
  },
  {
   "cell_type": "code",
   "execution_count": 2,
   "metadata": {},
   "outputs": [
    {
     "name": "stdout",
     "output_type": "stream",
     "text": [
      "Sending instructions...\n",
      "[\n",
      "    {\n",
      "        \"type\": \"CREATE\",\n",
      "        \"REMOTE_ID\": \"cb7ed2cf-440d-4515-a352-dddc616ca0e0\",\n",
      "        \"parameters\": {\n",
      "            \"BC_class_name\": \"DescriptastorusDescriptor\",\n",
      "            \"args\": [\n",
      "                \"morgan3counts\"\n",
      "            ],\n",
      "            \"kwargs\": {\n",
      "                \"log\": true,\n",
      "                \"scale\": null\n",
      "            }\n",
      "        }\n",
      "    },\n",
      "    {\n",
      "        \"type\": \"CREATE\",\n",
      "        \"REMOTE_ID\": \"88d21ba1-c634-4b3c-81e7-9d977236dc81\",\n",
      "        \"parameters\": {\n",
      "            \"BC_class_name\": \"ChemicalSpacePlot\",\n",
      "            \"args\": [\n",
      "                {\n",
      "                    \"BC_class_name\": \"BaseDataset\",\n",
      "                    \"args\": [],\n",
      "                    \"kwargs\": {\n",
      "                        \"data\": \",Smiles,pChEMBL Value\\n0,CC1=CC(C)(C)Nc2c...\",\n",
      "                        \"structure_col\": \"Smiles\",\n",
      "                        \"property_col\": \"pChEMBL Value\",\n",
      "                        \"name\": null,\n",
      "                        \"feature_cols\": [],\n",
      "                        \"date_col\": null,\n",
      "                        \"log\": true\n",
      "                    }\n",
      "                },\n",
      "                {\n",
      "                    \"REMOTE_ID\": \"cb7ed2cf-440d-4515-a352-dddc616ca0e0\"\n",
      "                }\n",
      "            ],\n",
      "            \"kwargs\": {\n",
      "                \"opacity\": 0.4,\n",
      "                \"dim_reduction\": \"tsne\",\n",
      "                \"smiles_col\": null,\n",
      "                \"title\": \"Chemical Space Plot\",\n",
      "                \"log\": true\n",
      "            }\n",
      "        }\n",
      "    },\n",
      "    {\n",
      "        \"type\": \"SYMBOL\",\n",
      "        \"PARENT_REMOTE_ID\": \"88d21ba1-c634-4b3c-81e7-9d977236dc81\",\n",
      "        \"SYMBOL_NAME\": \"render_ipynb\",\n",
      "        \"REMOTE_ID\": \"b326e2e9-1e3e-466d-9060-7ed025149bd2\"\n",
      "    },\n",
      "    {\n",
      "        \"type\": \"CALL\",\n",
      "        \"PARENT_REMOTE_ID\": \"b326e2e9-1e3e-466d-9060-7ed025149bd2\",\n",
      "        \"REMOTE_ID\": \"27e6d105-4303-4a60-b1f1-3b2a787ff154\",\n",
      "        \"ARGUMENTS\": {\n",
      "            \"args\": [],\n",
      "            \"kwargs\": {}\n",
      "        }\n",
      "    },\n",
      "    {\n",
      "        \"type\": \"CREATE\",\n",
      "        \"REMOTE_ID\": \"6d266870-2bb5-4130-8097-f704c87a045b\",\n",
      "        \"parameters\": {\n",
      "            \"BC_class_name\": \"BaseDataset\",\n",
      "            \"args\": [],\n",
      "            \"kwargs\": {\n",
      "                \"data\": \",Smiles,pChEMBL Value\\n0,CC1=CC(C)(C)Nc2c...\",\n",
      "                \"structure_col\": \"Smiles\",\n",
      "                \"property_col\": \"pChEMBL Value\",\n",
      "                \"name\": null,\n",
      "                \"feature_cols\": [],\n",
      "                \"date_col\": null,\n",
      "                \"log\": true\n",
      "            }\n",
      "        }\n",
      "    },\n",
      "    {\n",
      "        \"type\": \"CREATE\",\n",
      "        \"REMOTE_ID\": \"4f6e6d3f-7a25-42e0-9daf-c8a38e189d0d\",\n",
      "        \"parameters\": {\n",
      "            \"BC_class_name\": \"RandomSplit\",\n",
      "            \"args\": [],\n",
      "            \"kwargs\": {\n",
      "                \"log\": true\n",
      "            }\n",
      "        }\n",
      "    },\n",
      "    {\n",
      "        \"type\": \"SYMBOL\",\n",
      "        \"PARENT_REMOTE_ID\": \"4f6e6d3f-7a25-42e0-9daf-c8a38e189d0d\",\n",
      "        \"SYMBOL_NAME\": \"transform\",\n",
      "        \"REMOTE_ID\": \"2e170a47-92a8-43d9-852b-4eae5575e0eb\"\n",
      "    },\n",
      "    {\n",
      "        \"type\": \"CALL\",\n",
      "        \"PARENT_REMOTE_ID\": \"2e170a47-92a8-43d9-852b-4eae5575e0eb\",\n",
      "        \"REMOTE_ID\": \"41a8f1b5-1490-4f40-94e2-280357c97933\",\n",
      "        \"ARGUMENTS\": {\n",
      "            \"args\": [\n",
      "                {\n",
      "                    \"REMOTE_ID\": \"6d266870-2bb5-4130-8097-f704c87a045b\"\n",
      "                }\n",
      "            ],\n",
      "            \"kwargs\": {}\n",
      "        }\n",
      "    }\n",
      "]\n"
     ]
    },
    {
     "ename": "KeyboardInterrupt",
     "evalue": "",
     "output_type": "error",
     "traceback": [
      "\u001b[0;31m---------------------------------------------------------------------------\u001b[0m",
      "\u001b[0;31mKeyboardInterrupt\u001b[0m                         Traceback (most recent call last)",
      "Cell \u001b[0;32mIn [2], line 3\u001b[0m\n\u001b[1;32m      1\u001b[0m \u001b[39mimport\u001b[39;00m \u001b[39molorenchemengine\u001b[39;00m \u001b[39mas\u001b[39;00m \u001b[39moce\u001b[39;00m\n\u001b[0;32m----> 3\u001b[0m dataset \u001b[39m=\u001b[39m oce\u001b[39m.\u001b[39mExampleDataset()\n\u001b[1;32m      4\u001b[0m \u001b[39mwith\u001b[39;00m oce\u001b[39m.\u001b[39mRemote(debug\u001b[39m=\u001b[39m\u001b[39mTrue\u001b[39;00m) \u001b[39mas\u001b[39;00m sid:\n\u001b[1;32m      5\u001b[0m     model \u001b[39m=\u001b[39m oce\u001b[39m.\u001b[39mBaseBoosting(\n\u001b[1;32m      6\u001b[0m         [\n\u001b[1;32m      7\u001b[0m             oce\u001b[39m.\u001b[39mRandomForestModel(oce\u001b[39m.\u001b[39mDescriptastorusDescriptor(\u001b[39m\"\u001b[39m\u001b[39mrdkit2dnormalized\u001b[39m\u001b[39m\"\u001b[39m), n_estimators\u001b[39m=\u001b[39m\u001b[39m1000\u001b[39m),\n\u001b[1;32m      8\u001b[0m             oce\u001b[39m.\u001b[39mRandomForestModel(oce\u001b[39m.\u001b[39mOlorenCheckpoint(\u001b[39m\"\u001b[39m\u001b[39mdefault\u001b[39m\u001b[39m\"\u001b[39m), n_estimators\u001b[39m=\u001b[39m\u001b[39m1000\u001b[39m),\n\u001b[1;32m      9\u001b[0m         ]\n\u001b[1;32m     10\u001b[0m     )\n",
      "File \u001b[0;32m~/Documents/Projects/oce_online/oce-online/src/olorenchemengine/__init__.py:123\u001b[0m, in \u001b[0;36mExampleDataset\u001b[0;34m()\u001b[0m\n\u001b[1;32m    121\u001b[0m \u001b[39mdef\u001b[39;00m \u001b[39mExampleDataset\u001b[39m():\n\u001b[1;32m    122\u001b[0m     dataset \u001b[39m=\u001b[39m (\n\u001b[0;32m--> 123\u001b[0m         BaseDataset(data\u001b[39m=\u001b[39;49mExampleDataFrame()\u001b[39m.\u001b[39;49mto_csv(), structure_col\u001b[39m=\u001b[39;49m\u001b[39m\"\u001b[39;49m\u001b[39mSmiles\u001b[39;49m\u001b[39m\"\u001b[39;49m, property_col\u001b[39m=\u001b[39;49m\u001b[39m\"\u001b[39;49m\u001b[39mpChEMBL Value\u001b[39;49m\u001b[39m\"\u001b[39;49m)\n\u001b[1;32m    124\u001b[0m         \u001b[39m+\u001b[39;49m RandomSplit()\n\u001b[1;32m    125\u001b[0m     )\n\u001b[1;32m    126\u001b[0m     \u001b[39mreturn\u001b[39;00m dataset\n",
      "File \u001b[0;32m~/Documents/Projects/oce_online/oce-online/src/olorenchemengine/dataset.py:170\u001b[0m, in \u001b[0;36mfunc\u001b[0;34m(self, other)\u001b[0m\n\u001b[1;32m    169\u001b[0m \u001b[39mdef\u001b[39;00m \u001b[39mfunc\u001b[39m(\u001b[39mself\u001b[39m: BaseDataset, other: BaseDatasetTransform) \u001b[39m-\u001b[39m\u001b[39m>\u001b[39m BaseDataset:\n\u001b[0;32m--> 170\u001b[0m     \u001b[39mreturn\u001b[39;00m other\u001b[39m.\u001b[39;49mtransform(\u001b[39mself\u001b[39;49m)\n",
      "File \u001b[0;32m~/Documents/Projects/oce_online/oce-online/src/olorenchemengine/internal.py:521\u001b[0m, in \u001b[0;36mBaseRemoteSymbol.__call__\u001b[0;34m(self, *args, **kwargs)\u001b[0m\n\u001b[1;32m    520\u001b[0m \u001b[39mdef\u001b[39;00m \u001b[39m__call__\u001b[39m(\u001b[39mself\u001b[39m, \u001b[39m*\u001b[39margs, \u001b[39m*\u001b[39m\u001b[39m*\u001b[39mkwargs):\n\u001b[0;32m--> 521\u001b[0m     \u001b[39mreturn\u001b[39;00m BaseRemoteSymbol(\u001b[39m\"\u001b[39;49m\u001b[39mCALL\u001b[39;49m\u001b[39m\"\u001b[39;49m, \u001b[39mself\u001b[39;49m, args\u001b[39m=\u001b[39;49margs, kwargs\u001b[39m=\u001b[39;49mkwargs)\n",
      "File \u001b[0;32m~/Documents/Projects/oce_online/oce-online/src/olorenchemengine/internal.py:229\u001b[0m, in \u001b[0;36mlog_arguments.<locals>.wrapper\u001b[0;34m(self, *args, **kwargs)\u001b[0m\n\u001b[1;32m    227\u001b[0m \u001b[39mif\u001b[39;00m \u001b[39m\"\u001b[39m\u001b[39mBaseRemoteSymbol\u001b[39m\u001b[39m\"\u001b[39m \u001b[39min\u001b[39;00m \u001b[39mstr\u001b[39m(\u001b[39mtype\u001b[39m(\u001b[39mself\u001b[39m)):\n\u001b[1;32m    228\u001b[0m     \u001b[39mself\u001b[39m\u001b[39m.\u001b[39mREMOTE_ID \u001b[39m=\u001b[39m REMOTE_ID\n\u001b[0;32m--> 229\u001b[0m     \u001b[39mreturn\u001b[39;00m func(\u001b[39mself\u001b[39;49m, \u001b[39m*\u001b[39;49margs, \u001b[39m*\u001b[39;49m\u001b[39m*\u001b[39;49mkwargs)\n\u001b[1;32m    231\u001b[0m _runtime\u001b[39m.\u001b[39madd_instruction(\n\u001b[1;32m    232\u001b[0m     {\n\u001b[1;32m    233\u001b[0m         \u001b[39m\"\u001b[39m\u001b[39mtype\u001b[39m\u001b[39m\"\u001b[39m: \u001b[39m\"\u001b[39m\u001b[39mCREATE\u001b[39m\u001b[39m\"\u001b[39m,\n\u001b[0;32m   (...)\u001b[0m\n\u001b[1;32m    236\u001b[0m     }\n\u001b[1;32m    237\u001b[0m )\n\u001b[1;32m    238\u001b[0m \u001b[39mself\u001b[39m\u001b[39m.\u001b[39mREMOTE_ID \u001b[39m=\u001b[39m REMOTE_ID\n",
      "File \u001b[0;32m~/Documents/Projects/oce_online/oce-online/src/olorenchemengine/internal.py:440\u001b[0m, in \u001b[0;36mBaseRemoteSymbol.__init__\u001b[0;34m(self, REMOTE_SYMBOL_NAME, REMOTE_PARENT, args, kwargs)\u001b[0m\n\u001b[1;32m    437\u001b[0m \u001b[39mself\u001b[39m\u001b[39m.\u001b[39mREMOTE_CHILDREN \u001b[39m=\u001b[39m {}\n\u001b[1;32m    439\u001b[0m \u001b[39mif\u001b[39;00m REMOTE_SYMBOL_NAME \u001b[39m==\u001b[39m \u001b[39m\"\u001b[39m\u001b[39mCALL\u001b[39m\u001b[39m\"\u001b[39m:\n\u001b[0;32m--> 440\u001b[0m     out \u001b[39m=\u001b[39m _runtime\u001b[39m.\u001b[39;49madd_instruction(\n\u001b[1;32m    441\u001b[0m         {\n\u001b[1;32m    442\u001b[0m             \u001b[39m\"\u001b[39;49m\u001b[39mtype\u001b[39;49m\u001b[39m\"\u001b[39;49m: \u001b[39m\"\u001b[39;49m\u001b[39mCALL\u001b[39;49m\u001b[39m\"\u001b[39;49m,\n\u001b[1;32m    443\u001b[0m             \u001b[39m\"\u001b[39;49m\u001b[39mPARENT_REMOTE_ID\u001b[39;49m\u001b[39m\"\u001b[39;49m: \u001b[39mself\u001b[39;49m\u001b[39m.\u001b[39;49mREMOTE_PARENT\u001b[39m.\u001b[39;49mREMOTE_ID,\n\u001b[1;32m    444\u001b[0m             \u001b[39m\"\u001b[39;49m\u001b[39mREMOTE_ID\u001b[39;49m\u001b[39m\"\u001b[39;49m: \u001b[39mself\u001b[39;49m\u001b[39m.\u001b[39;49mREMOTE_ID,\n\u001b[1;32m    445\u001b[0m             \u001b[39m\"\u001b[39;49m\u001b[39mARGUMENTS\u001b[39;49m\u001b[39m\"\u001b[39;49m: parametrize_args_kwargs(args, kwargs),\n\u001b[1;32m    446\u001b[0m         }\n\u001b[1;32m    447\u001b[0m     )\n\u001b[1;32m    449\u001b[0m     \u001b[39mif\u001b[39;00m \u001b[39mself\u001b[39m\u001b[39m.\u001b[39mREMOTE_PARENT\u001b[39m.\u001b[39mREMOTE_SYMBOL_NAME \u001b[39m==\u001b[39m \u001b[39m\"\u001b[39m\u001b[39mrender_ipynb\u001b[39m\u001b[39m\"\u001b[39m:\n\u001b[1;32m    450\u001b[0m         \u001b[39mfrom\u001b[39;00m \u001b[39mIPython\u001b[39;00m\u001b[39m.\u001b[39;00m\u001b[39mdisplay\u001b[39;00m \u001b[39mimport\u001b[39;00m IFrame, display\n",
      "File \u001b[0;32m~/Documents/Projects/oce_online/oce-online/src/olorenchemengine/internal.py:282\u001b[0m, in \u001b[0;36m_RemoteRuntime.add_instruction\u001b[0;34m(self, instruction)\u001b[0m\n\u001b[1;32m    280\u001b[0m \u001b[39mself\u001b[39m\u001b[39m.\u001b[39minstruction_buffer\u001b[39m.\u001b[39mappend(instruction)\n\u001b[1;32m    281\u001b[0m \u001b[39mif\u001b[39;00m instruction[\u001b[39m\"\u001b[39m\u001b[39mtype\u001b[39m\u001b[39m\"\u001b[39m] \u001b[39m==\u001b[39m \u001b[39m\"\u001b[39m\u001b[39mCALL\u001b[39m\u001b[39m\"\u001b[39m:\n\u001b[0;32m--> 282\u001b[0m     x \u001b[39m=\u001b[39m \u001b[39mself\u001b[39;49m\u001b[39m.\u001b[39;49msend_instructions_blocking()\n\u001b[1;32m    283\u001b[0m     \u001b[39mif\u001b[39;00m x \u001b[39mis\u001b[39;00m \u001b[39mnot\u001b[39;00m \u001b[39mNone\u001b[39;00m \u001b[39mand\u001b[39;00m \u001b[39misinstance\u001b[39m(x, \u001b[39mstr\u001b[39m):\n\u001b[1;32m    284\u001b[0m         \u001b[39mreturn\u001b[39;00m json\u001b[39m.\u001b[39mloads(x)\n",
      "File \u001b[0;32m~/Documents/Projects/oce_online/oce-online/src/olorenchemengine/internal.py:302\u001b[0m, in \u001b[0;36m_RemoteRuntime.send_instructions_blocking\u001b[0;34m(self)\u001b[0m\n\u001b[1;32m    298\u001b[0m     \u001b[39mprint\u001b[39m(json\u001b[39m.\u001b[39mdumps(_truncate_json(\u001b[39mself\u001b[39m\u001b[39m.\u001b[39minstruction_buffer), indent\u001b[39m=\u001b[39m\u001b[39m4\u001b[39m))\n\u001b[1;32m    300\u001b[0m \u001b[39mimport\u001b[39;00m \u001b[39mrequests\u001b[39;00m\n\u001b[0;32m--> 302\u001b[0m response \u001b[39m=\u001b[39m requests\u001b[39m.\u001b[39;49mpost(\n\u001b[1;32m    303\u001b[0m     \u001b[39m\"\u001b[39;49m\u001b[39mhttp://3.145.106.119:8000/firestore/run_remote/\u001b[39;49m\u001b[39m\"\u001b[39;49m,\n\u001b[1;32m    304\u001b[0m     params\u001b[39m=\u001b[39;49m{\n\u001b[1;32m    305\u001b[0m         \u001b[39m\"\u001b[39;49m\u001b[39minstructions\u001b[39;49m\u001b[39m\"\u001b[39;49m: json\u001b[39m.\u001b[39;49mdumps(\u001b[39mself\u001b[39;49m\u001b[39m.\u001b[39;49minstruction_buffer),\n\u001b[1;32m    306\u001b[0m         \u001b[39m\"\u001b[39;49m\u001b[39muid\u001b[39;49m\u001b[39m\"\u001b[39;49m: oas_connector\u001b[39m.\u001b[39;49mauthenticate(),\n\u001b[1;32m    307\u001b[0m         \u001b[39m\"\u001b[39;49m\u001b[39msid\u001b[39;49m\u001b[39m\"\u001b[39;49m: \u001b[39mself\u001b[39;49m\u001b[39m.\u001b[39;49msession_id,\n\u001b[1;32m    308\u001b[0m     },\n\u001b[1;32m    309\u001b[0m     headers\u001b[39m=\u001b[39;49m{\n\u001b[1;32m    310\u001b[0m         \u001b[39m\"\u001b[39;49m\u001b[39maccept\u001b[39;49m\u001b[39m\"\u001b[39;49m: \u001b[39m\"\u001b[39;49m\u001b[39mapplication/json\u001b[39;49m\u001b[39m\"\u001b[39;49m,\n\u001b[1;32m    311\u001b[0m         \u001b[39m\"\u001b[39;49m\u001b[39mcontent-type\u001b[39;49m\u001b[39m\"\u001b[39;49m: \u001b[39m\"\u001b[39;49m\u001b[39mapplication/x-www-form-urlencoded\u001b[39;49m\u001b[39m\"\u001b[39;49m,\n\u001b[1;32m    312\u001b[0m     },\n\u001b[1;32m    313\u001b[0m )\n\u001b[1;32m    315\u001b[0m response \u001b[39m=\u001b[39m response\u001b[39m.\u001b[39mjson()\n\u001b[1;32m    317\u001b[0m eid \u001b[39m=\u001b[39m response[\u001b[39m\"\u001b[39m\u001b[39mdata\u001b[39m\u001b[39m\"\u001b[39m]\n",
      "File \u001b[0;32m~/anaconda3/envs/oce-simple/lib/python3.8/site-packages/requests/api.py:115\u001b[0m, in \u001b[0;36mpost\u001b[0;34m(url, data, json, **kwargs)\u001b[0m\n\u001b[1;32m    103\u001b[0m \u001b[39mdef\u001b[39;00m \u001b[39mpost\u001b[39m(url, data\u001b[39m=\u001b[39m\u001b[39mNone\u001b[39;00m, json\u001b[39m=\u001b[39m\u001b[39mNone\u001b[39;00m, \u001b[39m*\u001b[39m\u001b[39m*\u001b[39mkwargs):\n\u001b[1;32m    104\u001b[0m     \u001b[39mr\u001b[39m\u001b[39m\"\"\"Sends a POST request.\u001b[39;00m\n\u001b[1;32m    105\u001b[0m \n\u001b[1;32m    106\u001b[0m \u001b[39m    :param url: URL for the new :class:`Request` object.\u001b[39;00m\n\u001b[0;32m   (...)\u001b[0m\n\u001b[1;32m    112\u001b[0m \u001b[39m    :rtype: requests.Response\u001b[39;00m\n\u001b[1;32m    113\u001b[0m \u001b[39m    \"\"\"\u001b[39;00m\n\u001b[0;32m--> 115\u001b[0m     \u001b[39mreturn\u001b[39;00m request(\u001b[39m\"\u001b[39;49m\u001b[39mpost\u001b[39;49m\u001b[39m\"\u001b[39;49m, url, data\u001b[39m=\u001b[39;49mdata, json\u001b[39m=\u001b[39;49mjson, \u001b[39m*\u001b[39;49m\u001b[39m*\u001b[39;49mkwargs)\n",
      "File \u001b[0;32m~/anaconda3/envs/oce-simple/lib/python3.8/site-packages/requests/api.py:59\u001b[0m, in \u001b[0;36mrequest\u001b[0;34m(method, url, **kwargs)\u001b[0m\n\u001b[1;32m     55\u001b[0m \u001b[39m# By using the 'with' statement we are sure the session is closed, thus we\u001b[39;00m\n\u001b[1;32m     56\u001b[0m \u001b[39m# avoid leaving sockets open which can trigger a ResourceWarning in some\u001b[39;00m\n\u001b[1;32m     57\u001b[0m \u001b[39m# cases, and look like a memory leak in others.\u001b[39;00m\n\u001b[1;32m     58\u001b[0m \u001b[39mwith\u001b[39;00m sessions\u001b[39m.\u001b[39mSession() \u001b[39mas\u001b[39;00m session:\n\u001b[0;32m---> 59\u001b[0m     \u001b[39mreturn\u001b[39;00m session\u001b[39m.\u001b[39;49mrequest(method\u001b[39m=\u001b[39;49mmethod, url\u001b[39m=\u001b[39;49murl, \u001b[39m*\u001b[39;49m\u001b[39m*\u001b[39;49mkwargs)\n",
      "File \u001b[0;32m~/anaconda3/envs/oce-simple/lib/python3.8/site-packages/requests/sessions.py:587\u001b[0m, in \u001b[0;36mSession.request\u001b[0;34m(self, method, url, params, data, headers, cookies, files, auth, timeout, allow_redirects, proxies, hooks, stream, verify, cert, json)\u001b[0m\n\u001b[1;32m    582\u001b[0m send_kwargs \u001b[39m=\u001b[39m {\n\u001b[1;32m    583\u001b[0m     \u001b[39m\"\u001b[39m\u001b[39mtimeout\u001b[39m\u001b[39m\"\u001b[39m: timeout,\n\u001b[1;32m    584\u001b[0m     \u001b[39m\"\u001b[39m\u001b[39mallow_redirects\u001b[39m\u001b[39m\"\u001b[39m: allow_redirects,\n\u001b[1;32m    585\u001b[0m }\n\u001b[1;32m    586\u001b[0m send_kwargs\u001b[39m.\u001b[39mupdate(settings)\n\u001b[0;32m--> 587\u001b[0m resp \u001b[39m=\u001b[39m \u001b[39mself\u001b[39;49m\u001b[39m.\u001b[39;49msend(prep, \u001b[39m*\u001b[39;49m\u001b[39m*\u001b[39;49msend_kwargs)\n\u001b[1;32m    589\u001b[0m \u001b[39mreturn\u001b[39;00m resp\n",
      "File \u001b[0;32m~/anaconda3/envs/oce-simple/lib/python3.8/site-packages/requests/sessions.py:701\u001b[0m, in \u001b[0;36mSession.send\u001b[0;34m(self, request, **kwargs)\u001b[0m\n\u001b[1;32m    698\u001b[0m start \u001b[39m=\u001b[39m preferred_clock()\n\u001b[1;32m    700\u001b[0m \u001b[39m# Send the request\u001b[39;00m\n\u001b[0;32m--> 701\u001b[0m r \u001b[39m=\u001b[39m adapter\u001b[39m.\u001b[39;49msend(request, \u001b[39m*\u001b[39;49m\u001b[39m*\u001b[39;49mkwargs)\n\u001b[1;32m    703\u001b[0m \u001b[39m# Total elapsed time of the request (approximately)\u001b[39;00m\n\u001b[1;32m    704\u001b[0m elapsed \u001b[39m=\u001b[39m preferred_clock() \u001b[39m-\u001b[39m start\n",
      "File \u001b[0;32m~/anaconda3/envs/oce-simple/lib/python3.8/site-packages/requests/adapters.py:489\u001b[0m, in \u001b[0;36mHTTPAdapter.send\u001b[0;34m(self, request, stream, timeout, verify, cert, proxies)\u001b[0m\n\u001b[1;32m    487\u001b[0m \u001b[39mtry\u001b[39;00m:\n\u001b[1;32m    488\u001b[0m     \u001b[39mif\u001b[39;00m \u001b[39mnot\u001b[39;00m chunked:\n\u001b[0;32m--> 489\u001b[0m         resp \u001b[39m=\u001b[39m conn\u001b[39m.\u001b[39;49murlopen(\n\u001b[1;32m    490\u001b[0m             method\u001b[39m=\u001b[39;49mrequest\u001b[39m.\u001b[39;49mmethod,\n\u001b[1;32m    491\u001b[0m             url\u001b[39m=\u001b[39;49murl,\n\u001b[1;32m    492\u001b[0m             body\u001b[39m=\u001b[39;49mrequest\u001b[39m.\u001b[39;49mbody,\n\u001b[1;32m    493\u001b[0m             headers\u001b[39m=\u001b[39;49mrequest\u001b[39m.\u001b[39;49mheaders,\n\u001b[1;32m    494\u001b[0m             redirect\u001b[39m=\u001b[39;49m\u001b[39mFalse\u001b[39;49;00m,\n\u001b[1;32m    495\u001b[0m             assert_same_host\u001b[39m=\u001b[39;49m\u001b[39mFalse\u001b[39;49;00m,\n\u001b[1;32m    496\u001b[0m             preload_content\u001b[39m=\u001b[39;49m\u001b[39mFalse\u001b[39;49;00m,\n\u001b[1;32m    497\u001b[0m             decode_content\u001b[39m=\u001b[39;49m\u001b[39mFalse\u001b[39;49;00m,\n\u001b[1;32m    498\u001b[0m             retries\u001b[39m=\u001b[39;49m\u001b[39mself\u001b[39;49m\u001b[39m.\u001b[39;49mmax_retries,\n\u001b[1;32m    499\u001b[0m             timeout\u001b[39m=\u001b[39;49mtimeout,\n\u001b[1;32m    500\u001b[0m         )\n\u001b[1;32m    502\u001b[0m     \u001b[39m# Send the request.\u001b[39;00m\n\u001b[1;32m    503\u001b[0m     \u001b[39melse\u001b[39;00m:\n\u001b[1;32m    504\u001b[0m         \u001b[39mif\u001b[39;00m \u001b[39mhasattr\u001b[39m(conn, \u001b[39m\"\u001b[39m\u001b[39mproxy_pool\u001b[39m\u001b[39m\"\u001b[39m):\n",
      "File \u001b[0;32m~/anaconda3/envs/oce-simple/lib/python3.8/site-packages/urllib3/connectionpool.py:703\u001b[0m, in \u001b[0;36mHTTPConnectionPool.urlopen\u001b[0;34m(self, method, url, body, headers, retries, redirect, assert_same_host, timeout, pool_timeout, release_conn, chunked, body_pos, **response_kw)\u001b[0m\n\u001b[1;32m    700\u001b[0m     \u001b[39mself\u001b[39m\u001b[39m.\u001b[39m_prepare_proxy(conn)\n\u001b[1;32m    702\u001b[0m \u001b[39m# Make the request on the httplib connection object.\u001b[39;00m\n\u001b[0;32m--> 703\u001b[0m httplib_response \u001b[39m=\u001b[39m \u001b[39mself\u001b[39;49m\u001b[39m.\u001b[39;49m_make_request(\n\u001b[1;32m    704\u001b[0m     conn,\n\u001b[1;32m    705\u001b[0m     method,\n\u001b[1;32m    706\u001b[0m     url,\n\u001b[1;32m    707\u001b[0m     timeout\u001b[39m=\u001b[39;49mtimeout_obj,\n\u001b[1;32m    708\u001b[0m     body\u001b[39m=\u001b[39;49mbody,\n\u001b[1;32m    709\u001b[0m     headers\u001b[39m=\u001b[39;49mheaders,\n\u001b[1;32m    710\u001b[0m     chunked\u001b[39m=\u001b[39;49mchunked,\n\u001b[1;32m    711\u001b[0m )\n\u001b[1;32m    713\u001b[0m \u001b[39m# If we're going to release the connection in ``finally:``, then\u001b[39;00m\n\u001b[1;32m    714\u001b[0m \u001b[39m# the response doesn't need to know about the connection. Otherwise\u001b[39;00m\n\u001b[1;32m    715\u001b[0m \u001b[39m# it will also try to release it and we'll have a double-release\u001b[39;00m\n\u001b[1;32m    716\u001b[0m \u001b[39m# mess.\u001b[39;00m\n\u001b[1;32m    717\u001b[0m response_conn \u001b[39m=\u001b[39m conn \u001b[39mif\u001b[39;00m \u001b[39mnot\u001b[39;00m release_conn \u001b[39melse\u001b[39;00m \u001b[39mNone\u001b[39;00m\n",
      "File \u001b[0;32m~/anaconda3/envs/oce-simple/lib/python3.8/site-packages/urllib3/connectionpool.py:398\u001b[0m, in \u001b[0;36mHTTPConnectionPool._make_request\u001b[0;34m(self, conn, method, url, timeout, chunked, **httplib_request_kw)\u001b[0m\n\u001b[1;32m    396\u001b[0m         conn\u001b[39m.\u001b[39mrequest_chunked(method, url, \u001b[39m*\u001b[39m\u001b[39m*\u001b[39mhttplib_request_kw)\n\u001b[1;32m    397\u001b[0m     \u001b[39melse\u001b[39;00m:\n\u001b[0;32m--> 398\u001b[0m         conn\u001b[39m.\u001b[39;49mrequest(method, url, \u001b[39m*\u001b[39;49m\u001b[39m*\u001b[39;49mhttplib_request_kw)\n\u001b[1;32m    400\u001b[0m \u001b[39m# We are swallowing BrokenPipeError (errno.EPIPE) since the server is\u001b[39;00m\n\u001b[1;32m    401\u001b[0m \u001b[39m# legitimately able to close the connection after sending a valid response.\u001b[39;00m\n\u001b[1;32m    402\u001b[0m \u001b[39m# With this behaviour, the received response is still readable.\u001b[39;00m\n\u001b[1;32m    403\u001b[0m \u001b[39mexcept\u001b[39;00m \u001b[39mBrokenPipeError\u001b[39;00m:\n\u001b[1;32m    404\u001b[0m     \u001b[39m# Python 3\u001b[39;00m\n",
      "File \u001b[0;32m~/anaconda3/envs/oce-simple/lib/python3.8/site-packages/urllib3/connection.py:239\u001b[0m, in \u001b[0;36mHTTPConnection.request\u001b[0;34m(self, method, url, body, headers)\u001b[0m\n\u001b[1;32m    237\u001b[0m \u001b[39mif\u001b[39;00m \u001b[39m\"\u001b[39m\u001b[39muser-agent\u001b[39m\u001b[39m\"\u001b[39m \u001b[39mnot\u001b[39;00m \u001b[39min\u001b[39;00m (six\u001b[39m.\u001b[39mensure_str(k\u001b[39m.\u001b[39mlower()) \u001b[39mfor\u001b[39;00m k \u001b[39min\u001b[39;00m headers):\n\u001b[1;32m    238\u001b[0m     headers[\u001b[39m\"\u001b[39m\u001b[39mUser-Agent\u001b[39m\u001b[39m\"\u001b[39m] \u001b[39m=\u001b[39m _get_default_user_agent()\n\u001b[0;32m--> 239\u001b[0m \u001b[39msuper\u001b[39;49m(HTTPConnection, \u001b[39mself\u001b[39;49m)\u001b[39m.\u001b[39;49mrequest(method, url, body\u001b[39m=\u001b[39;49mbody, headers\u001b[39m=\u001b[39;49mheaders)\n",
      "File \u001b[0;32m~/anaconda3/envs/oce-simple/lib/python3.8/http/client.py:1256\u001b[0m, in \u001b[0;36mHTTPConnection.request\u001b[0;34m(self, method, url, body, headers, encode_chunked)\u001b[0m\n\u001b[1;32m   1253\u001b[0m \u001b[39mdef\u001b[39;00m \u001b[39mrequest\u001b[39m(\u001b[39mself\u001b[39m, method, url, body\u001b[39m=\u001b[39m\u001b[39mNone\u001b[39;00m, headers\u001b[39m=\u001b[39m{}, \u001b[39m*\u001b[39m,\n\u001b[1;32m   1254\u001b[0m             encode_chunked\u001b[39m=\u001b[39m\u001b[39mFalse\u001b[39;00m):\n\u001b[1;32m   1255\u001b[0m     \u001b[39m\"\"\"Send a complete request to the server.\"\"\"\u001b[39;00m\n\u001b[0;32m-> 1256\u001b[0m     \u001b[39mself\u001b[39;49m\u001b[39m.\u001b[39;49m_send_request(method, url, body, headers, encode_chunked)\n",
      "File \u001b[0;32m~/anaconda3/envs/oce-simple/lib/python3.8/http/client.py:1302\u001b[0m, in \u001b[0;36mHTTPConnection._send_request\u001b[0;34m(self, method, url, body, headers, encode_chunked)\u001b[0m\n\u001b[1;32m   1298\u001b[0m \u001b[39mif\u001b[39;00m \u001b[39misinstance\u001b[39m(body, \u001b[39mstr\u001b[39m):\n\u001b[1;32m   1299\u001b[0m     \u001b[39m# RFC 2616 Section 3.7.1 says that text default has a\u001b[39;00m\n\u001b[1;32m   1300\u001b[0m     \u001b[39m# default charset of iso-8859-1.\u001b[39;00m\n\u001b[1;32m   1301\u001b[0m     body \u001b[39m=\u001b[39m _encode(body, \u001b[39m'\u001b[39m\u001b[39mbody\u001b[39m\u001b[39m'\u001b[39m)\n\u001b[0;32m-> 1302\u001b[0m \u001b[39mself\u001b[39;49m\u001b[39m.\u001b[39;49mendheaders(body, encode_chunked\u001b[39m=\u001b[39;49mencode_chunked)\n",
      "File \u001b[0;32m~/anaconda3/envs/oce-simple/lib/python3.8/http/client.py:1251\u001b[0m, in \u001b[0;36mHTTPConnection.endheaders\u001b[0;34m(self, message_body, encode_chunked)\u001b[0m\n\u001b[1;32m   1249\u001b[0m \u001b[39melse\u001b[39;00m:\n\u001b[1;32m   1250\u001b[0m     \u001b[39mraise\u001b[39;00m CannotSendHeader()\n\u001b[0;32m-> 1251\u001b[0m \u001b[39mself\u001b[39;49m\u001b[39m.\u001b[39;49m_send_output(message_body, encode_chunked\u001b[39m=\u001b[39;49mencode_chunked)\n",
      "File \u001b[0;32m~/anaconda3/envs/oce-simple/lib/python3.8/http/client.py:1011\u001b[0m, in \u001b[0;36mHTTPConnection._send_output\u001b[0;34m(self, message_body, encode_chunked)\u001b[0m\n\u001b[1;32m   1009\u001b[0m msg \u001b[39m=\u001b[39m \u001b[39mb\u001b[39m\u001b[39m\"\u001b[39m\u001b[39m\\r\u001b[39;00m\u001b[39m\\n\u001b[39;00m\u001b[39m\"\u001b[39m\u001b[39m.\u001b[39mjoin(\u001b[39mself\u001b[39m\u001b[39m.\u001b[39m_buffer)\n\u001b[1;32m   1010\u001b[0m \u001b[39mdel\u001b[39;00m \u001b[39mself\u001b[39m\u001b[39m.\u001b[39m_buffer[:]\n\u001b[0;32m-> 1011\u001b[0m \u001b[39mself\u001b[39;49m\u001b[39m.\u001b[39;49msend(msg)\n\u001b[1;32m   1013\u001b[0m \u001b[39mif\u001b[39;00m message_body \u001b[39mis\u001b[39;00m \u001b[39mnot\u001b[39;00m \u001b[39mNone\u001b[39;00m:\n\u001b[1;32m   1014\u001b[0m \n\u001b[1;32m   1015\u001b[0m     \u001b[39m# create a consistent interface to message_body\u001b[39;00m\n\u001b[1;32m   1016\u001b[0m     \u001b[39mif\u001b[39;00m \u001b[39mhasattr\u001b[39m(message_body, \u001b[39m'\u001b[39m\u001b[39mread\u001b[39m\u001b[39m'\u001b[39m):\n\u001b[1;32m   1017\u001b[0m         \u001b[39m# Let file-like take precedence over byte-like.  This\u001b[39;00m\n\u001b[1;32m   1018\u001b[0m         \u001b[39m# is needed to allow the current position of mmap'ed\u001b[39;00m\n\u001b[1;32m   1019\u001b[0m         \u001b[39m# files to be taken into account.\u001b[39;00m\n",
      "File \u001b[0;32m~/anaconda3/envs/oce-simple/lib/python3.8/http/client.py:951\u001b[0m, in \u001b[0;36mHTTPConnection.send\u001b[0;34m(self, data)\u001b[0m\n\u001b[1;32m    949\u001b[0m \u001b[39mif\u001b[39;00m \u001b[39mself\u001b[39m\u001b[39m.\u001b[39msock \u001b[39mis\u001b[39;00m \u001b[39mNone\u001b[39;00m:\n\u001b[1;32m    950\u001b[0m     \u001b[39mif\u001b[39;00m \u001b[39mself\u001b[39m\u001b[39m.\u001b[39mauto_open:\n\u001b[0;32m--> 951\u001b[0m         \u001b[39mself\u001b[39;49m\u001b[39m.\u001b[39;49mconnect()\n\u001b[1;32m    952\u001b[0m     \u001b[39melse\u001b[39;00m:\n\u001b[1;32m    953\u001b[0m         \u001b[39mraise\u001b[39;00m NotConnected()\n",
      "File \u001b[0;32m~/anaconda3/envs/oce-simple/lib/python3.8/site-packages/urllib3/connection.py:205\u001b[0m, in \u001b[0;36mHTTPConnection.connect\u001b[0;34m(self)\u001b[0m\n\u001b[1;32m    204\u001b[0m \u001b[39mdef\u001b[39;00m \u001b[39mconnect\u001b[39m(\u001b[39mself\u001b[39m):\n\u001b[0;32m--> 205\u001b[0m     conn \u001b[39m=\u001b[39m \u001b[39mself\u001b[39;49m\u001b[39m.\u001b[39;49m_new_conn()\n\u001b[1;32m    206\u001b[0m     \u001b[39mself\u001b[39m\u001b[39m.\u001b[39m_prepare_conn(conn)\n",
      "File \u001b[0;32m~/anaconda3/envs/oce-simple/lib/python3.8/site-packages/urllib3/connection.py:174\u001b[0m, in \u001b[0;36mHTTPConnection._new_conn\u001b[0;34m(self)\u001b[0m\n\u001b[1;32m    171\u001b[0m     extra_kw[\u001b[39m\"\u001b[39m\u001b[39msocket_options\u001b[39m\u001b[39m\"\u001b[39m] \u001b[39m=\u001b[39m \u001b[39mself\u001b[39m\u001b[39m.\u001b[39msocket_options\n\u001b[1;32m    173\u001b[0m \u001b[39mtry\u001b[39;00m:\n\u001b[0;32m--> 174\u001b[0m     conn \u001b[39m=\u001b[39m connection\u001b[39m.\u001b[39;49mcreate_connection(\n\u001b[1;32m    175\u001b[0m         (\u001b[39mself\u001b[39;49m\u001b[39m.\u001b[39;49m_dns_host, \u001b[39mself\u001b[39;49m\u001b[39m.\u001b[39;49mport), \u001b[39mself\u001b[39;49m\u001b[39m.\u001b[39;49mtimeout, \u001b[39m*\u001b[39;49m\u001b[39m*\u001b[39;49mextra_kw\n\u001b[1;32m    176\u001b[0m     )\n\u001b[1;32m    178\u001b[0m \u001b[39mexcept\u001b[39;00m SocketTimeout:\n\u001b[1;32m    179\u001b[0m     \u001b[39mraise\u001b[39;00m ConnectTimeoutError(\n\u001b[1;32m    180\u001b[0m         \u001b[39mself\u001b[39m,\n\u001b[1;32m    181\u001b[0m         \u001b[39m\"\u001b[39m\u001b[39mConnection to \u001b[39m\u001b[39m%s\u001b[39;00m\u001b[39m timed out. (connect timeout=\u001b[39m\u001b[39m%s\u001b[39;00m\u001b[39m)\u001b[39m\u001b[39m\"\u001b[39m\n\u001b[1;32m    182\u001b[0m         \u001b[39m%\u001b[39m (\u001b[39mself\u001b[39m\u001b[39m.\u001b[39mhost, \u001b[39mself\u001b[39m\u001b[39m.\u001b[39mtimeout),\n\u001b[1;32m    183\u001b[0m     )\n",
      "File \u001b[0;32m~/anaconda3/envs/oce-simple/lib/python3.8/site-packages/urllib3/util/connection.py:85\u001b[0m, in \u001b[0;36mcreate_connection\u001b[0;34m(address, timeout, source_address, socket_options)\u001b[0m\n\u001b[1;32m     83\u001b[0m     \u001b[39mif\u001b[39;00m source_address:\n\u001b[1;32m     84\u001b[0m         sock\u001b[39m.\u001b[39mbind(source_address)\n\u001b[0;32m---> 85\u001b[0m     sock\u001b[39m.\u001b[39;49mconnect(sa)\n\u001b[1;32m     86\u001b[0m     \u001b[39mreturn\u001b[39;00m sock\n\u001b[1;32m     88\u001b[0m \u001b[39mexcept\u001b[39;00m socket\u001b[39m.\u001b[39merror \u001b[39mas\u001b[39;00m e:\n",
      "\u001b[0;31mKeyboardInterrupt\u001b[0m: "
     ]
    }
   ],
   "source": [
    "import olorenchemengine as oce\n",
    "\n",
    "dataset = oce.ExampleDataset()\n",
    "with oce.Remote(debug=True) as sid:\n",
    "    model = oce.BaseBoosting(\n",
    "        [\n",
    "            oce.RandomForestModel(oce.DescriptastorusDescriptor(\"rdkit2dnormalized\"), n_estimators=1000),\n",
    "            oce.RandomForestModel(oce.OlorenCheckpoint(\"default\"), n_estimators=1000),\n",
    "        ]\n",
    "    )\n",
    "    model.fit(*dataset.train_dataset)\n",
    "\n",
    "    vis = oce.ChemicalSpacePlot(dataset, oce.DescriptastorusDescriptor(\"morgan3counts\"), opacity=0.4, dim_reduction=\"tsne\")\n",
    "    vis.render_ipynb()"
   ]
  },
  {
   "cell_type": "code",
   "execution_count": null,
   "metadata": {},
   "outputs": [],
   "source": [
    "import olorenchemengine as oce\n",
    "\n",
    "dataset = oce.ExampleDataset()\n",
    "with oce.Remote(\"http://api.oloren.ai:5000\", debug=True) as sid:\n",
    "    model = oce.BaseBoosting(\n",
    "        [\n",
    "            oce.RandomForestModel(oce.DescriptastorusDescriptor(\"rdkit2dnormalized\"), n_estimators=1000),\n",
    "            oce.RandomForestModel(oce.OlorenCheckpoint(\"default\"), n_estimators=1000),\n",
    "        ]\n",
    "    )\n",
    "    model.fit(*dataset.train_dataset)"
   ]
  },
  {
   "cell_type": "code",
   "execution_count": null,
   "metadata": {},
   "outputs": [],
   "source": [
    "import olorenchemengine as oce\n",
    "\n",
    "# oce.runtime.change_runtime(\"server\")\n",
    "\n",
    "with oce.Remote(\"192.18\") as sid:\n",
    "   \n",
    "    model = oce.BaseBoosting(\n",
    "        [\n",
    "            oce.RandomForestModel(oce.DescriptastorusDescriptor(\"rdkit2dnormalized\"), n_estimators=1000),\n",
    "            oce.RandomForestModel(oce.OlorenCheckpoint(\"default\"), n_estimators=1000),\n",
    "        ]\n",
    "    )\n",
    "    model.fit(*dataset.train_dataset)\n",
    "    vis = oce.ChemicalSpacePlot(dataset, oce.DescriptastorusDescriptor(\"morgan3counts\"), opacity=0.4, dim_reduction=\"tsne\")\n",
    "    vis.render_ipynb()\n",
    "    print(vis.render_data_url())\n",
    "\n",
    "print(sid)"
   ]
  },
  {
   "cell_type": "code",
   "execution_count": null,
   "metadata": {},
   "outputs": [],
   "source": [
    "x._repr_html_()"
   ]
  },
  {
   "cell_type": "code",
   "execution_count": null,
   "metadata": {},
   "outputs": [],
   "source": []
  },
  {
   "cell_type": "code",
   "execution_count": null,
   "metadata": {},
   "outputs": [],
   "source": [
    "dir(x.REMOTE_IPYNB.__repr__html)"
   ]
  },
  {
   "cell_type": "code",
   "execution_count": null,
   "metadata": {},
   "outputs": [],
   "source": [
    "x"
   ]
  },
  {
   "cell_type": "code",
   "execution_count": null,
   "metadata": {},
   "outputs": [],
   "source": [
    "def true_repr(x):\n",
    "    type_ = type(x)\n",
    "    module = type_.__module__\n",
    "    qualname = type_.__qualname__\n",
    "    return f\"{module}.{qualname}\"\n",
    "\n",
    "print()"
   ]
  },
  {
   "cell_type": "code",
   "execution_count": null,
   "metadata": {},
   "outputs": [],
   "source": []
  }
 ],
 "metadata": {
  "kernelspec": {
   "display_name": "Python 3.8.13 ('oce-simple')",
   "language": "python",
   "name": "python3"
  },
  "language_info": {
   "codemirror_mode": {
    "name": "ipython",
    "version": 3
   },
   "file_extension": ".py",
   "mimetype": "text/x-python",
   "name": "python",
   "nbconvert_exporter": "python",
   "pygments_lexer": "ipython3",
   "version": "3.8.13"
  },
  "orig_nbformat": 4,
  "vscode": {
   "interpreter": {
    "hash": "cedbf81c86601aba4a696fe86da861ed7ff4d0ddc5eaf4dacff48455d1686233"
   }
  }
 },
 "nbformat": 4,
 "nbformat_minor": 2
}
